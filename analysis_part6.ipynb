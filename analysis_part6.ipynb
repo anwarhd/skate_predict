{
 "cells": [
  {
   "cell_type": "code",
   "execution_count": 1,
   "metadata": {},
   "outputs": [],
   "source": [
    "import pandas as pd\n",
    "import numpy as np\n",
    "from math import sqrt, ceil\n",
    "from timeit import timeit, Timer"
   ]
  },
  {
   "cell_type": "code",
   "execution_count": 2,
   "metadata": {},
   "outputs": [],
   "source": [
    "import matplotlib.pyplot as plt\n",
    "import matplotlib as mpl\n",
    "from matplotlib import rc\n",
    "import seaborn as sns\n",
    "from matplotlib.animation import FuncAnimation\n",
    "from matplotlib.patches import ConnectionPatch\n",
    "import matplotlib.animation as animation\n",
    "\n",
    "rc('text', usetex=False)\n",
    "plt.style.use('seaborn')\n",
    "%matplotlib inline\n",
    "\n",
    "legend_opts = {\n",
    "    'fontsize':12,\n",
    "    'frameon':True, \n",
    "    'framealpha':1,\n",
    "    'facecolor':'white',\n",
    "    'edgecolor':'black',\n",
    "    'labelspacing':0.1}"
   ]
  },
  {
   "cell_type": "code",
   "execution_count": 30,
   "metadata": {},
   "outputs": [
    {
     "name": "stdout",
     "output_type": "stream",
     "text": [
      "The autoreload extension is already loaded. To reload it, use:\n",
      "  %reload_ext autoreload\n"
     ]
    }
   ],
   "source": [
    "%load_ext autoreload\n",
    "%aimport utils\n",
    "%autoreload 1\n",
    "from utils import *"
   ]
  },
  {
   "cell_type": "markdown",
   "metadata": {},
   "source": [
    "# Load data"
   ]
  },
  {
   "cell_type": "code",
   "execution_count": 4,
   "metadata": {},
   "outputs": [],
   "source": [
    "male_scores = pd.read_csv('scores/trimmed_male.csv')\n",
    "female_scores = pd.read_csv('scores/trimmed_female.csv')"
   ]
  },
  {
   "cell_type": "code",
   "execution_count": 8,
   "metadata": {},
   "outputs": [
    {
     "data": {
      "text/plain": [
       "([2005, 2006, 2007, 2009, 2010, 2012, 2013, 2014, 2016, 2017],\n",
       " [2008, 2011, 2015, 2018])"
      ]
     },
     "execution_count": 8,
     "metadata": {},
     "output_type": "execute_result"
    }
   ],
   "source": [
    "# Randomly choose 10 years for training set, and remaining 4 years for test set\n",
    "# (which must include the last year 2018 for visualisation purpose)\n",
    "all_years = range(2005, 2019)\n",
    "years_before_last = range(2005, 2018)\n",
    "year_seed = np.random.RandomState(seed=42)\n",
    "train_years = sorted(list(year_seed.choice(years_before_last, size=10, replace=False)))\n",
    "test_years = sorted([year for year in years_before_last if year not in train_years] + [2018])\n",
    "train_years, test_years"
   ]
  },
  {
   "cell_type": "code",
   "execution_count": 9,
   "metadata": {},
   "outputs": [],
   "source": [
    "all_season_scores = male_scores.loc[male_scores['event']!='WR']\n",
    "all_world_scores = male_scores.loc[male_scores['event']=='WR']"
   ]
  },
  {
   "cell_type": "code",
   "execution_count": 10,
   "metadata": {},
   "outputs": [
    {
     "data": {
      "text/plain": [
       "([2016, 2006, 2012, 2005, 2014], [2007, 2009, 2010, 2013, 2017])"
      ]
     },
     "execution_count": 10,
     "metadata": {},
     "output_type": "execute_result"
    }
   ],
   "source": [
    "# Split 10 years into train and validation set\n",
    "random_state = np.random.RandomState(seed=42)\n",
    "years1 = list(random_state.choice(train_years, size=5, replace=False))\n",
    "years2 = [year for year in train_years if year not in years1]\n",
    "years1, years2"
   ]
  },
  {
   "cell_type": "markdown",
   "metadata": {},
   "source": [
    "# Predict ranking in training set from different methods"
   ]
  },
  {
   "cell_type": "markdown",
   "metadata": {},
   "source": [
    "## Male"
   ]
  },
  {
   "cell_type": "code",
   "execution_count": 51,
   "metadata": {},
   "outputs": [],
   "source": [
    "beta1 = np.load('data/beta1.npy')\n",
    "beta2 = np.load('data/beta2.npy')"
   ]
  },
  {
   "cell_type": "markdown",
   "metadata": {},
   "source": [
    "Average"
   ]
  },
  {
   "cell_type": "code",
   "execution_count": 118,
   "metadata": {
    "scrolled": true
   },
   "outputs": [
    {
     "name": "stdout",
     "output_type": "stream",
     "text": [
      "Alpha: 0.0005, Iter: 46, Last RMSE: 8.63, Delta RMSE: -0.0010916085\n",
      "Factor: 0, Alpha: 0.0005, Iter: 35, Last RMSE: 8.662, Delta RMSE: -0.0080908948\n",
      "Factor: 1, Alpha: 0.0005, Iter: 35, Last RMSE: 8.605, Delta RMSE: -0.0024092949\n",
      "Factor: 2, Alpha: 0.0005, Iter: 35, Last RMSE: 8.519, Delta RMSE: -0.0036599525\n",
      "Factor: 3, Alpha: 0.0005, Iter: 35, Last RMSE: 8.518, Delta RMSE: -0.000746563\n",
      "Alpha: 0.0005, Iter: 46, Last RMSE: 7.96, Delta RMSE: -0.0009913676\n",
      "Factor: 0, Alpha: 0.0005, Iter: 35, Last RMSE: 7.999, Delta RMSE: -0.007749829\n",
      "Factor: 1, Alpha: 0.0005, Iter: 35, Last RMSE: 7.986, Delta RMSE: -0.0006821397\n",
      "Factor: 2, Alpha: 0.0005, Iter: 35, Last RMSE: 7.957, Delta RMSE: -0.0011246966\n",
      "Factor: 3, Alpha: 0.0005, Iter: 35, Last RMSE: 7.931, Delta RMSE: -0.0010131301\n",
      "Alpha: 0.0005, Iter: 46, Last RMSE: 7.62, Delta RMSE: -0.0015000168\n",
      "Factor: 0, Alpha: 0.0005, Iter: 35, Last RMSE: 7.679, Delta RMSE: -0.0133247831\n",
      "Factor: 1, Alpha: 0.0005, Iter: 35, Last RMSE: 7.67, Delta RMSE: -0.0005301796\n",
      "Factor: 2, Alpha: 0.0005, Iter: 35, Last RMSE: 7.663, Delta RMSE: -0.000679466\n",
      "Factor: 3, Alpha: 0.0005, Iter: 35, Last RMSE: 7.622, Delta RMSE: -0.0025093041\n",
      "Alpha: 0.0005, Iter: 46, Last RMSE: 8.19, Delta RMSE: -0.0011684784\n",
      "Factor: 0, Alpha: 0.0005, Iter: 35, Last RMSE: 8.227, Delta RMSE: -0.0081094179\n",
      "Factor: 1, Alpha: 0.0005, Iter: 35, Last RMSE: 8.174, Delta RMSE: -0.0022480153\n",
      "Factor: 2, Alpha: 0.0005, Iter: 35, Last RMSE: 8.155, Delta RMSE: -0.0009950669\n",
      "Factor: 3, Alpha: 0.0005, Iter: 35, Last RMSE: 8.156, Delta RMSE: -0.0002658324\n",
      "Alpha: 0.0005, Iter: 46, Last RMSE: 9.74, Delta RMSE: -0.0002059523\n",
      "Factor: 0, Alpha: 0.0005, Iter: 35, Last RMSE: 9.749, Delta RMSE: -0.0024887824\n",
      "Factor: 1, Alpha: 0.0005, Iter: 35, Last RMSE: 9.732, Delta RMSE: -0.0009542372\n",
      "Factor: 2, Alpha: 0.0005, Iter: 35, Last RMSE: 9.643, Delta RMSE: -0.0040834296\n",
      "Factor: 3, Alpha: 0.0005, Iter: 35, Last RMSE: 9.606, Delta RMSE: -0.0016911736\n",
      "Alpha: 0.0005, Iter: 46, Last RMSE: 8.31, Delta RMSE: -0.0015389791\n",
      "Factor: 0, Alpha: 0.0005, Iter: 35, Last RMSE: 8.382, Delta RMSE: -0.0155885481\n",
      "Factor: 1, Alpha: 0.0005, Iter: 35, Last RMSE: 8.353, Delta RMSE: -0.0009052541\n",
      "Factor: 2, Alpha: 0.0005, Iter: 35, Last RMSE: 8.323, Delta RMSE: -0.0013255725\n",
      "Factor: 3, Alpha: 0.0005, Iter: 35, Last RMSE: 8.305, Delta RMSE: -0.0006082238\n",
      "Alpha: 0.0005, Iter: 46, Last RMSE: 8.92, Delta RMSE: -0.0004802563\n",
      "Factor: 0, Alpha: 0.0005, Iter: 35, Last RMSE: 8.945, Delta RMSE: -0.00820237\n",
      "Factor: 1, Alpha: 0.0005, Iter: 35, Last RMSE: 8.918, Delta RMSE: -0.0014516174\n",
      "Factor: 2, Alpha: 0.0005, Iter: 35, Last RMSE: 8.902, Delta RMSE: -0.0008187859\n",
      "Factor: 3, Alpha: 0.0005, Iter: 35, Last RMSE: 8.879, Delta RMSE: -0.0007949047\n",
      "Alpha: 0.0005, Iter: 46, Last RMSE: 8.8, Delta RMSE: -0.0010733665\n",
      "Factor: 0, Alpha: 0.0005, Iter: 35, Last RMSE: 8.847, Delta RMSE: -0.0089871693\n",
      "Factor: 1, Alpha: 0.0005, Iter: 35, Last RMSE: 8.814, Delta RMSE: -0.0014880656\n",
      "Factor: 2, Alpha: 0.0005, Iter: 35, Last RMSE: 8.79, Delta RMSE: -0.0013156967\n",
      "Factor: 3, Alpha: 0.0005, Iter: 35, Last RMSE: 8.775, Delta RMSE: -0.00089049\n",
      "Alpha: 0.0005, Iter: 46, Last RMSE: 10.98, Delta RMSE: -4.09158e-05\n",
      "Factor: 0, Alpha: 0.0005, Iter: 35, Last RMSE: 10.983, Delta RMSE: -0.0010950823\n",
      "Factor: 1, Alpha: 0.0005, Iter: 35, Last RMSE: 10.923, Delta RMSE: -0.0038132545\n",
      "Factor: 2, Alpha: 0.0005, Iter: 35, Last RMSE: 10.859, Delta RMSE: -0.0031820011\n",
      "Factor: 3, Alpha: 0.0005, Iter: 35, Last RMSE: 10.778, Delta RMSE: -0.0057964043\n",
      "Alpha: 0.0005, Iter: 46, Last RMSE: 8.86, Delta RMSE: -0.0003194061\n",
      "Factor: 0, Alpha: 0.0005, Iter: 35, Last RMSE: 8.871, Delta RMSE: -0.0020925243\n",
      "Factor: 1, Alpha: 0.0005, Iter: 35, Last RMSE: 8.861, Delta RMSE: -0.0004265281\n",
      "Factor: 2, Alpha: 0.0005, Iter: 35, Last RMSE: 8.836, Delta RMSE: -0.0016416719\n",
      "Factor: 3, Alpha: 0.0005, Iter: 35, Last RMSE: 8.784, Delta RMSE: -0.0022976621\n"
     ]
    }
   ],
   "source": [
    "all_skater_scores = {}\n",
    "for year in train_years:\n",
    "    yearly_skater_scores = []\n",
    "    season_scores, world_scores = get_yearly_scores(year, all_season_scores, all_world_scores)\n",
    "\n",
    "    avg = AverageScore()\n",
    "    avg.fit(season_scores)\n",
    "    yearly_skater_scores.append(avg.skater_scores.reindex(world_scores.index).dropna())\n",
    "\n",
    "    add = Linear()\n",
    "    add.fit(season_scores)\n",
    "    yearly_skater_scores.append(add.skater_scores.reindex(world_scores.index).dropna())\n",
    "\n",
    "    mul = LogLinear()\n",
    "    mul.fit(season_scores)\n",
    "    yearly_skater_scores.append(mul.skater_scores.reindex(world_scores.index).dropna())\n",
    "\n",
    "    _, _, skater_scores = train_multi(season_scores, n_factors=1, alpha=0.0005, n_iter=47)\n",
    "    skater_scores = skater_scores.squeeze().reindex(world_scores.index).dropna()\n",
    "    yearly_skater_scores.append(skater_scores)\n",
    "\n",
    "    _, _, skater_scores = train_sequential_multi(season_scores, n_factors=4, alpha=0.0005, n_iter=35)\n",
    "    skater_scores = (skater_scores @ beta1).reindex(world_scores.index).dropna()\n",
    "    yearly_skater_scores.append(skater_scores)\n",
    "    \n",
    "    yearly_skater_scores = pd.concat(yearly_skater_scores, axis=1)\n",
    "    yearly_skater_scores.columns = ['avg', 'add', 'mul', 'hyb', 'multi']\n",
    "    all_skater_scores[year] = yearly_skater_scores"
   ]
  },
  {
   "cell_type": "code",
   "execution_count": 119,
   "metadata": {},
   "outputs": [
    {
     "data": {
      "text/html": [
       "<div>\n",
       "<style scoped>\n",
       "    .dataframe tbody tr th:only-of-type {\n",
       "        vertical-align: middle;\n",
       "    }\n",
       "\n",
       "    .dataframe tbody tr th {\n",
       "        vertical-align: top;\n",
       "    }\n",
       "\n",
       "    .dataframe thead th {\n",
       "        text-align: right;\n",
       "    }\n",
       "</style>\n",
       "<table border=\"1\" class=\"dataframe\">\n",
       "  <thead>\n",
       "    <tr style=\"text-align: right;\">\n",
       "      <th></th>\n",
       "      <th>avg</th>\n",
       "      <th>add</th>\n",
       "      <th>mul</th>\n",
       "      <th>hyb</th>\n",
       "      <th>multi</th>\n",
       "    </tr>\n",
       "    <tr>\n",
       "      <th>name</th>\n",
       "      <th></th>\n",
       "      <th></th>\n",
       "      <th></th>\n",
       "      <th></th>\n",
       "      <th></th>\n",
       "    </tr>\n",
       "  </thead>\n",
       "  <tbody>\n",
       "    <tr>\n",
       "      <th>Stephane, LAMBIEL</th>\n",
       "      <td>196.470000</td>\n",
       "      <td>109.731448</td>\n",
       "      <td>2.298033</td>\n",
       "      <td>7.396454</td>\n",
       "      <td>13.495678</td>\n",
       "    </tr>\n",
       "    <tr>\n",
       "      <th>Jeffrey, BUTTLE</th>\n",
       "      <td>206.566667</td>\n",
       "      <td>130.148900</td>\n",
       "      <td>2.579010</td>\n",
       "      <td>8.881744</td>\n",
       "      <td>16.285082</td>\n",
       "    </tr>\n",
       "    <tr>\n",
       "      <th>Evan, LYSACEK</th>\n",
       "      <td>177.116667</td>\n",
       "      <td>100.220900</td>\n",
       "      <td>2.185489</td>\n",
       "      <td>7.016066</td>\n",
       "      <td>12.987351</td>\n",
       "    </tr>\n",
       "    <tr>\n",
       "      <th>Johnny, WEIR</th>\n",
       "      <td>212.113333</td>\n",
       "      <td>134.286965</td>\n",
       "      <td>2.613022</td>\n",
       "      <td>9.181933</td>\n",
       "      <td>16.779091</td>\n",
       "    </tr>\n",
       "    <tr>\n",
       "      <th>Chengjiang, LI</th>\n",
       "      <td>196.087500</td>\n",
       "      <td>113.586450</td>\n",
       "      <td>2.359024</td>\n",
       "      <td>7.782148</td>\n",
       "      <td>14.319629</td>\n",
       "    </tr>\n",
       "    <tr>\n",
       "      <th>Brian, JOUBERT</th>\n",
       "      <td>202.642500</td>\n",
       "      <td>127.310793</td>\n",
       "      <td>2.534848</td>\n",
       "      <td>8.737669</td>\n",
       "      <td>16.140595</td>\n",
       "    </tr>\n",
       "    <tr>\n",
       "      <th>Emanuel, SANDHU</th>\n",
       "      <td>189.623333</td>\n",
       "      <td>117.296638</td>\n",
       "      <td>2.417828</td>\n",
       "      <td>8.096663</td>\n",
       "      <td>15.053905</td>\n",
       "    </tr>\n",
       "    <tr>\n",
       "      <th>Kevin, VAN DER PERREN</th>\n",
       "      <td>188.965000</td>\n",
       "      <td>110.906654</td>\n",
       "      <td>2.331865</td>\n",
       "      <td>7.533844</td>\n",
       "      <td>13.861783</td>\n",
       "    </tr>\n",
       "    <tr>\n",
       "      <th>Frederic, DAMBIER</th>\n",
       "      <td>176.326667</td>\n",
       "      <td>95.684756</td>\n",
       "      <td>2.128268</td>\n",
       "      <td>6.659239</td>\n",
       "      <td>12.141046</td>\n",
       "    </tr>\n",
       "    <tr>\n",
       "      <th>Timothy, GOEBEL</th>\n",
       "      <td>208.280000</td>\n",
       "      <td>122.470961</td>\n",
       "      <td>2.455402</td>\n",
       "      <td>8.290080</td>\n",
       "      <td>14.874947</td>\n",
       "    </tr>\n",
       "    <tr>\n",
       "      <th>Andrei, GRIAZEV</th>\n",
       "      <td>181.435000</td>\n",
       "      <td>98.375238</td>\n",
       "      <td>2.158056</td>\n",
       "      <td>6.826006</td>\n",
       "      <td>12.513129</td>\n",
       "    </tr>\n",
       "    <tr>\n",
       "      <th>Stefan, LINDEMANN</th>\n",
       "      <td>180.665000</td>\n",
       "      <td>104.748668</td>\n",
       "      <td>2.247864</td>\n",
       "      <td>7.245020</td>\n",
       "      <td>13.277139</td>\n",
       "    </tr>\n",
       "    <tr>\n",
       "      <th>Ivan, DINEV</th>\n",
       "      <td>156.155000</td>\n",
       "      <td>81.729300</td>\n",
       "      <td>1.966326</td>\n",
       "      <td>5.703593</td>\n",
       "      <td>10.580636</td>\n",
       "    </tr>\n",
       "    <tr>\n",
       "      <th>Kristoffer, BERNTSSON</th>\n",
       "      <td>166.700000</td>\n",
       "      <td>79.961448</td>\n",
       "      <td>1.949825</td>\n",
       "      <td>5.630445</td>\n",
       "      <td>10.240228</td>\n",
       "    </tr>\n",
       "    <tr>\n",
       "      <th>Daisuke, TAKAHASHI</th>\n",
       "      <td>163.995000</td>\n",
       "      <td>87.690453</td>\n",
       "      <td>2.008577</td>\n",
       "      <td>6.279540</td>\n",
       "      <td>11.629438</td>\n",
       "    </tr>\n",
       "    <tr>\n",
       "      <th>Min, ZHANG</th>\n",
       "      <td>178.623333</td>\n",
       "      <td>97.202241</td>\n",
       "      <td>2.151027</td>\n",
       "      <td>6.770471</td>\n",
       "      <td>12.475576</td>\n",
       "    </tr>\n",
       "    <tr>\n",
       "      <th>Gheorghe, CHIPER</th>\n",
       "      <td>154.740000</td>\n",
       "      <td>79.938071</td>\n",
       "      <td>1.922735</td>\n",
       "      <td>5.597597</td>\n",
       "      <td>10.191719</td>\n",
       "    </tr>\n",
       "    <tr>\n",
       "      <th>Roman, SEROV</th>\n",
       "      <td>168.590000</td>\n",
       "      <td>91.727560</td>\n",
       "      <td>2.088251</td>\n",
       "      <td>6.255385</td>\n",
       "      <td>11.488643</td>\n",
       "    </tr>\n",
       "    <tr>\n",
       "      <th>Jamal, OTHMAN</th>\n",
       "      <td>163.480000</td>\n",
       "      <td>76.741448</td>\n",
       "      <td>1.912162</td>\n",
       "      <td>5.438620</td>\n",
       "      <td>10.005720</td>\n",
       "    </tr>\n",
       "    <tr>\n",
       "      <th>Sergei, DAVYDOV</th>\n",
       "      <td>161.040000</td>\n",
       "      <td>77.980238</td>\n",
       "      <td>1.921763</td>\n",
       "      <td>5.529970</td>\n",
       "      <td>10.217151</td>\n",
       "    </tr>\n",
       "    <tr>\n",
       "      <th>Viktor, PFEIFER</th>\n",
       "      <td>148.060000</td>\n",
       "      <td>61.321448</td>\n",
       "      <td>1.731800</td>\n",
       "      <td>4.524348</td>\n",
       "      <td>8.320880</td>\n",
       "    </tr>\n",
       "  </tbody>\n",
       "</table>\n",
       "</div>"
      ],
      "text/plain": [
       "                              avg         add       mul       hyb      multi\n",
       "name                                                                        \n",
       "Stephane, LAMBIEL      196.470000  109.731448  2.298033  7.396454  13.495678\n",
       "Jeffrey, BUTTLE        206.566667  130.148900  2.579010  8.881744  16.285082\n",
       "Evan, LYSACEK          177.116667  100.220900  2.185489  7.016066  12.987351\n",
       "Johnny, WEIR           212.113333  134.286965  2.613022  9.181933  16.779091\n",
       "Chengjiang, LI         196.087500  113.586450  2.359024  7.782148  14.319629\n",
       "Brian, JOUBERT         202.642500  127.310793  2.534848  8.737669  16.140595\n",
       "Emanuel, SANDHU        189.623333  117.296638  2.417828  8.096663  15.053905\n",
       "Kevin, VAN DER PERREN  188.965000  110.906654  2.331865  7.533844  13.861783\n",
       "Frederic, DAMBIER      176.326667   95.684756  2.128268  6.659239  12.141046\n",
       "Timothy, GOEBEL        208.280000  122.470961  2.455402  8.290080  14.874947\n",
       "Andrei, GRIAZEV        181.435000   98.375238  2.158056  6.826006  12.513129\n",
       "Stefan, LINDEMANN      180.665000  104.748668  2.247864  7.245020  13.277139\n",
       "Ivan, DINEV            156.155000   81.729300  1.966326  5.703593  10.580636\n",
       "Kristoffer, BERNTSSON  166.700000   79.961448  1.949825  5.630445  10.240228\n",
       "Daisuke, TAKAHASHI     163.995000   87.690453  2.008577  6.279540  11.629438\n",
       "Min, ZHANG             178.623333   97.202241  2.151027  6.770471  12.475576\n",
       "Gheorghe, CHIPER       154.740000   79.938071  1.922735  5.597597  10.191719\n",
       "Roman, SEROV           168.590000   91.727560  2.088251  6.255385  11.488643\n",
       "Jamal, OTHMAN          163.480000   76.741448  1.912162  5.438620  10.005720\n",
       "Sergei, DAVYDOV        161.040000   77.980238  1.921763  5.529970  10.217151\n",
       "Viktor, PFEIFER        148.060000   61.321448  1.731800  4.524348   8.320880"
      ]
     },
     "execution_count": 119,
     "metadata": {},
     "output_type": "execute_result"
    }
   ],
   "source": [
    "all_skater_scores[2005]"
   ]
  }
 ],
 "metadata": {
  "kernelspec": {
   "display_name": "Python 3",
   "language": "python",
   "name": "python3"
  },
  "language_info": {
   "codemirror_mode": {
    "name": "ipython",
    "version": 3
   },
   "file_extension": ".py",
   "mimetype": "text/x-python",
   "name": "python",
   "nbconvert_exporter": "python",
   "pygments_lexer": "ipython3",
   "version": "3.6.5"
  }
 },
 "nbformat": 4,
 "nbformat_minor": 2
}
