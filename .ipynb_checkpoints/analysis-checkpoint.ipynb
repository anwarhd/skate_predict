{
 "cells": [
  {
   "cell_type": "code",
   "execution_count": 1,
   "metadata": {},
   "outputs": [
    {
     "data": {
      "text/plain": [
       "[<matplotlib.lines.Line2D at 0x7f3183526c88>]"
      ]
     },
     "execution_count": 1,
     "metadata": {},
     "output_type": "execute_result"
    },
    {
     "data": {
      "image/png": "[encoded data removed]",
      "text/plain": [
       "<Figure size 432x288 with 1 Axes>"
      ]
     },
     "metadata": {},
     "output_type": "display_data"
    }
   ],
   "source": [
    "import matplotlib.pyplot as plt\n",
    "%matplotlib inline\n",
    "\n",
    "plt.plot([1, 2, 3])"
   ]
  },
  {
   "cell_type": "code",
   "execution_count": 2,
   "metadata": {},
   "outputs": [],
   "source": [
    "from bs4 import BeautifulSoup"
   ]
  },
  {
   "cell_type": "code",
   "execution_count": 3,
   "metadata": {},
   "outputs": [],
   "source": [
    "from urllib.request import urlopen"
   ]
  },
  {
   "cell_type": "code",
   "execution_count": 4,
   "metadata": {},
   "outputs": [],
   "source": [
    "import pandas as pd\n",
    "import numpy as np\n",
    "from sklearn.linear_model import LinearRegression\n",
    "from itertools import combinations\n",
    "from scipy.stats import kendalltau\n",
    "from batchlog import BatchLogistic"
   ]
  },
  {
   "cell_type": "markdown",
   "metadata": {},
   "source": [
    "## Scrap scores from result pages"
   ]
  },
  {
   "cell_type": "code",
   "execution_count": 5,
   "metadata": {},
   "outputs": [],
   "source": [
    "links = {\n",
    "    'US': 'http://www.isuresults.com/results/season1718/gpusa2017/CAT001RS.HTM',\n",
    "    'CA': 'http://www.isuresults.com/results/season1718/gpcan2017/CAT001RS.HTM',\n",
    "    'FR': 'http://www.isuresults.com/results/season1718/gpfra2017/CAT001RS.HTM',\n",
    "    'RU': 'http://www.isuresults.com/results/season1718/gprus2017/CAT001RS.HTM',\n",
    "    'CN': 'http://www.isuresults.com/results/season1718/gpchn2017/CAT001RS.HTM',\n",
    "    'JP': 'http://www.isuresults.com/results/season1718/gpjpn2017/data0190.htm',\n",
    "    'EU': 'http://www.isuresults.com/results/season1718/ec2018/CAT001RS.HTM',\n",
    "    '4C': 'http://www.isuresults.com/results/season1718/fc2018/CAT001RS.HTM',\n",
    "    'WR': 'http://www.isuresults.com/results/season1718/wc2018/CAT001RS.HTM'\n",
    "}"
   ]
  },
  {
   "cell_type": "code",
   "execution_count": 6,
   "metadata": {},
   "outputs": [],
   "source": [
    "def parse_score(link, event_name, year):\n",
    "    html = urlopen(link)\n",
    "    bs = BeautifulSoup(html.read(), 'html.parser')\n",
    "\n",
    "    table_str = str(bs.findAll('table')[0])\n",
    "    table = pd.read_html(table_str)[0]\n",
    "    if year == 2017 and event_name == 'JP':\n",
    "        table = table[[1, 5]].dropna().iloc[1:-1]\n",
    "    else:\n",
    "        table = table[[1, 6, 8]].dropna().iloc[2:, :2]\n",
    "    table.columns = ['name', 'score']\n",
    "    table['event'] = event_name\n",
    "    table['score'] = table['score'].astype(float)\n",
    "    table['year'] = year\n",
    "    return table"
   ]
  },
  {
   "cell_type": "code",
   "execution_count": 7,
   "metadata": {},
   "outputs": [],
   "source": [
    "# scores = pd.concat((parse_score(link, event_name, 2017) for event_name, link in links.items()), axis=0)\n",
    "# scores['name'] = scores['name'].str.replace('\\xa0', ' ')\n",
    "# scores.reset_index(drop=True, inplace=True)\n",
    "scores = pd.read_csv('scores/2017.csv', names=['name', 'score', 'event', 'year'])"
   ]
  },
  {
   "cell_type": "code",
   "execution_count": 8,
   "metadata": {},
   "outputs": [],
   "source": [
    "season_scores = scores.loc[scores['event'] != 'WR'].copy()\n",
    "world_scores = scores.loc[scores['event'] == 'WR', ['name', 'score']].set_index('name').squeeze()"
   ]
  },
  {
   "cell_type": "markdown",
   "metadata": {},
   "source": [
    "## Implement kendall tau metrics"
   ]
  },
  {
   "cell_type": "code",
   "execution_count": 9,
   "metadata": {},
   "outputs": [],
   "source": [
    "def return_ranking(skater_scores, world_scores):\n",
    "    skater_scores = skater_scores.sort_values(ascending=False)\n",
    "    world_scores = world_scores.sort_values(ascending=False)\n",
    "    skater_ranking = list(skater_scores.index.intersection(world_scores.index))\n",
    "    world_ranking = list(world_scores.index.intersection(skater_scores.index))\n",
    "    return skater_ranking, world_ranking"
   ]
  },
  {
   "cell_type": "code",
   "execution_count": 10,
   "metadata": {},
   "outputs": [],
   "source": [
    "def calculate_kendall_tau(skater_ranking, world_ranking, verbose=True):\n",
    "    skater_pairs = set(combinations(skater_ranking, 2))\n",
    "    world_pairs = set(combinations(world_ranking, 2))\n",
    "    n_pairs = len(skater_pairs)\n",
    "    n_concordant_pairs = len(set(skater_pairs) & set(world_pairs))\n",
    "    print(f'There are {n_concordant_pairs} concordant_pairs out of {n_pairs} pairs')\n",
    "    tau = (2 * n_concordant_pairs - n_pairs) / n_pairs\n",
    "    return tau "
   ]
  },
  {
   "cell_type": "markdown",
   "metadata": {},
   "source": [
    "## Skater mean model"
   ]
  },
  {
   "cell_type": "code",
   "execution_count": 11,
   "metadata": {
    "scrolled": false
   },
   "outputs": [
    {
     "data": {
      "text/plain": [
       "name\n",
       "Shoma UNO           290.786667\n",
       "Yuzuru HANYU        290.770000\n",
       "Nathan CHEN         284.835000\n",
       "Javier FERNANDEZ    277.440000\n",
       "Boyang JIN          270.486667\n",
       "Name: score, dtype: float64"
      ]
     },
     "execution_count": 11,
     "metadata": {},
     "output_type": "execute_result"
    }
   ],
   "source": [
    "season_avg = season_scores.groupby('name')['score'].mean().sort_values(ascending=False)\n",
    "season_avg.head()"
   ]
  },
  {
   "cell_type": "code",
   "execution_count": 12,
   "metadata": {},
   "outputs": [
    {
     "name": "stdout",
     "output_type": "stream",
     "text": [
      "There are 213 concordant_pairs out of 276 pairs\n"
     ]
    },
    {
     "data": {
      "text/plain": [
       "0.5434782608695652"
      ]
     },
     "execution_count": 12,
     "metadata": {},
     "output_type": "execute_result"
    }
   ],
   "source": [
    "skater_ranking_avg, world_ranking = return_ranking(season_avg, world_scores)\n",
    "calculate_kendall_tau(skater_ranking_avg, world_ranking)"
   ]
  },
  {
   "cell_type": "markdown",
   "metadata": {},
   "source": [
    "Result agrees with kendalltau from scipy"
   ]
  },
  {
   "cell_type": "code",
   "execution_count": 13,
   "metadata": {},
   "outputs": [
    {
     "data": {
      "text/plain": [
       "KendalltauResult(correlation=0.5434782608695652, pvalue=0.00019870245032364205)"
      ]
     },
     "execution_count": 13,
     "metadata": {},
     "output_type": "execute_result"
    }
   ],
   "source": [
    "season_numeric_rank = list(range(len(skater_ranking_avg)))\n",
    "world_numeric_rank = [skater_ranking_avg.index(skater) for skater in world_ranking]\n",
    "kendalltau(season_numeric_rank, world_numeric_rank)"
   ]
  },
  {
   "cell_type": "markdown",
   "metadata": {},
   "source": [
    "RMSE with mean model"
   ]
  },
  {
   "cell_type": "code",
   "execution_count": 14,
   "metadata": {},
   "outputs": [
    {
     "data": {
      "text/plain": [
       "10.099364225465914"
      ]
     },
     "execution_count": 14,
     "metadata": {},
     "output_type": "execute_result"
    }
   ],
   "source": [
    "score_comparison = pd.merge(season_scores, season_avg.to_frame(), left_on='name', right_index=True, suffixes=['', '_avg'])\n",
    "score_comparison['sq_error'] = (score_comparison['score'] - score_comparison['score_avg'])**2\n",
    "np.sqrt(score_comparison['sq_error'].mean())"
   ]
  },
  {
   "cell_type": "markdown",
   "metadata": {},
   "source": [
    "## Normalized mean model"
   ]
  },
  {
   "cell_type": "code",
   "execution_count": 15,
   "metadata": {
    "scrolled": true
   },
   "outputs": [],
   "source": [
    "season_scores['score_normed'] = season_scores.groupby('event')['score'].transform(lambda score: (score - score.mean()) / score.std())"
   ]
  },
  {
   "cell_type": "code",
   "execution_count": 16,
   "metadata": {},
   "outputs": [
    {
     "data": {
      "text/plain": [
       "name\n",
       "Shoma UNO           1.813727\n",
       "Nathan CHEN         1.587136\n",
       "Javier FERNANDEZ    1.574291\n",
       "Yuzuru HANYU        1.487765\n",
       "Sergei VORONOV      1.300975\n",
       "Name: score_normed, dtype: float64"
      ]
     },
     "execution_count": 16,
     "metadata": {},
     "output_type": "execute_result"
    }
   ],
   "source": [
    "season_normed_avg = season_scores.groupby('name')['score_normed'].mean().sort_values(ascending=False)\n",
    "season_normed_avg.head()"
   ]
  },
  {
   "cell_type": "code",
   "execution_count": 17,
   "metadata": {},
   "outputs": [
    {
     "name": "stdout",
     "output_type": "stream",
     "text": [
      "There are 202 concordant_pairs out of 276 pairs\n"
     ]
    },
    {
     "data": {
      "text/plain": [
       "0.463768115942029"
      ]
     },
     "execution_count": 17,
     "metadata": {},
     "output_type": "execute_result"
    }
   ],
   "source": [
    "skater_ranking_normed_avg, world_ranking = return_ranking(season_normed_avg, world_scores)\n",
    "calculate_kendall_tau(skater_ranking_normed_avg, world_ranking)"
   ]
  },
  {
   "cell_type": "markdown",
   "metadata": {},
   "source": [
    "## Linear model"
   ]
  },
  {
   "cell_type": "code",
   "execution_count": 18,
   "metadata": {},
   "outputs": [
    {
     "data": {
      "text/plain": [
       "array([175.58      , 109.3451848 ,  40.29804314,  19.81723204,\n",
       "        78.8139453 ,  83.23826378,  45.36853317,   2.23      ,\n",
       "       105.80944136,  40.05316105])"
      ]
     },
     "execution_count": 18,
     "metadata": {},
     "output_type": "execute_result"
    }
   ],
   "source": [
    "dummies = pd.get_dummies(season_scores[['name', 'event']], prefix=['', ''], prefix_sep='', drop_first=True)\n",
    "X = dummies.values\n",
    "X = np.insert(X, 0, 1, axis=1)\n",
    "y = season_scores['score'].values\n",
    "coefs_linear = np.linalg.inv(X.T @ X) @ (X.T @ y)\n",
    "coefs_linear[:10]"
   ]
  },
  {
   "cell_type": "code",
   "execution_count": 246,
   "metadata": {},
   "outputs": [
    {
     "data": {
      "text/plain": [
       "9.10281494739734"
      ]
     },
     "execution_count": 246,
     "metadata": {},
     "output_type": "execute_result"
    }
   ],
   "source": [
    "linear_rmse = np.sqrt(np.mean((y - X @ coefs_linear)**2))\n",
    "linear_rmse"
   ]
  },
  {
   "cell_type": "markdown",
   "metadata": {},
   "source": [
    "Double check with sklearn's LinearRegression"
   ]
  },
  {
   "cell_type": "code",
   "execution_count": 19,
   "metadata": {},
   "outputs": [
    {
     "data": {
      "text/plain": [
       "(array([175.58      , 109.3451848 ,  40.29804314,  19.81723204,\n",
       "         78.8139453 ,  83.23826378,  45.36853317,   2.23      ,\n",
       "        105.80944136,  40.05316105]), 0.0)"
      ]
     },
     "execution_count": 19,
     "metadata": {},
     "output_type": "execute_result"
    }
   ],
   "source": [
    "lin = LinearRegression(fit_intercept=False)\n",
    "lin.fit(X, y)\n",
    "lin.coef_[:10], lin.intercept_"
   ]
  },
  {
   "cell_type": "markdown",
   "metadata": {},
   "source": [
    "Add removed baseline skater back to skater scores"
   ]
  },
  {
   "cell_type": "code",
   "execution_count": 20,
   "metadata": {},
   "outputs": [
    {
     "data": {
      "text/plain": [
       "'Abzal RAKIMGALIEV'"
      ]
     },
     "execution_count": 20,
     "metadata": {},
     "output_type": "execute_result"
    }
   ],
   "source": [
    "removed_skater = list(set(season_scores['name']) - set(dummies.columns[:-7]))[0]\n",
    "removed_skater"
   ]
  },
  {
   "cell_type": "code",
   "execution_count": 309,
   "metadata": {
    "scrolled": true
   },
   "outputs": [
    {
     "data": {
      "text/plain": [
       "Nathan CHEN              125.324813\n",
       "Yuzuru HANYU             123.998533\n",
       "Shoma UNO                121.774327\n",
       "Javier FERNANDEZ         111.794249\n",
       "Sergei VORONOV           109.430185\n",
       "Adam RIPPON              109.345185\n",
       "Boyang JIN               105.809441\n",
       "Mikhail KOLYADA          103.754873\n",
       "Jason BROWN               92.468533\n",
       "Misha GE                  84.881731\n",
       "Alexei BYCHENKO           83.238264\n",
       "Keiji TANAKA              82.848616\n",
       "Dmitri ALIEV              82.582222\n",
       "Max AARON                 81.641297\n",
       "Patrick CHAN              79.876322\n",
       "Alexander SAMARIN         78.813945\n",
       "Kazuki TOMONO             74.429278\n",
       "Vincent ZHOU              73.516946\n",
       "Han YAN                   72.279441\n",
       "Deniss VASILJEVS          72.158888\n",
       "Moris KVITELASHVILI       67.908016\n",
       "Ross MINER                67.371092\n",
       "Keegan MESSING            65.112800\n",
       "Michal BREZINA            64.754818\n",
       "Nicolas NADEAU            63.606322\n",
       "Nam NGUYEN                63.542604\n",
       "Elladj BALDE              62.620000\n",
       "Jorik HENDRICKX           62.277588\n",
       "Kevin REYNOLDS            59.339441\n",
       "Liam FIRUS                58.581092\n",
       "                            ...    \n",
       "Andrei LAZUKIN            45.368533\n",
       "Jun Hwan CHA              44.496322\n",
       "Takahito MURA             43.729138\n",
       "Phillip HARRIS            43.118854\n",
       "Hiroaki SATO              41.699278\n",
       "Alexander MAJOROV         40.298043\n",
       "Brendan KERRY             40.053161\n",
       "June Hyoung LEE           36.280000\n",
       "Romain PONSART            34.052757\n",
       "Paul FENTZ                32.822588\n",
       "Slavik HAYRAPETYAN        31.528854\n",
       "Irakli MAYSURADZE         26.118854\n",
       "Julian Zhi Jie YEE        22.100000\n",
       "Stephane WALKER           20.308854\n",
       "Alexander PETROV          19.817232\n",
       "Chih-I TSAO               19.630000\n",
       "Daniel SAMOHIN            17.018533\n",
       "Valtter VIRTANEN          16.668854\n",
       "Felipe MONTOYA            16.618854\n",
       "Daniel Albert NAURITS     10.998854\n",
       "Donovan CARRILLO          10.330000\n",
       "Sondre ODDVOLL BOE         5.538854\n",
       "He ZHANG                   5.308616\n",
       "Geon Hyeong AN             4.680000\n",
       "Andrew DODDS               2.230000\n",
       "Burak DEMIRBOGA            2.118854\n",
       "Sihyeong LEE               1.490000\n",
       "Igor REZNICHENKO           0.548854\n",
       "Abzal RAKIMGALIEV          0.000000\n",
       "Leslie Man Cheuk IP      -25.350000\n",
       "Length: 66, dtype: float64"
      ]
     },
     "execution_count": 309,
     "metadata": {},
     "output_type": "execute_result"
    }
   ],
   "source": [
    "linear_scores = pd.Series(coefs_linear[1:-7], index=dummies.columns[:-7])\n",
    "linear_scores[removed_skater] = 0\n",
    "linear_scores.sort_values(ascending=False, inplace=True)\n",
    "linear_scores"
   ]
  },
  {
   "cell_type": "code",
   "execution_count": 22,
   "metadata": {},
   "outputs": [],
   "source": [
    "linear_ranking, world_ranking = return_ranking(linear_scores, world_scores)"
   ]
  },
  {
   "cell_type": "code",
   "execution_count": 23,
   "metadata": {
    "scrolled": true
   },
   "outputs": [
    {
     "name": "stdout",
     "output_type": "stream",
     "text": [
      "There are 220 concordant_pairs out of 276 pairs\n"
     ]
    },
    {
     "data": {
      "text/plain": [
       "0.5942028985507246"
      ]
     },
     "execution_count": 23,
     "metadata": {},
     "output_type": "execute_result"
    }
   ],
   "source": [
    "calculate_kendall_tau(linear_ranking, world_ranking)"
   ]
  },
  {
   "cell_type": "markdown",
   "metadata": {},
   "source": [
    "## Log-linear Model"
   ]
  },
  {
   "cell_type": "code",
   "execution_count": 24,
   "metadata": {},
   "outputs": [
    {
     "data": {
      "text/plain": [
       "array([5.16809478, 0.49459088, 0.19838603, 0.0984977 , 0.37400975,\n",
       "       0.39169951, 0.22751535, 0.01262078, 0.47378959, 0.20474553])"
      ]
     },
     "execution_count": 24,
     "metadata": {},
     "output_type": "execute_result"
    }
   ],
   "source": [
    "coefs_log_linear = np.linalg.inv(X.T @ X) @ (X.T @ np.log(y))\n",
    "coefs_log_linear[:10]"
   ]
  },
  {
   "cell_type": "code",
   "execution_count": 310,
   "metadata": {
    "scrolled": true
   },
   "outputs": [
    {
     "data": {
      "text/plain": [
       "Nathan CHEN              1.733042\n",
       "Yuzuru HANYU             1.720821\n",
       "Shoma UNO                1.703357\n",
       "Javier FERNANDEZ         1.645501\n",
       "Sergei VORONOV           1.639868\n",
       "Adam RIPPON              1.639827\n",
       "Boyang JIN               1.606069\n",
       "Mikhail KOLYADA          1.601338\n",
       "Jason BROWN              1.534569\n",
       "Misha GE                 1.486425\n",
       "Alexei BYCHENKO          1.479493\n",
       "Keiji TANAKA             1.474397\n",
       "Dmitri ALIEV             1.471624\n",
       "Max AARON                1.466575\n",
       "Patrick CHAN             1.465519\n",
       "Alexander SAMARIN        1.453551\n",
       "Kazuki TOMONO            1.426848\n",
       "Vincent ZHOU             1.416828\n",
       "Deniss VASILJEVS         1.413764\n",
       "Han YAN                  1.410000\n",
       "Moris KVITELASHVILI      1.384449\n",
       "Ross MINER               1.375140\n",
       "Keegan MESSING           1.372633\n",
       "Michal BREZINA           1.370840\n",
       "Nicolas NADEAU           1.368474\n",
       "Nam NGUYEN               1.360689\n",
       "Jorik HENDRICKX          1.357298\n",
       "Elladj BALDE             1.356647\n",
       "Kevin REYNOLDS           1.331618\n",
       "Liam FIRUS               1.320102\n",
       "                           ...   \n",
       "Jun Hwan CHA             1.254489\n",
       "Roman SADOVSKY           1.252916\n",
       "Phillip HARRIS           1.242154\n",
       "Takahito MURA            1.239483\n",
       "Brendan KERRY            1.227213\n",
       "Hiroaki SATO             1.225491\n",
       "Alexander MAJOROV        1.219433\n",
       "June Hyoung LEE          1.206629\n",
       "Romain PONSART           1.186406\n",
       "Paul FENTZ               1.182630\n",
       "Slavik HAYRAPETYAN       1.173013\n",
       "Irakli MAYSURADZE        1.140739\n",
       "Julian Zhi Jie YEE       1.125869\n",
       "Chih-I TSAO              1.111801\n",
       "Stephane WALKER          1.106079\n",
       "Alexander PETROV         1.103512\n",
       "Daniel SAMOHIN           1.087697\n",
       "Valtter VIRTANEN         1.084364\n",
       "Felipe MONTOYA           1.084066\n",
       "Donovan CARRILLO         1.058834\n",
       "Daniel Albert NAURITS    1.050539\n",
       "Geon Hyeong AN           1.026655\n",
       "He ZHANG                 1.022955\n",
       "Sondre ODDVOLL BOE       1.017967\n",
       "Andrew DODDS             1.012701\n",
       "Sihyeong LEE             1.008486\n",
       "Burak DEMIRBOGA          0.997565\n",
       "Igor REZNICHENKO         0.988199\n",
       "Leslie Man Cheuk IP      0.855621\n",
       "Abzal RAKIMGALIEV        0.000000\n",
       "Length: 66, dtype: float64"
      ]
     },
     "execution_count": 310,
     "metadata": {},
     "output_type": "execute_result"
    }
   ],
   "source": [
    "log_linear_scores = pd.Series(np.exp(coefs_log_linear[1:-7]), index=dummies.columns[:-7])\n",
    "log_linear_scores[removed_skater] = 0\n",
    "log_linear_scores.sort_values(ascending=False, inplace=True)\n",
    "log_linear_scores"
   ]
  },
  {
   "cell_type": "code",
   "execution_count": 249,
   "metadata": {},
   "outputs": [
    {
     "data": {
      "text/plain": [
       "9.08027831543983"
      ]
     },
     "execution_count": 249,
     "metadata": {},
     "output_type": "execute_result"
    }
   ],
   "source": [
    "log_linear_rmse = np.sqrt(np.mean((y - np.exp(X @ coefs_log_linear))**2))\n",
    "log_linear_rmse"
   ]
  },
  {
   "cell_type": "code",
   "execution_count": 27,
   "metadata": {},
   "outputs": [],
   "source": [
    "log_linear_ranking, world_ranking = return_ranking(log_linear_scores, world_scores)"
   ]
  },
  {
   "cell_type": "code",
   "execution_count": 28,
   "metadata": {
    "scrolled": true
   },
   "outputs": [
    {
     "name": "stdout",
     "output_type": "stream",
     "text": [
      "There are 220 concordant_pairs out of 276 pairs\n"
     ]
    },
    {
     "data": {
      "text/plain": [
       "0.5942028985507246"
      ]
     },
     "execution_count": 28,
     "metadata": {},
     "output_type": "execute_result"
    }
   ],
   "source": [
    "calculate_kendall_tau(linear_ranking, world_ranking)"
   ]
  },
  {
   "cell_type": "markdown",
   "metadata": {},
   "source": [
    "## Hybrid Model"
   ]
  },
  {
   "cell_type": "code",
   "execution_count": 275,
   "metadata": {},
   "outputs": [],
   "source": [
    "season_table = pd.pivot_table(season_scores[['name', 'event', 'score']], values='score', index='name', columns='event')\n",
    "skater_names = list(season_table.index)\n",
    "event_names = list(season_table.columns)"
   ]
  },
  {
   "cell_type": "code",
   "execution_count": 276,
   "metadata": {},
   "outputs": [],
   "source": [
    "true_scores = season_table.values\n",
    "skater_scores = np.full(len(season_skaters), 0.5)\n",
    "event_scores = np.full(len(season_events), 0.5)\n",
    "bias = 0.5\n",
    "\n",
    "alpha = 0.0001\n",
    "rmses = []\n",
    "\n",
    "for _ in range(1000):\n",
    "    diff = np.outer(skater_scores, event_scores) + bias - true_scores\n",
    "    event_gradients = np.nansum(diff * event_scores, axis=0)\n",
    "    skater_gradients = np.nansum(diff.T * skater_scores, axis=0)\n",
    "    bias_gradient = np.nansum(diff)\n",
    "    \n",
    "    event_scores = event_scores - alpha * event_gradients\n",
    "    skater_scores = skater_scores - alpha * skater_gradients\n",
    "    bias = bias - alpha * bias_gradient\n",
    "    rmse = np.sqrt(np.nanmean(diff**2))\n",
    "    rmses.append(rmse)"
   ]
  },
  {
   "cell_type": "code",
   "execution_count": 277,
   "metadata": {
    "scrolled": true
   },
   "outputs": [
    {
     "data": {
      "text/plain": [
       "9.047782871609904"
      ]
     },
     "execution_count": 277,
     "metadata": {},
     "output_type": "execute_result"
    }
   ],
   "source": [
    "rmse"
   ]
  },
  {
   "cell_type": "code",
   "execution_count": 278,
   "metadata": {},
   "outputs": [
    {
     "data": {
      "text/plain": [
       "[<matplotlib.lines.Line2D at 0x7f3162e1bf60>]"
      ]
     },
     "execution_count": 278,
     "metadata": {},
     "output_type": "execute_result"
    },
    {
     "data": {
      "image/png": "[encoded data removed]",
      "text/plain": [
       "<Figure size 432x288 with 1 Axes>"
      ]
     },
     "metadata": {},
     "output_type": "display_data"
    }
   ],
   "source": [
    "plt.plot(rmses)"
   ]
  },
  {
   "cell_type": "code",
   "execution_count": 279,
   "metadata": {},
   "outputs": [
    {
     "data": {
      "text/plain": [
       "array([0.77434344, 1.4839178 , 1.01688369, 0.88325953, 1.26964063,\n",
       "       1.30028012, 1.05315747, 0.7882844 , 1.44790508, 1.01938724,\n",
       "       0.76332247, 1.05390647, 0.8970631 , 0.82203724, 0.8670238 ,\n",
       "       1.07435182, 1.22718768, 1.29687885, 0.83892243, 1.16582853,\n",
       "       0.85919582, 0.80360077, 1.06336054, 1.22597097, 0.79789311,\n",
       "       1.01611155, 0.75294136, 0.92200696, 1.35873849, 1.48790859,\n",
       "       1.1605461 , 0.91250486, 1.04301417, 1.00115494, 1.24164   ,\n",
       "       1.17804156, 1.29496702, 1.11147954, 1.14032151, 0.61587589,\n",
       "       1.12633641, 1.10851647, 1.28759303, 1.17626834, 1.43572158,\n",
       "       1.30901487, 1.19912701, 1.17029254, 1.5880575 , 1.16870432,\n",
       "       1.27571523, 0.96631702, 1.03440278, 0.97466705, 1.0503799 ,\n",
       "       1.18856043, 1.48451142, 1.546375  , 0.78365824, 0.95777564,\n",
       "       0.78593584, 0.88359317, 1.03614753, 0.85952641, 1.23563316,\n",
       "       1.56941367])"
      ]
     },
     "execution_count": 279,
     "metadata": {},
     "output_type": "execute_result"
    }
   ],
   "source": [
    "skater_scores"
   ]
  },
  {
   "cell_type": "code",
   "execution_count": 280,
   "metadata": {},
   "outputs": [
    {
     "data": {
      "text/plain": [
       "array([159.94807505, 152.04073827, 152.03626145, 151.26217232,\n",
       "       151.77138818, 145.12464692, 152.30723698, 141.25772751])"
      ]
     },
     "execution_count": 280,
     "metadata": {},
     "output_type": "execute_result"
    }
   ],
   "source": [
    "event_scores"
   ]
  },
  {
   "cell_type": "code",
   "execution_count": 281,
   "metadata": {},
   "outputs": [
    {
     "data": {
      "text/plain": [
       "51.73835014722577"
      ]
     },
     "execution_count": 281,
     "metadata": {},
     "output_type": "execute_result"
    }
   ],
   "source": [
    "bias"
   ]
  },
  {
   "cell_type": "code",
   "execution_count": 311,
   "metadata": {
    "scrolled": true
   },
   "outputs": [
    {
     "data": {
      "text/plain": [
       "Nathan CHEN              1.588058\n",
       "Yuzuru HANYU             1.569414\n",
       "Shoma UNO                1.546375\n",
       "Javier FERNANDEZ         1.487909\n",
       "Sergei VORONOV           1.484511\n",
       "Adam RIPPON              1.483918\n",
       "Boyang JIN               1.447905\n",
       "Mikhail KOLYADA          1.435722\n",
       "Jason BROWN              1.358738\n",
       "Misha GE                 1.309015\n",
       "Alexei BYCHENKO          1.300280\n",
       "Dmitri ALIEV             1.296879\n",
       "Keiji TANAKA             1.294967\n",
       "Max AARON                1.287593\n",
       "Patrick CHAN             1.275715\n",
       "Alexander SAMARIN        1.269641\n",
       "Kazuki TOMONO            1.241640\n",
       "Vincent ZHOU             1.235633\n",
       "Deniss VASILJEVS         1.227188\n",
       "Han YAN                  1.225971\n",
       "Moris KVITELASHVILI      1.199127\n",
       "Ross MINER               1.188560\n",
       "Keegan MESSING           1.178042\n",
       "Michal BREZINA           1.176268\n",
       "Nam NGUYEN               1.170293\n",
       "Nicolas NADEAU           1.168704\n",
       "Elladj BALDE             1.165829\n",
       "Jorik HENDRICKX          1.160546\n",
       "Kevin REYNOLDS           1.140322\n",
       "Liam FIRUS               1.126336\n",
       "                           ...   \n",
       "Roman SADOVSKY           1.050380\n",
       "Jun Hwan CHA             1.043014\n",
       "Takahito MURA            1.036148\n",
       "Phillip HARRIS           1.034403\n",
       "Brendan KERRY            1.019387\n",
       "Alexander MAJOROV        1.016884\n",
       "Hiroaki SATO             1.016112\n",
       "June Hyoung LEE          1.001155\n",
       "Romain PONSART           0.974667\n",
       "Paul FENTZ               0.966317\n",
       "Slavik HAYRAPETYAN       0.957776\n",
       "Irakli MAYSURADZE        0.922007\n",
       "Julian Zhi Jie YEE       0.912505\n",
       "Chih-I TSAO              0.897063\n",
       "Stephane WALKER          0.883593\n",
       "Alexander PETROV         0.883260\n",
       "Daniel SAMOHIN           0.867024\n",
       "Valtter VIRTANEN         0.859526\n",
       "Felipe MONTOYA           0.859196\n",
       "Donovan CARRILLO         0.838922\n",
       "Daniel Albert NAURITS    0.822037\n",
       "Geon Hyeong AN           0.803601\n",
       "He ZHANG                 0.797893\n",
       "Andrew DODDS             0.788284\n",
       "Sondre ODDVOLL BOE       0.785936\n",
       "Sihyeong LEE             0.783658\n",
       "Abzal RAKIMGALIEV        0.774343\n",
       "Burak DEMIRBOGA          0.763322\n",
       "Igor REZNICHENKO         0.752941\n",
       "Leslie Man Cheuk IP      0.615876\n",
       "Length: 66, dtype: float64"
      ]
     },
     "execution_count": 311,
     "metadata": {},
     "output_type": "execute_result"
    }
   ],
   "source": [
    "hybrid_scores = pd.Series(skater_scores, index=skater_names)\n",
    "hybrid_scores.sort_values(ascending=False, inplace=True)\n",
    "hybrid_scores"
   ]
  },
  {
   "cell_type": "code",
   "execution_count": 303,
   "metadata": {},
   "outputs": [],
   "source": [
    "hybrid_ranking, world_ranking = return_ranking(hybrid_scores, world_scores)"
   ]
  },
  {
   "cell_type": "code",
   "execution_count": 304,
   "metadata": {},
   "outputs": [
    {
     "name": "stdout",
     "output_type": "stream",
     "text": [
      "There are 220 concordant_pairs out of 276 pairs\n"
     ]
    },
    {
     "data": {
      "text/plain": [
       "0.5942028985507246"
      ]
     },
     "execution_count": 304,
     "metadata": {},
     "output_type": "execute_result"
    }
   ],
   "source": [
    "calculate_kendall_tau(hybrid_ranking, world_ranking)"
   ]
  },
  {
   "cell_type": "markdown",
   "metadata": {},
   "source": [
    "## Combine models"
   ]
  },
  {
   "cell_type": "code",
   "execution_count": 507,
   "metadata": {},
   "outputs": [
    {
     "data": {
      "text/plain": [
       "array([[ 1.92659984,  1.97121995,  1.99282664],\n",
       "       [ 1.81417979,  1.81085791,  1.79046137],\n",
       "       [ 1.24362457,  1.25973535,  1.25324784],\n",
       "       [ 0.59400119,  0.60151105,  0.5956903 ],\n",
       "       [ 0.3150797 ,  0.31711373,  0.31099717],\n",
       "       [ 0.2431917 ,  0.24643542,  0.24083227],\n",
       "       [ 0.57322874,  0.55900167,  0.57917739],\n",
       "       [ 0.02008935,  0.02424004,  0.00223178],\n",
       "       [ 0.64603877,  0.6389592 ,  0.63809681],\n",
       "       [ 0.00875447,  0.01455119, -0.00637708],\n",
       "       [ 0.54343598,  0.53172782,  0.53409545],\n",
       "       [-0.76562751, -0.80336967, -0.78017688],\n",
       "       [ 0.58166366,  0.57398191,  0.5698956 ],\n",
       "       [ 0.28619227,  0.26298479,  0.28183445],\n",
       "       [-1.00232502, -1.00218584, -1.02567404],\n",
       "       [-0.96337383, -0.98178485, -0.98513531],\n",
       "       [-0.32136586, -0.31936576, -0.335307  ],\n",
       "       [-0.77338128, -0.76134267, -0.76802237],\n",
       "       [ 1.30867896,  1.28529208,  1.31239776],\n",
       "       [-1.50273341, -1.51502566, -1.50773475],\n",
       "       [-1.34183745, -1.30881819, -1.28692783],\n",
       "       [-1.71451438, -1.6709505 , -1.64416467],\n",
       "       [-1.04328889, -1.05413946, -1.06714179],\n",
       "       [-0.67631135, -0.6806295 , -0.6951231 ]])"
      ]
     },
     "execution_count": 507,
     "metadata": {},
     "output_type": "execute_result"
    }
   ],
   "source": [
    "all_scores = pd.concat([linear_scores, log_linear_scores, hybrid_scores], axis=1, sort=True)\n",
    "all_scores = all_scores.reindex(world_scores.index).values\n",
    "all_scores_mean = all_scores.mean(axis=0)\n",
    "all_scores_std = all_scores.std(axis=0)\n",
    "all_scores = (all_scores - all_scores_mean) / all_scores_std\n",
    "all_scores"
   ]
  },
  {
   "cell_type": "code",
   "execution_count": 508,
   "metadata": {},
   "outputs": [],
   "source": [
    "from itertools import combinations"
   ]
  },
  {
   "cell_type": "code",
   "execution_count": 519,
   "metadata": {},
   "outputs": [],
   "source": [
    "score_diffs = np.array(list(skater1 - skater2 for skater1, skater2 in combinations(all_scores, 2)))"
   ]
  },
  {
   "cell_type": "code",
   "execution_count": 520,
   "metadata": {},
   "outputs": [],
   "source": [
    "pairwise_status = np.full(len(score_diffs), 1)"
   ]
  },
  {
   "cell_type": "code",
   "execution_count": 521,
   "metadata": {},
   "outputs": [],
   "source": [
    "log = BatchLogistic(theta=[0.5, 0.5, 0.5], alpha=0.02)"
   ]
  },
  {
   "cell_type": "code",
   "execution_count": 522,
   "metadata": {},
   "outputs": [],
   "source": [
    "log.fit(score_diffs, pairwise_status, n_iter=20000)"
   ]
  },
  {
   "cell_type": "code",
   "execution_count": 523,
   "metadata": {
    "scrolled": false
   },
   "outputs": [
    {
     "data": {
      "text/plain": [
       "[<matplotlib.lines.Line2D at 0x7f3161cdcfd0>]"
      ]
     },
     "execution_count": 523,
     "metadata": {},
     "output_type": "execute_result"
    },
    {
     "data": {
      "image/png": "[encoded data removed]",
      "text/plain": [
       "<Figure size 432x288 with 1 Axes>"
      ]
     },
     "metadata": {},
     "output_type": "display_data"
    }
   ],
   "source": [
    "plt.plot(log.avg_log_likelihoods)"
   ]
  },
  {
   "cell_type": "code",
   "execution_count": 524,
   "metadata": {
    "scrolled": true
   },
   "outputs": [
    {
     "data": {
      "text/plain": [
       "array([-13.26761937,  32.45687541, -17.62218192])"
      ]
     },
     "execution_count": 524,
     "metadata": {},
     "output_type": "execute_result"
    }
   ],
   "source": [
    "log.theta"
   ]
  },
  {
   "cell_type": "code",
   "execution_count": 527,
   "metadata": {},
   "outputs": [],
   "source": [
    "combined_scores = pd.Series(all_scores @ log.theta, index=world_scores.index).sort_values(ascending=False)"
   ]
  },
  {
   "cell_type": "code",
   "execution_count": 529,
   "metadata": {},
   "outputs": [],
   "source": [
    "combined_ranking, world_ranking = return_ranking(combined_scores, world_scores)"
   ]
  },
  {
   "cell_type": "code",
   "execution_count": 530,
   "metadata": {},
   "outputs": [
    {
     "name": "stdout",
     "output_type": "stream",
     "text": [
      "There are 217 concordant_pairs out of 276 pairs\n"
     ]
    },
    {
     "data": {
      "text/plain": [
       "0.572463768115942"
      ]
     },
     "execution_count": 530,
     "metadata": {},
     "output_type": "execute_result"
    }
   ],
   "source": [
    "calculate_kendall_tau(combined_ranking, world_ranking)"
   ]
  }
 ],
 "metadata": {
  "kernelspec": {
   "display_name": "Python 3",
   "language": "python",
   "name": "python3"
  },
  "language_info": {
   "codemirror_mode": {
    "name": "ipython",
    "version": 3
   },
   "file_extension": ".py",
   "mimetype": "text/x-python",
   "name": "python",
   "nbconvert_exporter": "python",
   "pygments_lexer": "ipython3",
   "version": "3.6.5"
  }
 },
 "nbformat": 4,
 "nbformat_minor": 2
}
