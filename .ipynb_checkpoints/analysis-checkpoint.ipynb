{
 "cells": [
  {
   "cell_type": "code",
   "execution_count": 4,
   "metadata": {},
   "outputs": [],
   "source": [
    "from bs4 import BeautifulSoup"
   ]
  },
  {
   "cell_type": "code",
   "execution_count": 5,
   "metadata": {},
   "outputs": [],
   "source": [
    "from urllib.request import urlopen"
   ]
  },
  {
   "cell_type": "code",
   "execution_count": 182,
   "metadata": {},
   "outputs": [],
   "source": [
    "import pandas as pd\n",
    "import numpy as np\n",
    "from sklearn.linear_model import LinearRegression\n",
    "from itertools import combinations\n",
    "from scipy.stats import kendalltau"
   ]
  },
  {
   "cell_type": "markdown",
   "metadata": {},
   "source": [
    "## Scrap scores from result pages"
   ]
  },
  {
   "cell_type": "code",
   "execution_count": 7,
   "metadata": {},
   "outputs": [],
   "source": [
    "links = {\n",
    "    'US': 'http://www.isuresults.com/results/season1718/gpusa2017/CAT001RS.HTM',\n",
    "    'CA': 'http://www.isuresults.com/results/season1718/gpcan2017/CAT001RS.HTM',\n",
    "    'FR': 'http://www.isuresults.com/results/season1718/gpfra2017/CAT001RS.HTM',\n",
    "    'RU': 'http://www.isuresults.com/results/season1718/gprus2017/CAT001RS.HTM',\n",
    "    'CN': 'http://www.isuresults.com/results/season1718/gpchn2017/CAT001RS.HTM',\n",
    "    'JP': 'http://www.isuresults.com/results/season1718/gpjpn2017/data0190.htm',\n",
    "    'EU': 'http://www.isuresults.com/results/season1718/ec2018/CAT001RS.HTM',\n",
    "    '4C': 'http://www.isuresults.com/results/season1718/fc2018/CAT001RS.HTM',\n",
    "    'WR': 'http://www.isuresults.com/results/season1718/wc2018/CAT001RS.HTM'\n",
    "}"
   ]
  },
  {
   "cell_type": "code",
   "execution_count": 8,
   "metadata": {},
   "outputs": [],
   "source": [
    "def parse_score(link, event_name, year):\n",
    "    html = urlopen(link)\n",
    "    bs = BeautifulSoup(html.read(), 'html.parser')\n",
    "\n",
    "    table_str = str(bs.findAll('table')[0])\n",
    "    table = pd.read_html(table_str)[0]\n",
    "    if year == 2017 and event_name == 'JP':\n",
    "        table = table[[1, 5]].dropna().iloc[1:-1]\n",
    "    else:\n",
    "        table = table[[1, 6, 8]].dropna().iloc[2:, :2]\n",
    "    table.columns = ['name', 'score']\n",
    "    table['event'] = event_name\n",
    "    table['score'] = table['score'].astype(float)\n",
    "    table['year'] = year\n",
    "    return table"
   ]
  },
  {
   "cell_type": "code",
   "execution_count": 9,
   "metadata": {},
   "outputs": [],
   "source": [
    "# scores = pd.concat((parse_score(link, event_name, 2017) for event_name, link in links.items()), axis=0)\n",
    "# scores['name'] = scores['name'].str.replace('\\xa0', ' ')\n",
    "# scores.reset_index(drop=True, inplace=True)\n",
    "scores = pd.read_csv('scores/2017.csv', names=['name', 'score', 'event', 'year'])"
   ]
  },
  {
   "cell_type": "code",
   "execution_count": 228,
   "metadata": {},
   "outputs": [],
   "source": [
    "season_scores = scores.loc[scores['event'] != 'WR'].copy()\n",
    "world_scores = scores.loc[scores['event'] == 'WR', ['name', 'score']].set_index('name').squeeze()"
   ]
  },
  {
   "cell_type": "markdown",
   "metadata": {},
   "source": [
    "## Implement kendall tau metrics"
   ]
  },
  {
   "cell_type": "code",
   "execution_count": 63,
   "metadata": {},
   "outputs": [],
   "source": [
    "def return_ranking(skater_scores, world_scores):\n",
    "    skater_ranking = list(skater_scores.index.intersection(world_scores.index))\n",
    "    world_ranking = list(world_scores.index.intersection(skater_scores.index))\n",
    "    return skater_ranking, world_ranking"
   ]
  },
  {
   "cell_type": "code",
   "execution_count": 78,
   "metadata": {},
   "outputs": [],
   "source": [
    "def calculate_kendall_tau(skater_ranking, world_ranking, verbose=True):\n",
    "    skater_pairs = set(combinations(skater_ranking, 2))\n",
    "    world_pairs = set(combinations(world_ranking, 2))\n",
    "    n_pairs = len(skater_pairs)\n",
    "    n_concordant_pairs = len(set(skater_pairs) & set(world_pairs))\n",
    "    print(f'There are {n_concordant_pairs} concordant_pairs out of {n_pairs} pairs')\n",
    "    tau = (2 * n_concordant_pairs - n_pairs) / n_pairs\n",
    "    return tau "
   ]
  },
  {
   "cell_type": "markdown",
   "metadata": {},
   "source": [
    "## Skater mean model"
   ]
  },
  {
   "cell_type": "code",
   "execution_count": 34,
   "metadata": {
    "scrolled": false
   },
   "outputs": [
    {
     "data": {
      "text/plain": [
       "name\n",
       "Shoma UNO           290.786667\n",
       "Yuzuru HANYU        290.770000\n",
       "Nathan CHEN         284.835000\n",
       "Javier FERNANDEZ    277.440000\n",
       "Boyang JIN          270.486667\n",
       "Name: score, dtype: float64"
      ]
     },
     "execution_count": 34,
     "metadata": {},
     "output_type": "execute_result"
    }
   ],
   "source": [
    "season_avg = season_scores.groupby('name')['score'].mean().sort_values(ascending=False)\n",
    "season_avg.head()"
   ]
  },
  {
   "cell_type": "code",
   "execution_count": 79,
   "metadata": {},
   "outputs": [
    {
     "name": "stdout",
     "output_type": "stream",
     "text": [
      "There are 213 concordant_pairs out of 276 pairs\n"
     ]
    },
    {
     "data": {
      "text/plain": [
       "0.5434782608695652"
      ]
     },
     "execution_count": 79,
     "metadata": {},
     "output_type": "execute_result"
    }
   ],
   "source": [
    "skater_ranking_avg, world_ranking = return_ranking(season_avg, world_scores)\n",
    "calculate_kendall_tau(skater_ranking_avg, world_ranking)"
   ]
  },
  {
   "cell_type": "markdown",
   "metadata": {},
   "source": [
    "Result agrees with kendalltau from scipy"
   ]
  },
  {
   "cell_type": "code",
   "execution_count": 106,
   "metadata": {},
   "outputs": [
    {
     "data": {
      "text/plain": [
       "KendalltauResult(correlation=0.5434782608695652, pvalue=0.00019870245032364205)"
      ]
     },
     "execution_count": 106,
     "metadata": {},
     "output_type": "execute_result"
    }
   ],
   "source": [
    "season_numeric_rank = list(range(len(skater_ranking)))\n",
    "world_numeric_rank = [skater_ranking.index(skater) for skater in world_ranking]\n",
    "kendalltau(season_numeric_rank, world_numeric_rank)"
   ]
  },
  {
   "cell_type": "markdown",
   "metadata": {},
   "source": [
    "RMSE with mean model"
   ]
  },
  {
   "cell_type": "code",
   "execution_count": 68,
   "metadata": {},
   "outputs": [
    {
     "data": {
      "text/plain": [
       "10.099364225465914"
      ]
     },
     "execution_count": 68,
     "metadata": {},
     "output_type": "execute_result"
    }
   ],
   "source": [
    "score_comparison = pd.merge(season_scores, season_avg.to_frame(), left_on='name', right_index=True, suffixes=['', '_avg'])\n",
    "score_comparison['sq_error'] = (score_comparison['score'] - score_comparison['score_avg'])**2\n",
    "np.sqrt(score_comparison['sq_error'].mean())"
   ]
  },
  {
   "cell_type": "markdown",
   "metadata": {},
   "source": [
    "## Normalized mean model"
   ]
  },
  {
   "cell_type": "code",
   "execution_count": 100,
   "metadata": {
    "scrolled": true
   },
   "outputs": [],
   "source": [
    "season_scores['score_normed'] = season_scores.groupby('event')['score'].transform(lambda score: (score - score.mean()) / score.std())"
   ]
  },
  {
   "cell_type": "code",
   "execution_count": 102,
   "metadata": {},
   "outputs": [
    {
     "data": {
      "text/plain": [
       "name\n",
       "Shoma UNO           1.813727\n",
       "Nathan CHEN         1.587136\n",
       "Javier FERNANDEZ    1.574291\n",
       "Yuzuru HANYU        1.487765\n",
       "Sergei VORONOV      1.300975\n",
       "Name: score_normed, dtype: float64"
      ]
     },
     "execution_count": 102,
     "metadata": {},
     "output_type": "execute_result"
    }
   ],
   "source": [
    "season_normed_avg = season_scores.groupby('name')['score_normed'].mean().sort_values(ascending=False)\n",
    "season_normed_avg.head()"
   ]
  },
  {
   "cell_type": "code",
   "execution_count": 105,
   "metadata": {},
   "outputs": [
    {
     "name": "stdout",
     "output_type": "stream",
     "text": [
      "There are 202 concordant_pairs out of 276 pairs\n"
     ]
    },
    {
     "data": {
      "text/plain": [
       "0.463768115942029"
      ]
     },
     "execution_count": 105,
     "metadata": {},
     "output_type": "execute_result"
    }
   ],
   "source": [
    "skater_ranking_normed_avg, world_ranking = return_ranking(season_normed_avg, world_scores)\n",
    "calculate_kendall_tau(skater_ranking_normed_avg, world_ranking)"
   ]
  },
  {
   "cell_type": "markdown",
   "metadata": {},
   "source": [
    "## Linear model"
   ]
  },
  {
   "cell_type": "code",
   "execution_count": 286,
   "metadata": {},
   "outputs": [
    {
     "data": {
      "text/plain": [
       "array([198.91109205,  86.01409275,  16.96695109,  -3.51386001,\n",
       "        55.48285325,  59.90717173,  22.03744112, -21.10109205,\n",
       "        82.47834931,  16.72206901, -21.21223782,  22.73776218,\n",
       "        -3.70109205, -12.33223782,  -6.31255888,  25.25397219,\n",
       "        48.82779627,  59.2511296 , -13.00109205,  39.28890795,\n",
       "        -6.71223782, -18.65109205,  23.45749635,  48.94834931,\n",
       "       -18.02247603,  18.3681855 , -22.78223782,   2.78776218,\n",
       "        69.13744117,  88.46315656,  38.94649612,  -1.23109205,\n",
       "        21.16523006,  12.94890795,  51.0981855 ,  41.78170778,\n",
       "        59.51752397,  31.46556751,  36.00834931, -48.68109205,\n",
       "        35.25      ,  30.99776218,  58.31020515,  41.42372591,\n",
       "        80.4237811 ,  61.55063886,  44.5769236 ,  40.21151152,\n",
       "       101.99372056,  40.27523006,  56.54523006,   9.49149612,\n",
       "        19.78776218,  10.72166485,  24.52      ,  44.04      ,\n",
       "        86.09909275,  98.44323517, -21.84109205,   8.19776218,\n",
       "       -17.79223782,  -3.02223782,  20.398046  ,  -6.66223782,\n",
       "        50.18585375, 100.66744112,  -9.75632211,  -9.37723204,\n",
       "       -10.47885423,  -9.94665956, -18.07927755,  -8.80853317,\n",
       "       -23.33109205])"
      ]
     },
     "execution_count": 286,
     "metadata": {},
     "output_type": "execute_result"
    }
   ],
   "source": [
    "dummies = pd.get_dummies(season_scores[['name', 'event']], prefix=['', ''], prefix_sep='', drop_first=True)\n",
    "X = dummies.values\n",
    "X = np.insert(X, 0, 1, axis=1)\n",
    "y = season_scores['score'].values\n",
    "coefs = np.linalg.inv(X.T @ X) @ (X.T @ y)\n",
    "coefs"
   ]
  },
  {
   "cell_type": "markdown",
   "metadata": {},
   "source": [
    "Double check with sklearn's LinearRegression"
   ]
  },
  {
   "cell_type": "code",
   "execution_count": 276,
   "metadata": {},
   "outputs": [
    {
     "data": {
      "text/plain": [
       "(array([198.91109205,  86.01409275,  16.96695109,  -3.51386001,\n",
       "         55.48285325,  59.90717173,  22.03744112, -21.10109205,\n",
       "         82.47834931,  16.72206901, -21.21223782,  22.73776218,\n",
       "         -3.70109205, -12.33223782,  -6.31255888,  25.25397219,\n",
       "         48.82779627,  59.2511296 , -13.00109205,  39.28890795,\n",
       "         -6.71223782, -18.65109205,  23.45749635,  48.94834931,\n",
       "        -18.02247603,  18.3681855 , -22.78223782,   2.78776218,\n",
       "         69.13744117,  88.46315656,  38.94649612,  -1.23109205,\n",
       "         21.16523006,  12.94890795,  51.0981855 ,  41.78170778,\n",
       "         59.51752397,  31.46556751,  36.00834931, -48.68109205,\n",
       "         35.25      ,  30.99776218,  58.31020515,  41.42372591,\n",
       "         80.4237811 ,  61.55063886,  44.5769236 ,  40.21151152,\n",
       "        101.99372056,  40.27523006,  56.54523006,   9.49149612,\n",
       "         19.78776218,  10.72166485,  24.52      ,  44.04      ,\n",
       "         86.09909275,  98.44323517, -21.84109205,   8.19776218,\n",
       "        -17.79223782,  -3.02223782,  20.398046  ,  -6.66223782,\n",
       "         50.18585375, 100.66744112,  -9.75632211,  -9.37723204,\n",
       "        -10.47885423,  -9.94665956, -18.07927755,  -8.80853317,\n",
       "        -23.33109205]), 0.0)"
      ]
     },
     "execution_count": 276,
     "metadata": {},
     "output_type": "execute_result"
    }
   ],
   "source": [
    "lin = LinearRegression(fit_intercept=False)\n",
    "lin.fit(X, y)\n",
    "lin.coef_, lin.intercept_"
   ]
  },
  {
   "cell_type": "code",
   "execution_count": 291,
   "metadata": {},
   "outputs": [
    {
     "data": {
      "text/plain": [
       "Adam RIPPON               86.014093\n",
       "Alexander MAJOROV         16.966951\n",
       "Alexander PETROV          -3.513860\n",
       "Alexander SAMARIN         55.482853\n",
       "Alexei BYCHENKO           59.907172\n",
       "Andrei LAZUKIN            22.037441\n",
       "Andrew DODDS             -21.101092\n",
       "Boyang JIN                82.478349\n",
       "Brendan KERRY             16.722069\n",
       "Burak DEMIRBOGA          -21.212238\n",
       "Chafik BESSEGHIER         22.737762\n",
       "Chih-I TSAO               -3.701092\n",
       "Daniel Albert NAURITS    -12.332238\n",
       "Daniel SAMOHIN            -6.312559\n",
       "Denis TEN                 25.253972\n",
       "Deniss VASILJEVS          48.827796\n",
       "Dmitri ALIEV              59.251130\n",
       "Donovan CARRILLO         -13.001092\n",
       "Elladj BALDE              39.288908\n",
       "Felipe MONTOYA            -6.712238\n",
       "Geon Hyeong AN           -18.651092\n",
       "Grant HOCHSTEIN           23.457496\n",
       "Han YAN                   48.948349\n",
       "He ZHANG                 -18.022476\n",
       "Hiroaki SATO              18.368185\n",
       "Igor REZNICHENKO         -22.782238\n",
       "Irakli MAYSURADZE          2.787762\n",
       "Jason BROWN               69.137441\n",
       "Javier FERNANDEZ          88.463157\n",
       "Jorik HENDRICKX           38.946496\n",
       "                            ...    \n",
       "Michal BREZINA            41.423726\n",
       "Mikhail KOLYADA           80.423781\n",
       "Misha GE                  61.550639\n",
       "Moris KVITELASHVILI       44.576924\n",
       "Nam NGUYEN                40.211512\n",
       "Nathan CHEN              101.993721\n",
       "Nicolas NADEAU            40.275230\n",
       "Patrick CHAN              56.545230\n",
       "Paul FENTZ                 9.491496\n",
       "Phillip HARRIS            19.787762\n",
       "Romain PONSART            10.721665\n",
       "Roman SADOVSKY            24.520000\n",
       "Ross MINER                44.040000\n",
       "Sergei VORONOV            86.099093\n",
       "Shoma UNO                 98.443235\n",
       "Sihyeong LEE             -21.841092\n",
       "Slavik HAYRAPETYAN         8.197762\n",
       "Sondre ODDVOLL BOE       -17.792238\n",
       "Stephane WALKER           -3.022238\n",
       "Takahito MURA             20.398046\n",
       "Valtter VIRTANEN          -6.662238\n",
       "Vincent ZHOU              50.185854\n",
       "Yuzuru HANYU             100.667441\n",
       "CA                        -9.756322\n",
       "CN                        -9.377232\n",
       "EU                       -10.478854\n",
       "FR                        -9.946660\n",
       "JP                       -18.079278\n",
       "RU                        -8.808533\n",
       "US                       -23.331092\n",
       "Length: 72, dtype: float64"
      ]
     },
     "execution_count": 291,
     "metadata": {},
     "output_type": "execute_result"
    }
   ],
   "source": [
    "pd.Series(coefs[1:], index=dummies.columns)"
   ]
  }
 ],
 "metadata": {
  "kernelspec": {
   "display_name": "Python 3",
   "language": "python",
   "name": "python3"
  },
  "language_info": {
   "codemirror_mode": {
    "name": "ipython",
    "version": 3
   },
   "file_extension": ".py",
   "mimetype": "text/x-python",
   "name": "python",
   "nbconvert_exporter": "python",
   "pygments_lexer": "ipython3",
   "version": "3.6.5"
  }
 },
 "nbformat": 4,
 "nbformat_minor": 2
}
