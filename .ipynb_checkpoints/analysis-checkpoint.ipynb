{
 "cells": [
  {
   "cell_type": "code",
   "execution_count": 4,
   "metadata": {},
   "outputs": [],
   "source": [
    "from bs4 import BeautifulSoup"
   ]
  },
  {
   "cell_type": "code",
   "execution_count": 5,
   "metadata": {},
   "outputs": [],
   "source": [
    "from urllib.request import urlopen"
   ]
  },
  {
   "cell_type": "code",
   "execution_count": 182,
   "metadata": {},
   "outputs": [],
   "source": [
    "import pandas as pd\n",
    "import numpy as np\n",
    "from sklearn.linear_model import LinearRegression\n",
    "from itertools import combinations\n",
    "from scipy.stats import kendalltau"
   ]
  },
  {
   "cell_type": "markdown",
   "metadata": {},
   "source": [
    "## Scrap scores from result pages"
   ]
  },
  {
   "cell_type": "code",
   "execution_count": 7,
   "metadata": {},
   "outputs": [],
   "source": [
    "links = {\n",
    "    'US': 'http://www.isuresults.com/results/season1718/gpusa2017/CAT001RS.HTM',\n",
    "    'CA': 'http://www.isuresults.com/results/season1718/gpcan2017/CAT001RS.HTM',\n",
    "    'FR': 'http://www.isuresults.com/results/season1718/gpfra2017/CAT001RS.HTM',\n",
    "    'RU': 'http://www.isuresults.com/results/season1718/gprus2017/CAT001RS.HTM',\n",
    "    'CN': 'http://www.isuresults.com/results/season1718/gpchn2017/CAT001RS.HTM',\n",
    "    'JP': 'http://www.isuresults.com/results/season1718/gpjpn2017/data0190.htm',\n",
    "    'EU': 'http://www.isuresults.com/results/season1718/ec2018/CAT001RS.HTM',\n",
    "    '4C': 'http://www.isuresults.com/results/season1718/fc2018/CAT001RS.HTM',\n",
    "    'WR': 'http://www.isuresults.com/results/season1718/wc2018/CAT001RS.HTM'\n",
    "}"
   ]
  },
  {
   "cell_type": "code",
   "execution_count": 8,
   "metadata": {},
   "outputs": [],
   "source": [
    "def parse_score(link, event_name, year):\n",
    "    html = urlopen(link)\n",
    "    bs = BeautifulSoup(html.read(), 'html.parser')\n",
    "\n",
    "    table_str = str(bs.findAll('table')[0])\n",
    "    table = pd.read_html(table_str)[0]\n",
    "    if year == 2017 and event_name == 'JP':\n",
    "        table = table[[1, 5]].dropna().iloc[1:-1]\n",
    "    else:\n",
    "        table = table[[1, 6, 8]].dropna().iloc[2:, :2]\n",
    "    table.columns = ['name', 'score']\n",
    "    table['event'] = event_name\n",
    "    table['score'] = table['score'].astype(float)\n",
    "    table['year'] = year\n",
    "    return table"
   ]
  },
  {
   "cell_type": "code",
   "execution_count": 9,
   "metadata": {},
   "outputs": [],
   "source": [
    "# scores = pd.concat((parse_score(link, event_name, 2017) for event_name, link in links.items()), axis=0)\n",
    "# scores['name'] = scores['name'].str.replace('\\xa0', ' ')\n",
    "# scores.reset_index(drop=True, inplace=True)\n",
    "scores = pd.read_csv('scores/2017.csv', names=['name', 'score', 'event', 'year'])"
   ]
  },
  {
   "cell_type": "code",
   "execution_count": 327,
   "metadata": {},
   "outputs": [],
   "source": [
    "season_scores = scores.loc[scores['event'] != 'WR'].copy()\n",
    "world_scores = scores.loc[scores['event'] == 'WR', ['name', 'score']].set_index('name').squeeze()"
   ]
  },
  {
   "cell_type": "markdown",
   "metadata": {},
   "source": [
    "## Implement kendall tau metrics"
   ]
  },
  {
   "cell_type": "code",
   "execution_count": 328,
   "metadata": {},
   "outputs": [],
   "source": [
    "def return_ranking(skater_scores, world_scores):\n",
    "    skater_scores = skater_scores.sort_values(ascending=False)\n",
    "    world_scores = world_scores.sort_values(ascending=False)\n",
    "    skater_ranking = list(skater_scores.index.intersection(world_scores.index))\n",
    "    world_ranking = list(world_scores.index.intersection(skater_scores.index))\n",
    "    return skater_ranking, world_ranking"
   ]
  },
  {
   "cell_type": "code",
   "execution_count": 78,
   "metadata": {},
   "outputs": [],
   "source": [
    "def calculate_kendall_tau(skater_ranking, world_ranking, verbose=True):\n",
    "    skater_pairs = set(combinations(skater_ranking, 2))\n",
    "    world_pairs = set(combinations(world_ranking, 2))\n",
    "    n_pairs = len(skater_pairs)\n",
    "    n_concordant_pairs = len(set(skater_pairs) & set(world_pairs))\n",
    "    print(f'There are {n_concordant_pairs} concordant_pairs out of {n_pairs} pairs')\n",
    "    tau = (2 * n_concordant_pairs - n_pairs) / n_pairs\n",
    "    return tau "
   ]
  },
  {
   "cell_type": "markdown",
   "metadata": {},
   "source": [
    "## Skater mean model"
   ]
  },
  {
   "cell_type": "code",
   "execution_count": 34,
   "metadata": {
    "scrolled": false
   },
   "outputs": [
    {
     "data": {
      "text/plain": [
       "name\n",
       "Shoma UNO           290.786667\n",
       "Yuzuru HANYU        290.770000\n",
       "Nathan CHEN         284.835000\n",
       "Javier FERNANDEZ    277.440000\n",
       "Boyang JIN          270.486667\n",
       "Name: score, dtype: float64"
      ]
     },
     "execution_count": 34,
     "metadata": {},
     "output_type": "execute_result"
    }
   ],
   "source": [
    "season_avg = season_scores.groupby('name')['score'].mean().sort_values(ascending=False)\n",
    "season_avg.head()"
   ]
  },
  {
   "cell_type": "code",
   "execution_count": 79,
   "metadata": {},
   "outputs": [
    {
     "name": "stdout",
     "output_type": "stream",
     "text": [
      "There are 213 concordant_pairs out of 276 pairs\n"
     ]
    },
    {
     "data": {
      "text/plain": [
       "0.5434782608695652"
      ]
     },
     "execution_count": 79,
     "metadata": {},
     "output_type": "execute_result"
    }
   ],
   "source": [
    "skater_ranking_avg, world_ranking = return_ranking(season_avg, world_scores)\n",
    "calculate_kendall_tau(skater_ranking_avg, world_ranking)"
   ]
  },
  {
   "cell_type": "markdown",
   "metadata": {},
   "source": [
    "Result agrees with kendalltau from scipy"
   ]
  },
  {
   "cell_type": "code",
   "execution_count": 106,
   "metadata": {},
   "outputs": [
    {
     "data": {
      "text/plain": [
       "KendalltauResult(correlation=0.5434782608695652, pvalue=0.00019870245032364205)"
      ]
     },
     "execution_count": 106,
     "metadata": {},
     "output_type": "execute_result"
    }
   ],
   "source": [
    "season_numeric_rank = list(range(len(skater_ranking)))\n",
    "world_numeric_rank = [skater_ranking.index(skater) for skater in world_ranking]\n",
    "kendalltau(season_numeric_rank, world_numeric_rank)"
   ]
  },
  {
   "cell_type": "markdown",
   "metadata": {},
   "source": [
    "RMSE with mean model"
   ]
  },
  {
   "cell_type": "code",
   "execution_count": 68,
   "metadata": {},
   "outputs": [
    {
     "data": {
      "text/plain": [
       "10.099364225465914"
      ]
     },
     "execution_count": 68,
     "metadata": {},
     "output_type": "execute_result"
    }
   ],
   "source": [
    "score_comparison = pd.merge(season_scores, season_avg.to_frame(), left_on='name', right_index=True, suffixes=['', '_avg'])\n",
    "score_comparison['sq_error'] = (score_comparison['score'] - score_comparison['score_avg'])**2\n",
    "np.sqrt(score_comparison['sq_error'].mean())"
   ]
  },
  {
   "cell_type": "markdown",
   "metadata": {},
   "source": [
    "## Normalized mean model"
   ]
  },
  {
   "cell_type": "code",
   "execution_count": 100,
   "metadata": {
    "scrolled": true
   },
   "outputs": [],
   "source": [
    "season_scores['score_normed'] = season_scores.groupby('event')['score'].transform(lambda score: (score - score.mean()) / score.std())"
   ]
  },
  {
   "cell_type": "code",
   "execution_count": 102,
   "metadata": {},
   "outputs": [
    {
     "data": {
      "text/plain": [
       "name\n",
       "Shoma UNO           1.813727\n",
       "Nathan CHEN         1.587136\n",
       "Javier FERNANDEZ    1.574291\n",
       "Yuzuru HANYU        1.487765\n",
       "Sergei VORONOV      1.300975\n",
       "Name: score_normed, dtype: float64"
      ]
     },
     "execution_count": 102,
     "metadata": {},
     "output_type": "execute_result"
    }
   ],
   "source": [
    "season_normed_avg = season_scores.groupby('name')['score_normed'].mean().sort_values(ascending=False)\n",
    "season_normed_avg.head()"
   ]
  },
  {
   "cell_type": "code",
   "execution_count": 105,
   "metadata": {},
   "outputs": [
    {
     "name": "stdout",
     "output_type": "stream",
     "text": [
      "There are 202 concordant_pairs out of 276 pairs\n"
     ]
    },
    {
     "data": {
      "text/plain": [
       "0.463768115942029"
      ]
     },
     "execution_count": 105,
     "metadata": {},
     "output_type": "execute_result"
    }
   ],
   "source": [
    "skater_ranking_normed_avg, world_ranking = return_ranking(season_normed_avg, world_scores)\n",
    "calculate_kendall_tau(skater_ranking_normed_avg, world_ranking)"
   ]
  },
  {
   "cell_type": "markdown",
   "metadata": {},
   "source": [
    "## Linear model"
   ]
  },
  {
   "cell_type": "code",
   "execution_count": 301,
   "metadata": {},
   "outputs": [
    {
     "data": {
      "text/plain": [
       "array([198.91109205,  86.01409275,  16.96695109,  -3.51386001,\n",
       "        55.48285325,  59.90717173,  22.03744112, -21.10109205,\n",
       "        82.47834931,  16.72206901, -21.21223782,  22.73776218,\n",
       "        -3.70109205, -12.33223782,  -6.31255888,  25.25397219,\n",
       "        48.82779627,  59.2511296 , -13.00109205,  39.28890795,\n",
       "        -6.71223782, -18.65109205,  23.45749635,  48.94834931,\n",
       "       -18.02247603,  18.3681855 , -22.78223782,   2.78776218,\n",
       "        69.13744117,  88.46315656,  38.94649612,  -1.23109205,\n",
       "        21.16523006,  12.94890795,  51.0981855 ,  41.78170778,\n",
       "        59.51752397,  31.46556751,  36.00834931, -48.68109205,\n",
       "        35.25      ,  30.99776218,  58.31020515,  41.42372591,\n",
       "        80.4237811 ,  61.55063886,  44.5769236 ,  40.21151152,\n",
       "       101.99372056,  40.27523006,  56.54523006,   9.49149612,\n",
       "        19.78776218,  10.72166485,  24.52      ,  44.04      ,\n",
       "        86.09909275,  98.44323517, -21.84109205,   8.19776218,\n",
       "       -17.79223782,  -3.02223782,  20.398046  ,  -6.66223782,\n",
       "        50.18585375, 100.66744112,  -9.75632211,  -9.37723204,\n",
       "       -10.47885423,  -9.94665956, -18.07927755,  -8.80853317,\n",
       "       -23.33109205])"
      ]
     },
     "execution_count": 301,
     "metadata": {},
     "output_type": "execute_result"
    }
   ],
   "source": [
    "dummies = pd.get_dummies(season_scores[['name', 'event']], prefix=['', ''], prefix_sep='', drop_first=True)\n",
    "X = dummies.values\n",
    "X = np.insert(X, 0, 1, axis=1)\n",
    "y = season_scores['score'].values\n",
    "coefs = np.linalg.inv(X.T @ X) @ (X.T @ y)\n",
    "coefs"
   ]
  },
  {
   "cell_type": "markdown",
   "metadata": {},
   "source": [
    "Double check with sklearn's LinearRegression"
   ]
  },
  {
   "cell_type": "code",
   "execution_count": 302,
   "metadata": {},
   "outputs": [
    {
     "data": {
      "text/plain": [
       "(array([198.91109205,  86.01409275,  16.96695109,  -3.51386001,\n",
       "         55.48285325,  59.90717173,  22.03744112, -21.10109205,\n",
       "         82.47834931,  16.72206901, -21.21223782,  22.73776218,\n",
       "         -3.70109205, -12.33223782,  -6.31255888,  25.25397219,\n",
       "         48.82779627,  59.2511296 , -13.00109205,  39.28890795,\n",
       "         -6.71223782, -18.65109205,  23.45749635,  48.94834931,\n",
       "        -18.02247603,  18.3681855 , -22.78223782,   2.78776218,\n",
       "         69.13744117,  88.46315656,  38.94649612,  -1.23109205,\n",
       "         21.16523006,  12.94890795,  51.0981855 ,  41.78170778,\n",
       "         59.51752397,  31.46556751,  36.00834931, -48.68109205,\n",
       "         35.25      ,  30.99776218,  58.31020515,  41.42372591,\n",
       "         80.4237811 ,  61.55063886,  44.5769236 ,  40.21151152,\n",
       "        101.99372056,  40.27523006,  56.54523006,   9.49149612,\n",
       "         19.78776218,  10.72166485,  24.52      ,  44.04      ,\n",
       "         86.09909275,  98.44323517, -21.84109205,   8.19776218,\n",
       "        -17.79223782,  -3.02223782,  20.398046  ,  -6.66223782,\n",
       "         50.18585375, 100.66744112,  -9.75632211,  -9.37723204,\n",
       "        -10.47885423,  -9.94665956, -18.07927755,  -8.80853317,\n",
       "        -23.33109205]), 0.0)"
      ]
     },
     "execution_count": 302,
     "metadata": {},
     "output_type": "execute_result"
    }
   ],
   "source": [
    "lin = LinearRegression(fit_intercept=False)\n",
    "lin.fit(X, y)\n",
    "lin.coef_, lin.intercept_"
   ]
  },
  {
   "cell_type": "markdown",
   "metadata": {},
   "source": [
    "Add removed baseline skater back to skater scores"
   ]
  },
  {
   "cell_type": "code",
   "execution_count": 311,
   "metadata": {},
   "outputs": [
    {
     "data": {
      "text/plain": [
       "'Abzal RAKIMGALIEV'"
      ]
     },
     "execution_count": 311,
     "metadata": {},
     "output_type": "execute_result"
    }
   ],
   "source": [
    "removed_skater = list(set(season_scores['name']) - set(dummies.columns[:-7]))[0]\n",
    "removed_skater"
   ]
  },
  {
   "cell_type": "code",
   "execution_count": 317,
   "metadata": {
    "scrolled": true
   },
   "outputs": [],
   "source": [
    "linear_scores = pd.Series(coefs[1:-7], index=dummies.columns[:-7])\n",
    "linear_scores[removed_skater] = 0"
   ]
  },
  {
   "cell_type": "code",
   "execution_count": 329,
   "metadata": {},
   "outputs": [],
   "source": [
    "linear_ranking, world_ranking = return_ranking(linear_scores, world_scores)"
   ]
  },
  {
   "cell_type": "code",
   "execution_count": 333,
   "metadata": {},
   "outputs": [
    {
     "name": "stdout",
     "output_type": "stream",
     "text": [
      "There are 220 concordant_pairs out of 276 pairs\n"
     ]
    },
    {
     "data": {
      "text/plain": [
       "0.5942028985507246"
      ]
     },
     "execution_count": 333,
     "metadata": {},
     "output_type": "execute_result"
    }
   ],
   "source": [
    "calculate_kendall_tau(linear_ranking, world_ranking)"
   ]
  },
  {
   "cell_type": "markdown",
   "metadata": {},
   "source": [
    "Only event gets incorporated into intercept (doesn't work)"
   ]
  },
  {
   "cell_type": "code",
   "execution_count": 300,
   "metadata": {},
   "outputs": [],
   "source": [
    "# skater_dummies = pd.get_dummies(season_scores['name'])\n",
    "# event_dummies = pd.get_dummies(season_scores['event'], drop_first=True)\n",
    "# X = pd.concat([skater_dummies, event_dummies], axis=1).values\n",
    "# X = np.insert(X, 0, 1, axis=1)\n",
    "# y = season_scores['score'].values\n",
    "# coefs = np.linalg.inv(X.T @ X) @ (X.T @ y)\n",
    "# coefs"
   ]
  },
  {
   "cell_type": "markdown",
   "metadata": {},
   "source": [
    "## "
   ]
  }
 ],
 "metadata": {
  "kernelspec": {
   "display_name": "Python 3",
   "language": "python",
   "name": "python3"
  },
  "language_info": {
   "codemirror_mode": {
    "name": "ipython",
    "version": 3
   },
   "file_extension": ".py",
   "mimetype": "text/x-python",
   "name": "python",
   "nbconvert_exporter": "python",
   "pygments_lexer": "ipython3",
   "version": "3.6.5"
  }
 },
 "nbformat": 4,
 "nbformat_minor": 2
}
