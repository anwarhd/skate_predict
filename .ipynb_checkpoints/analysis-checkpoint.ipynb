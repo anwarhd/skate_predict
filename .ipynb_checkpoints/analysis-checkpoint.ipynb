{
 "cells": [
  {
   "cell_type": "code",
   "execution_count": 1,
   "metadata": {},
   "outputs": [
    {
     "data": {
      "text/plain": [
       "[<matplotlib.lines.Line2D at 0x7f3183526c88>]"
      ]
     },
     "execution_count": 1,
     "metadata": {},
     "output_type": "execute_result"
    },
    {
     "data": {
      "image/png": "[encoded data removed]",
      "text/plain": [
       "<Figure size 432x288 with 1 Axes>"
      ]
     },
     "metadata": {},
     "output_type": "display_data"
    }
   ],
   "source": [
    "import matplotlib.pyplot as plt\n",
    "%matplotlib inline\n",
    "\n",
    "plt.plot([1, 2, 3])"
   ]
  },
  {
   "cell_type": "code",
   "execution_count": 2,
   "metadata": {},
   "outputs": [],
   "source": [
    "from bs4 import BeautifulSoup"
   ]
  },
  {
   "cell_type": "code",
   "execution_count": 3,
   "metadata": {},
   "outputs": [],
   "source": [
    "from urllib.request import urlopen"
   ]
  },
  {
   "cell_type": "code",
   "execution_count": 4,
   "metadata": {},
   "outputs": [],
   "source": [
    "import pandas as pd\n",
    "import numpy as np\n",
    "from sklearn.linear_model import LinearRegression\n",
    "from itertools import combinations\n",
    "from scipy.stats import kendalltau"
   ]
  },
  {
   "cell_type": "markdown",
   "metadata": {},
   "source": [
    "## Scrap scores from result pages"
   ]
  },
  {
   "cell_type": "code",
   "execution_count": 5,
   "metadata": {},
   "outputs": [],
   "source": [
    "links = {\n",
    "    'US': 'http://www.isuresults.com/results/season1718/gpusa2017/CAT001RS.HTM',\n",
    "    'CA': 'http://www.isuresults.com/results/season1718/gpcan2017/CAT001RS.HTM',\n",
    "    'FR': 'http://www.isuresults.com/results/season1718/gpfra2017/CAT001RS.HTM',\n",
    "    'RU': 'http://www.isuresults.com/results/season1718/gprus2017/CAT001RS.HTM',\n",
    "    'CN': 'http://www.isuresults.com/results/season1718/gpchn2017/CAT001RS.HTM',\n",
    "    'JP': 'http://www.isuresults.com/results/season1718/gpjpn2017/data0190.htm',\n",
    "    'EU': 'http://www.isuresults.com/results/season1718/ec2018/CAT001RS.HTM',\n",
    "    '4C': 'http://www.isuresults.com/results/season1718/fc2018/CAT001RS.HTM',\n",
    "    'WR': 'http://www.isuresults.com/results/season1718/wc2018/CAT001RS.HTM'\n",
    "}"
   ]
  },
  {
   "cell_type": "code",
   "execution_count": 6,
   "metadata": {},
   "outputs": [],
   "source": [
    "def parse_score(link, event_name, year):\n",
    "    html = urlopen(link)\n",
    "    bs = BeautifulSoup(html.read(), 'html.parser')\n",
    "\n",
    "    table_str = str(bs.findAll('table')[0])\n",
    "    table = pd.read_html(table_str)[0]\n",
    "    if year == 2017 and event_name == 'JP':\n",
    "        table = table[[1, 5]].dropna().iloc[1:-1]\n",
    "    else:\n",
    "        table = table[[1, 6, 8]].dropna().iloc[2:, :2]\n",
    "    table.columns = ['name', 'score']\n",
    "    table['event'] = event_name\n",
    "    table['score'] = table['score'].astype(float)\n",
    "    table['year'] = year\n",
    "    return table"
   ]
  },
  {
   "cell_type": "code",
   "execution_count": 7,
   "metadata": {},
   "outputs": [],
   "source": [
    "# scores = pd.concat((parse_score(link, event_name, 2017) for event_name, link in links.items()), axis=0)\n",
    "# scores['name'] = scores['name'].str.replace('\\xa0', ' ')\n",
    "# scores.reset_index(drop=True, inplace=True)\n",
    "scores = pd.read_csv('scores/2017.csv', names=['name', 'score', 'event', 'year'])"
   ]
  },
  {
   "cell_type": "code",
   "execution_count": 8,
   "metadata": {},
   "outputs": [],
   "source": [
    "season_scores = scores.loc[scores['event'] != 'WR'].copy()\n",
    "world_scores = scores.loc[scores['event'] == 'WR', ['name', 'score']].set_index('name').squeeze()"
   ]
  },
  {
   "cell_type": "markdown",
   "metadata": {},
   "source": [
    "## Implement kendall tau metrics"
   ]
  },
  {
   "cell_type": "code",
   "execution_count": 9,
   "metadata": {},
   "outputs": [],
   "source": [
    "def return_ranking(skater_scores, world_scores):\n",
    "    skater_scores = skater_scores.sort_values(ascending=False)\n",
    "    world_scores = world_scores.sort_values(ascending=False)\n",
    "    skater_ranking = list(skater_scores.index.intersection(world_scores.index))\n",
    "    world_ranking = list(world_scores.index.intersection(skater_scores.index))\n",
    "    return skater_ranking, world_ranking"
   ]
  },
  {
   "cell_type": "code",
   "execution_count": 10,
   "metadata": {},
   "outputs": [],
   "source": [
    "def calculate_kendall_tau(skater_ranking, world_ranking, verbose=True):\n",
    "    skater_pairs = set(combinations(skater_ranking, 2))\n",
    "    world_pairs = set(combinations(world_ranking, 2))\n",
    "    n_pairs = len(skater_pairs)\n",
    "    n_concordant_pairs = len(set(skater_pairs) & set(world_pairs))\n",
    "    print(f'There are {n_concordant_pairs} concordant_pairs out of {n_pairs} pairs')\n",
    "    tau = (2 * n_concordant_pairs - n_pairs) / n_pairs\n",
    "    return tau "
   ]
  },
  {
   "cell_type": "markdown",
   "metadata": {},
   "source": [
    "## Skater mean model"
   ]
  },
  {
   "cell_type": "code",
   "execution_count": 11,
   "metadata": {
    "scrolled": false
   },
   "outputs": [
    {
     "data": {
      "text/plain": [
       "name\n",
       "Shoma UNO           290.786667\n",
       "Yuzuru HANYU        290.770000\n",
       "Nathan CHEN         284.835000\n",
       "Javier FERNANDEZ    277.440000\n",
       "Boyang JIN          270.486667\n",
       "Name: score, dtype: float64"
      ]
     },
     "execution_count": 11,
     "metadata": {},
     "output_type": "execute_result"
    }
   ],
   "source": [
    "season_avg = season_scores.groupby('name')['score'].mean().sort_values(ascending=False)\n",
    "season_avg.head()"
   ]
  },
  {
   "cell_type": "code",
   "execution_count": 12,
   "metadata": {},
   "outputs": [
    {
     "name": "stdout",
     "output_type": "stream",
     "text": [
      "There are 213 concordant_pairs out of 276 pairs\n"
     ]
    },
    {
     "data": {
      "text/plain": [
       "0.5434782608695652"
      ]
     },
     "execution_count": 12,
     "metadata": {},
     "output_type": "execute_result"
    }
   ],
   "source": [
    "skater_ranking_avg, world_ranking = return_ranking(season_avg, world_scores)\n",
    "calculate_kendall_tau(skater_ranking_avg, world_ranking)"
   ]
  },
  {
   "cell_type": "markdown",
   "metadata": {},
   "source": [
    "Result agrees with kendalltau from scipy"
   ]
  },
  {
   "cell_type": "code",
   "execution_count": 13,
   "metadata": {},
   "outputs": [
    {
     "data": {
      "text/plain": [
       "KendalltauResult(correlation=0.5434782608695652, pvalue=0.00019870245032364205)"
      ]
     },
     "execution_count": 13,
     "metadata": {},
     "output_type": "execute_result"
    }
   ],
   "source": [
    "season_numeric_rank = list(range(len(skater_ranking_avg)))\n",
    "world_numeric_rank = [skater_ranking_avg.index(skater) for skater in world_ranking]\n",
    "kendalltau(season_numeric_rank, world_numeric_rank)"
   ]
  },
  {
   "cell_type": "markdown",
   "metadata": {},
   "source": [
    "RMSE with mean model"
   ]
  },
  {
   "cell_type": "code",
   "execution_count": 14,
   "metadata": {},
   "outputs": [
    {
     "data": {
      "text/plain": [
       "10.099364225465914"
      ]
     },
     "execution_count": 14,
     "metadata": {},
     "output_type": "execute_result"
    }
   ],
   "source": [
    "score_comparison = pd.merge(season_scores, season_avg.to_frame(), left_on='name', right_index=True, suffixes=['', '_avg'])\n",
    "score_comparison['sq_error'] = (score_comparison['score'] - score_comparison['score_avg'])**2\n",
    "np.sqrt(score_comparison['sq_error'].mean())"
   ]
  },
  {
   "cell_type": "markdown",
   "metadata": {},
   "source": [
    "## Normalized mean model"
   ]
  },
  {
   "cell_type": "code",
   "execution_count": 15,
   "metadata": {
    "scrolled": true
   },
   "outputs": [],
   "source": [
    "season_scores['score_normed'] = season_scores.groupby('event')['score'].transform(lambda score: (score - score.mean()) / score.std())"
   ]
  },
  {
   "cell_type": "code",
   "execution_count": 16,
   "metadata": {},
   "outputs": [
    {
     "data": {
      "text/plain": [
       "name\n",
       "Shoma UNO           1.813727\n",
       "Nathan CHEN         1.587136\n",
       "Javier FERNANDEZ    1.574291\n",
       "Yuzuru HANYU        1.487765\n",
       "Sergei VORONOV      1.300975\n",
       "Name: score_normed, dtype: float64"
      ]
     },
     "execution_count": 16,
     "metadata": {},
     "output_type": "execute_result"
    }
   ],
   "source": [
    "season_normed_avg = season_scores.groupby('name')['score_normed'].mean().sort_values(ascending=False)\n",
    "season_normed_avg.head()"
   ]
  },
  {
   "cell_type": "code",
   "execution_count": 17,
   "metadata": {},
   "outputs": [
    {
     "name": "stdout",
     "output_type": "stream",
     "text": [
      "There are 202 concordant_pairs out of 276 pairs\n"
     ]
    },
    {
     "data": {
      "text/plain": [
       "0.463768115942029"
      ]
     },
     "execution_count": 17,
     "metadata": {},
     "output_type": "execute_result"
    }
   ],
   "source": [
    "skater_ranking_normed_avg, world_ranking = return_ranking(season_normed_avg, world_scores)\n",
    "calculate_kendall_tau(skater_ranking_normed_avg, world_ranking)"
   ]
  },
  {
   "cell_type": "markdown",
   "metadata": {},
   "source": [
    "## Linear model"
   ]
  },
  {
   "cell_type": "code",
   "execution_count": 18,
   "metadata": {},
   "outputs": [
    {
     "data": {
      "text/plain": [
       "array([175.58      , 109.3451848 ,  40.29804314,  19.81723204,\n",
       "        78.8139453 ,  83.23826378,  45.36853317,   2.23      ,\n",
       "       105.80944136,  40.05316105])"
      ]
     },
     "execution_count": 18,
     "metadata": {},
     "output_type": "execute_result"
    }
   ],
   "source": [
    "dummies = pd.get_dummies(season_scores[['name', 'event']], prefix=['', ''], prefix_sep='', drop_first=True)\n",
    "X = dummies.values\n",
    "X = np.insert(X, 0, 1, axis=1)\n",
    "y = season_scores['score'].values\n",
    "coefs_linear = np.linalg.inv(X.T @ X) @ (X.T @ y)\n",
    "coefs_linear[:10]"
   ]
  },
  {
   "cell_type": "code",
   "execution_count": 246,
   "metadata": {},
   "outputs": [
    {
     "data": {
      "text/plain": [
       "9.10281494739734"
      ]
     },
     "execution_count": 246,
     "metadata": {},
     "output_type": "execute_result"
    }
   ],
   "source": [
    "linear_rmse = np.sqrt(np.mean((y - X @ coefs_linear)**2))\n",
    "linear_rmse"
   ]
  },
  {
   "cell_type": "markdown",
   "metadata": {},
   "source": [
    "Double check with sklearn's LinearRegression"
   ]
  },
  {
   "cell_type": "code",
   "execution_count": 19,
   "metadata": {},
   "outputs": [
    {
     "data": {
      "text/plain": [
       "(array([175.58      , 109.3451848 ,  40.29804314,  19.81723204,\n",
       "         78.8139453 ,  83.23826378,  45.36853317,   2.23      ,\n",
       "        105.80944136,  40.05316105]), 0.0)"
      ]
     },
     "execution_count": 19,
     "metadata": {},
     "output_type": "execute_result"
    }
   ],
   "source": [
    "lin = LinearRegression(fit_intercept=False)\n",
    "lin.fit(X, y)\n",
    "lin.coef_[:10], lin.intercept_"
   ]
  },
  {
   "cell_type": "markdown",
   "metadata": {},
   "source": [
    "Add removed baseline skater back to skater scores"
   ]
  },
  {
   "cell_type": "code",
   "execution_count": 20,
   "metadata": {},
   "outputs": [
    {
     "data": {
      "text/plain": [
       "'Abzal RAKIMGALIEV'"
      ]
     },
     "execution_count": 20,
     "metadata": {},
     "output_type": "execute_result"
    }
   ],
   "source": [
    "removed_skater = list(set(season_scores['name']) - set(dummies.columns[:-7]))[0]\n",
    "removed_skater"
   ]
  },
  {
   "cell_type": "code",
   "execution_count": 309,
   "metadata": {
    "scrolled": true
   },
   "outputs": [
    {
     "data": {
      "text/plain": [
       "Nathan CHEN              125.324813\n",
       "Yuzuru HANYU             123.998533\n",
       "Shoma UNO                121.774327\n",
       "Javier FERNANDEZ         111.794249\n",
       "Sergei VORONOV           109.430185\n",
       "Adam RIPPON              109.345185\n",
       "Boyang JIN               105.809441\n",
       "Mikhail KOLYADA          103.754873\n",
       "Jason BROWN               92.468533\n",
       "Misha GE                  84.881731\n",
       "Alexei BYCHENKO           83.238264\n",
       "Keiji TANAKA              82.848616\n",
       "Dmitri ALIEV              82.582222\n",
       "Max AARON                 81.641297\n",
       "Patrick CHAN              79.876322\n",
       "Alexander SAMARIN         78.813945\n",
       "Kazuki TOMONO             74.429278\n",
       "Vincent ZHOU              73.516946\n",
       "Han YAN                   72.279441\n",
       "Deniss VASILJEVS          72.158888\n",
       "Moris KVITELASHVILI       67.908016\n",
       "Ross MINER                67.371092\n",
       "Keegan MESSING            65.112800\n",
       "Michal BREZINA            64.754818\n",
       "Nicolas NADEAU            63.606322\n",
       "Nam NGUYEN                63.542604\n",
       "Elladj BALDE              62.620000\n",
       "Jorik HENDRICKX           62.277588\n",
       "Kevin REYNOLDS            59.339441\n",
       "Liam FIRUS                58.581092\n",
       "                            ...    \n",
       "Andrei LAZUKIN            45.368533\n",
       "Jun Hwan CHA              44.496322\n",
       "Takahito MURA             43.729138\n",
       "Phillip HARRIS            43.118854\n",
       "Hiroaki SATO              41.699278\n",
       "Alexander MAJOROV         40.298043\n",
       "Brendan KERRY             40.053161\n",
       "June Hyoung LEE           36.280000\n",
       "Romain PONSART            34.052757\n",
       "Paul FENTZ                32.822588\n",
       "Slavik HAYRAPETYAN        31.528854\n",
       "Irakli MAYSURADZE         26.118854\n",
       "Julian Zhi Jie YEE        22.100000\n",
       "Stephane WALKER           20.308854\n",
       "Alexander PETROV          19.817232\n",
       "Chih-I TSAO               19.630000\n",
       "Daniel SAMOHIN            17.018533\n",
       "Valtter VIRTANEN          16.668854\n",
       "Felipe MONTOYA            16.618854\n",
       "Daniel Albert NAURITS     10.998854\n",
       "Donovan CARRILLO          10.330000\n",
       "Sondre ODDVOLL BOE         5.538854\n",
       "He ZHANG                   5.308616\n",
       "Geon Hyeong AN             4.680000\n",
       "Andrew DODDS               2.230000\n",
       "Burak DEMIRBOGA            2.118854\n",
       "Sihyeong LEE               1.490000\n",
       "Igor REZNICHENKO           0.548854\n",
       "Abzal RAKIMGALIEV          0.000000\n",
       "Leslie Man Cheuk IP      -25.350000\n",
       "Length: 66, dtype: float64"
      ]
     },
     "execution_count": 309,
     "metadata": {},
     "output_type": "execute_result"
    }
   ],
   "source": [
    "linear_scores = pd.Series(coefs_linear[1:-7], index=dummies.columns[:-7])\n",
    "linear_scores[removed_skater] = 0\n",
    "linear_scores.sort_values(ascending=False, inplace=True)\n",
    "linear_scores"
   ]
  },
  {
   "cell_type": "code",
   "execution_count": 22,
   "metadata": {},
   "outputs": [],
   "source": [
    "linear_ranking, world_ranking = return_ranking(linear_scores, world_scores)"
   ]
  },
  {
   "cell_type": "code",
   "execution_count": 23,
   "metadata": {
    "scrolled": true
   },
   "outputs": [
    {
     "name": "stdout",
     "output_type": "stream",
     "text": [
      "There are 220 concordant_pairs out of 276 pairs\n"
     ]
    },
    {
     "data": {
      "text/plain": [
       "0.5942028985507246"
      ]
     },
     "execution_count": 23,
     "metadata": {},
     "output_type": "execute_result"
    }
   ],
   "source": [
    "calculate_kendall_tau(linear_ranking, world_ranking)"
   ]
  },
  {
   "cell_type": "markdown",
   "metadata": {},
   "source": [
    "## Log-linear Model"
   ]
  },
  {
   "cell_type": "code",
   "execution_count": 24,
   "metadata": {},
   "outputs": [
    {
     "data": {
      "text/plain": [
       "array([5.16809478, 0.49459088, 0.19838603, 0.0984977 , 0.37400975,\n",
       "       0.39169951, 0.22751535, 0.01262078, 0.47378959, 0.20474553])"
      ]
     },
     "execution_count": 24,
     "metadata": {},
     "output_type": "execute_result"
    }
   ],
   "source": [
    "coefs_log_linear = np.linalg.inv(X.T @ X) @ (X.T @ np.log(y))\n",
    "coefs_log_linear[:10]"
   ]
  },
  {
   "cell_type": "code",
   "execution_count": 310,
   "metadata": {
    "scrolled": true
   },
   "outputs": [
    {
     "data": {
      "text/plain": [
       "Nathan CHEN              1.733042\n",
       "Yuzuru HANYU             1.720821\n",
       "Shoma UNO                1.703357\n",
       "Javier FERNANDEZ         1.645501\n",
       "Sergei VORONOV           1.639868\n",
       "Adam RIPPON              1.639827\n",
       "Boyang JIN               1.606069\n",
       "Mikhail KOLYADA          1.601338\n",
       "Jason BROWN              1.534569\n",
       "Misha GE                 1.486425\n",
       "Alexei BYCHENKO          1.479493\n",
       "Keiji TANAKA             1.474397\n",
       "Dmitri ALIEV             1.471624\n",
       "Max AARON                1.466575\n",
       "Patrick CHAN             1.465519\n",
       "Alexander SAMARIN        1.453551\n",
       "Kazuki TOMONO            1.426848\n",
       "Vincent ZHOU             1.416828\n",
       "Deniss VASILJEVS         1.413764\n",
       "Han YAN                  1.410000\n",
       "Moris KVITELASHVILI      1.384449\n",
       "Ross MINER               1.375140\n",
       "Keegan MESSING           1.372633\n",
       "Michal BREZINA           1.370840\n",
       "Nicolas NADEAU           1.368474\n",
       "Nam NGUYEN               1.360689\n",
       "Jorik HENDRICKX          1.357298\n",
       "Elladj BALDE             1.356647\n",
       "Kevin REYNOLDS           1.331618\n",
       "Liam FIRUS               1.320102\n",
       "                           ...   \n",
       "Jun Hwan CHA             1.254489\n",
       "Roman SADOVSKY           1.252916\n",
       "Phillip HARRIS           1.242154\n",
       "Takahito MURA            1.239483\n",
       "Brendan KERRY            1.227213\n",
       "Hiroaki SATO             1.225491\n",
       "Alexander MAJOROV        1.219433\n",
       "June Hyoung LEE          1.206629\n",
       "Romain PONSART           1.186406\n",
       "Paul FENTZ               1.182630\n",
       "Slavik HAYRAPETYAN       1.173013\n",
       "Irakli MAYSURADZE        1.140739\n",
       "Julian Zhi Jie YEE       1.125869\n",
       "Chih-I TSAO              1.111801\n",
       "Stephane WALKER          1.106079\n",
       "Alexander PETROV         1.103512\n",
       "Daniel SAMOHIN           1.087697\n",
       "Valtter VIRTANEN         1.084364\n",
       "Felipe MONTOYA           1.084066\n",
       "Donovan CARRILLO         1.058834\n",
       "Daniel Albert NAURITS    1.050539\n",
       "Geon Hyeong AN           1.026655\n",
       "He ZHANG                 1.022955\n",
       "Sondre ODDVOLL BOE       1.017967\n",
       "Andrew DODDS             1.012701\n",
       "Sihyeong LEE             1.008486\n",
       "Burak DEMIRBOGA          0.997565\n",
       "Igor REZNICHENKO         0.988199\n",
       "Leslie Man Cheuk IP      0.855621\n",
       "Abzal RAKIMGALIEV        0.000000\n",
       "Length: 66, dtype: float64"
      ]
     },
     "execution_count": 310,
     "metadata": {},
     "output_type": "execute_result"
    }
   ],
   "source": [
    "log_linear_scores = pd.Series(np.exp(coefs_log_linear[1:-7]), index=dummies.columns[:-7])\n",
    "log_linear_scores[removed_skater] = 0\n",
    "log_linear_scores.sort_values(ascending=False, inplace=True)\n",
    "log_linear_scores"
   ]
  },
  {
   "cell_type": "code",
   "execution_count": 249,
   "metadata": {},
   "outputs": [
    {
     "data": {
      "text/plain": [
       "9.08027831543983"
      ]
     },
     "execution_count": 249,
     "metadata": {},
     "output_type": "execute_result"
    }
   ],
   "source": [
    "log_linear_rmse = np.sqrt(np.mean((y - np.exp(X @ coefs_log_linear))**2))\n",
    "log_linear_rmse"
   ]
  },
  {
   "cell_type": "code",
   "execution_count": 27,
   "metadata": {},
   "outputs": [],
   "source": [
    "log_linear_ranking, world_ranking = return_ranking(log_linear_scores, world_scores)"
   ]
  },
  {
   "cell_type": "code",
   "execution_count": 28,
   "metadata": {
    "scrolled": true
   },
   "outputs": [
    {
     "name": "stdout",
     "output_type": "stream",
     "text": [
      "There are 220 concordant_pairs out of 276 pairs\n"
     ]
    },
    {
     "data": {
      "text/plain": [
       "0.5942028985507246"
      ]
     },
     "execution_count": 28,
     "metadata": {},
     "output_type": "execute_result"
    }
   ],
   "source": [
    "calculate_kendall_tau(linear_ranking, world_ranking)"
   ]
  },
  {
   "cell_type": "markdown",
   "metadata": {},
   "source": [
    "## Hybrid Model"
   ]
  },
  {
   "cell_type": "code",
   "execution_count": 275,
   "metadata": {},
   "outputs": [],
   "source": [
    "season_table = pd.pivot_table(season_scores[['name', 'event', 'score']], values='score', index='name', columns='event')\n",
    "skater_names = list(season_table.index)\n",
    "event_names = list(season_table.columns)"
   ]
  },
  {
   "cell_type": "code",
   "execution_count": 276,
   "metadata": {},
   "outputs": [],
   "source": [
    "true_scores = season_table.values\n",
    "skater_scores = np.full(len(season_skaters), 0.5)\n",
    "event_scores = np.full(len(season_events), 0.5)\n",
    "bias = 0.5\n",
    "\n",
    "alpha = 0.0001\n",
    "rmses = []\n",
    "\n",
    "for _ in range(1000):\n",
    "    diff = np.outer(skater_scores, event_scores) + bias - true_scores\n",
    "    event_gradients = np.nansum(diff * event_scores, axis=0)\n",
    "    skater_gradients = np.nansum(diff.T * skater_scores, axis=0)\n",
    "    bias_gradient = np.nansum(diff)\n",
    "    \n",
    "    event_scores = event_scores - alpha * event_gradients\n",
    "    skater_scores = skater_scores - alpha * skater_gradients\n",
    "    bias = bias - alpha * bias_gradient\n",
    "    rmse = np.sqrt(np.nanmean(diff**2))\n",
    "    rmses.append(rmse)"
   ]
  },
  {
   "cell_type": "code",
   "execution_count": 277,
   "metadata": {
    "scrolled": true
   },
   "outputs": [
    {
     "data": {
      "text/plain": [
       "9.047782871609904"
      ]
     },
     "execution_count": 277,
     "metadata": {},
     "output_type": "execute_result"
    }
   ],
   "source": [
    "rmse"
   ]
  },
  {
   "cell_type": "code",
   "execution_count": 278,
   "metadata": {},
   "outputs": [
    {
     "data": {
      "text/plain": [
       "[<matplotlib.lines.Line2D at 0x7f3162e1bf60>]"
      ]
     },
     "execution_count": 278,
     "metadata": {},
     "output_type": "execute_result"
    },
    {
     "data": {
      "image/png": "[encoded data removed]",
      "text/plain": [
       "<Figure size 432x288 with 1 Axes>"
      ]
     },
     "metadata": {},
     "output_type": "display_data"
    }
   ],
   "source": [
    "plt.plot(rmses)"
   ]
  },
  {
   "cell_type": "code",
   "execution_count": 279,
   "metadata": {},
   "outputs": [
    {
     "data": {
      "text/plain": [
       "array([0.77434344, 1.4839178 , 1.01688369, 0.88325953, 1.26964063,\n",
       "       1.30028012, 1.05315747, 0.7882844 , 1.44790508, 1.01938724,\n",
       "       0.76332247, 1.05390647, 0.8970631 , 0.82203724, 0.8670238 ,\n",
       "       1.07435182, 1.22718768, 1.29687885, 0.83892243, 1.16582853,\n",
       "       0.85919582, 0.80360077, 1.06336054, 1.22597097, 0.79789311,\n",
       "       1.01611155, 0.75294136, 0.92200696, 1.35873849, 1.48790859,\n",
       "       1.1605461 , 0.91250486, 1.04301417, 1.00115494, 1.24164   ,\n",
       "       1.17804156, 1.29496702, 1.11147954, 1.14032151, 0.61587589,\n",
       "       1.12633641, 1.10851647, 1.28759303, 1.17626834, 1.43572158,\n",
       "       1.30901487, 1.19912701, 1.17029254, 1.5880575 , 1.16870432,\n",
       "       1.27571523, 0.96631702, 1.03440278, 0.97466705, 1.0503799 ,\n",
       "       1.18856043, 1.48451142, 1.546375  , 0.78365824, 0.95777564,\n",
       "       0.78593584, 0.88359317, 1.03614753, 0.85952641, 1.23563316,\n",
       "       1.56941367])"
      ]
     },
     "execution_count": 279,
     "metadata": {},
     "output_type": "execute_result"
    }
   ],
   "source": [
    "skater_scores"
   ]
  },
  {
   "cell_type": "code",
   "execution_count": 280,
   "metadata": {},
   "outputs": [
    {
     "data": {
      "text/plain": [
       "array([159.94807505, 152.04073827, 152.03626145, 151.26217232,\n",
       "       151.77138818, 145.12464692, 152.30723698, 141.25772751])"
      ]
     },
     "execution_count": 280,
     "metadata": {},
     "output_type": "execute_result"
    }
   ],
   "source": [
    "event_scores"
   ]
  },
  {
   "cell_type": "code",
   "execution_count": 281,
   "metadata": {},
   "outputs": [
    {
     "data": {
      "text/plain": [
       "51.73835014722577"
      ]
     },
     "execution_count": 281,
     "metadata": {},
     "output_type": "execute_result"
    }
   ],
   "source": [
    "bias"
   ]
  },
  {
   "cell_type": "code",
   "execution_count": 311,
   "metadata": {
    "scrolled": true
   },
   "outputs": [
    {
     "data": {
      "text/plain": [
       "Nathan CHEN              1.588058\n",
       "Yuzuru HANYU             1.569414\n",
       "Shoma UNO                1.546375\n",
       "Javier FERNANDEZ         1.487909\n",
       "Sergei VORONOV           1.484511\n",
       "Adam RIPPON              1.483918\n",
       "Boyang JIN               1.447905\n",
       "Mikhail KOLYADA          1.435722\n",
       "Jason BROWN              1.358738\n",
       "Misha GE                 1.309015\n",
       "Alexei BYCHENKO          1.300280\n",
       "Dmitri ALIEV             1.296879\n",
       "Keiji TANAKA             1.294967\n",
       "Max AARON                1.287593\n",
       "Patrick CHAN             1.275715\n",
       "Alexander SAMARIN        1.269641\n",
       "Kazuki TOMONO            1.241640\n",
       "Vincent ZHOU             1.235633\n",
       "Deniss VASILJEVS         1.227188\n",
       "Han YAN                  1.225971\n",
       "Moris KVITELASHVILI      1.199127\n",
       "Ross MINER               1.188560\n",
       "Keegan MESSING           1.178042\n",
       "Michal BREZINA           1.176268\n",
       "Nam NGUYEN               1.170293\n",
       "Nicolas NADEAU           1.168704\n",
       "Elladj BALDE             1.165829\n",
       "Jorik HENDRICKX          1.160546\n",
       "Kevin REYNOLDS           1.140322\n",
       "Liam FIRUS               1.126336\n",
       "                           ...   \n",
       "Roman SADOVSKY           1.050380\n",
       "Jun Hwan CHA             1.043014\n",
       "Takahito MURA            1.036148\n",
       "Phillip HARRIS           1.034403\n",
       "Brendan KERRY            1.019387\n",
       "Alexander MAJOROV        1.016884\n",
       "Hiroaki SATO             1.016112\n",
       "June Hyoung LEE          1.001155\n",
       "Romain PONSART           0.974667\n",
       "Paul FENTZ               0.966317\n",
       "Slavik HAYRAPETYAN       0.957776\n",
       "Irakli MAYSURADZE        0.922007\n",
       "Julian Zhi Jie YEE       0.912505\n",
       "Chih-I TSAO              0.897063\n",
       "Stephane WALKER          0.883593\n",
       "Alexander PETROV         0.883260\n",
       "Daniel SAMOHIN           0.867024\n",
       "Valtter VIRTANEN         0.859526\n",
       "Felipe MONTOYA           0.859196\n",
       "Donovan CARRILLO         0.838922\n",
       "Daniel Albert NAURITS    0.822037\n",
       "Geon Hyeong AN           0.803601\n",
       "He ZHANG                 0.797893\n",
       "Andrew DODDS             0.788284\n",
       "Sondre ODDVOLL BOE       0.785936\n",
       "Sihyeong LEE             0.783658\n",
       "Abzal RAKIMGALIEV        0.774343\n",
       "Burak DEMIRBOGA          0.763322\n",
       "Igor REZNICHENKO         0.752941\n",
       "Leslie Man Cheuk IP      0.615876\n",
       "Length: 66, dtype: float64"
      ]
     },
     "execution_count": 311,
     "metadata": {},
     "output_type": "execute_result"
    }
   ],
   "source": [
    "hybrid_scores = pd.Series(skater_scores, index=skater_names)\n",
    "hybrid_scores.sort_values(ascending=False, inplace=True)\n",
    "hybrid_scores"
   ]
  },
  {
   "cell_type": "code",
   "execution_count": 303,
   "metadata": {},
   "outputs": [],
   "source": [
    "hybrid_ranking, world_ranking = return_ranking(hybrid_scores, world_scores)"
   ]
  },
  {
   "cell_type": "code",
   "execution_count": 304,
   "metadata": {},
   "outputs": [
    {
     "name": "stdout",
     "output_type": "stream",
     "text": [
      "There are 220 concordant_pairs out of 276 pairs\n"
     ]
    },
    {
     "data": {
      "text/plain": [
       "0.5942028985507246"
      ]
     },
     "execution_count": 304,
     "metadata": {},
     "output_type": "execute_result"
    }
   ],
   "source": [
    "calculate_kendall_tau(hybrid_ranking, world_ranking)"
   ]
  },
  {
   "cell_type": "markdown",
   "metadata": {},
   "source": [
    "## Combine models"
   ]
  },
  {
   "cell_type": "code",
   "execution_count": 317,
   "metadata": {},
   "outputs": [
    {
     "data": {
      "text/html": [
       "<div>\n",
       "<style scoped>\n",
       "    .dataframe tbody tr th:only-of-type {\n",
       "        vertical-align: middle;\n",
       "    }\n",
       "\n",
       "    .dataframe tbody tr th {\n",
       "        vertical-align: top;\n",
       "    }\n",
       "\n",
       "    .dataframe thead th {\n",
       "        text-align: right;\n",
       "    }\n",
       "</style>\n",
       "<table border=\"1\" class=\"dataframe\">\n",
       "  <thead>\n",
       "    <tr style=\"text-align: right;\">\n",
       "      <th></th>\n",
       "      <th>0</th>\n",
       "      <th>1</th>\n",
       "      <th>2</th>\n",
       "    </tr>\n",
       "  </thead>\n",
       "  <tbody>\n",
       "    <tr>\n",
       "      <th>Abzal RAKIMGALIEV</th>\n",
       "      <td>0.000000</td>\n",
       "      <td>0.000000</td>\n",
       "      <td>0.774343</td>\n",
       "    </tr>\n",
       "    <tr>\n",
       "      <th>Adam RIPPON</th>\n",
       "      <td>109.345185</td>\n",
       "      <td>1.639827</td>\n",
       "      <td>1.483918</td>\n",
       "    </tr>\n",
       "    <tr>\n",
       "      <th>Alexander MAJOROV</th>\n",
       "      <td>40.298043</td>\n",
       "      <td>1.219433</td>\n",
       "      <td>1.016884</td>\n",
       "    </tr>\n",
       "    <tr>\n",
       "      <th>Alexander PETROV</th>\n",
       "      <td>19.817232</td>\n",
       "      <td>1.103512</td>\n",
       "      <td>0.883260</td>\n",
       "    </tr>\n",
       "    <tr>\n",
       "      <th>Alexander SAMARIN</th>\n",
       "      <td>78.813945</td>\n",
       "      <td>1.453551</td>\n",
       "      <td>1.269641</td>\n",
       "    </tr>\n",
       "    <tr>\n",
       "      <th>Alexei BYCHENKO</th>\n",
       "      <td>83.238264</td>\n",
       "      <td>1.479493</td>\n",
       "      <td>1.300280</td>\n",
       "    </tr>\n",
       "    <tr>\n",
       "      <th>Andrei LAZUKIN</th>\n",
       "      <td>45.368533</td>\n",
       "      <td>1.255477</td>\n",
       "      <td>1.053157</td>\n",
       "    </tr>\n",
       "    <tr>\n",
       "      <th>Andrew DODDS</th>\n",
       "      <td>2.230000</td>\n",
       "      <td>1.012701</td>\n",
       "      <td>0.788284</td>\n",
       "    </tr>\n",
       "    <tr>\n",
       "      <th>Boyang JIN</th>\n",
       "      <td>105.809441</td>\n",
       "      <td>1.606069</td>\n",
       "      <td>1.447905</td>\n",
       "    </tr>\n",
       "    <tr>\n",
       "      <th>Brendan KERRY</th>\n",
       "      <td>40.053161</td>\n",
       "      <td>1.227213</td>\n",
       "      <td>1.019387</td>\n",
       "    </tr>\n",
       "    <tr>\n",
       "      <th>Burak DEMIRBOGA</th>\n",
       "      <td>2.118854</td>\n",
       "      <td>0.997565</td>\n",
       "      <td>0.763322</td>\n",
       "    </tr>\n",
       "    <tr>\n",
       "      <th>Chafik BESSEGHIER</th>\n",
       "      <td>46.068854</td>\n",
       "      <td>1.259752</td>\n",
       "      <td>1.053906</td>\n",
       "    </tr>\n",
       "    <tr>\n",
       "      <th>Chih-I TSAO</th>\n",
       "      <td>19.630000</td>\n",
       "      <td>1.111801</td>\n",
       "      <td>0.897063</td>\n",
       "    </tr>\n",
       "    <tr>\n",
       "      <th>Daniel Albert NAURITS</th>\n",
       "      <td>10.998854</td>\n",
       "      <td>1.050539</td>\n",
       "      <td>0.822037</td>\n",
       "    </tr>\n",
       "    <tr>\n",
       "      <th>Daniel SAMOHIN</th>\n",
       "      <td>17.018533</td>\n",
       "      <td>1.087697</td>\n",
       "      <td>0.867024</td>\n",
       "    </tr>\n",
       "    <tr>\n",
       "      <th>Denis TEN</th>\n",
       "      <td>48.585064</td>\n",
       "      <td>1.273562</td>\n",
       "      <td>1.074352</td>\n",
       "    </tr>\n",
       "    <tr>\n",
       "      <th>Deniss VASILJEVS</th>\n",
       "      <td>72.158888</td>\n",
       "      <td>1.413764</td>\n",
       "      <td>1.227188</td>\n",
       "    </tr>\n",
       "    <tr>\n",
       "      <th>Dmitri ALIEV</th>\n",
       "      <td>82.582222</td>\n",
       "      <td>1.471624</td>\n",
       "      <td>1.296879</td>\n",
       "    </tr>\n",
       "    <tr>\n",
       "      <th>Donovan CARRILLO</th>\n",
       "      <td>10.330000</td>\n",
       "      <td>1.058834</td>\n",
       "      <td>0.838922</td>\n",
       "    </tr>\n",
       "    <tr>\n",
       "      <th>Elladj BALDE</th>\n",
       "      <td>62.620000</td>\n",
       "      <td>1.356647</td>\n",
       "      <td>1.165829</td>\n",
       "    </tr>\n",
       "    <tr>\n",
       "      <th>Felipe MONTOYA</th>\n",
       "      <td>16.618854</td>\n",
       "      <td>1.084066</td>\n",
       "      <td>0.859196</td>\n",
       "    </tr>\n",
       "    <tr>\n",
       "      <th>Geon Hyeong AN</th>\n",
       "      <td>4.680000</td>\n",
       "      <td>1.026655</td>\n",
       "      <td>0.803601</td>\n",
       "    </tr>\n",
       "    <tr>\n",
       "      <th>Grant HOCHSTEIN</th>\n",
       "      <td>46.788588</td>\n",
       "      <td>1.263941</td>\n",
       "      <td>1.063361</td>\n",
       "    </tr>\n",
       "    <tr>\n",
       "      <th>Han YAN</th>\n",
       "      <td>72.279441</td>\n",
       "      <td>1.410000</td>\n",
       "      <td>1.225971</td>\n",
       "    </tr>\n",
       "    <tr>\n",
       "      <th>He ZHANG</th>\n",
       "      <td>5.308616</td>\n",
       "      <td>1.022955</td>\n",
       "      <td>0.797893</td>\n",
       "    </tr>\n",
       "    <tr>\n",
       "      <th>Hiroaki SATO</th>\n",
       "      <td>41.699278</td>\n",
       "      <td>1.225491</td>\n",
       "      <td>1.016112</td>\n",
       "    </tr>\n",
       "    <tr>\n",
       "      <th>Igor REZNICHENKO</th>\n",
       "      <td>0.548854</td>\n",
       "      <td>0.988199</td>\n",
       "      <td>0.752941</td>\n",
       "    </tr>\n",
       "    <tr>\n",
       "      <th>Irakli MAYSURADZE</th>\n",
       "      <td>26.118854</td>\n",
       "      <td>1.140739</td>\n",
       "      <td>0.922007</td>\n",
       "    </tr>\n",
       "    <tr>\n",
       "      <th>Jason BROWN</th>\n",
       "      <td>92.468533</td>\n",
       "      <td>1.534569</td>\n",
       "      <td>1.358738</td>\n",
       "    </tr>\n",
       "    <tr>\n",
       "      <th>Javier FERNANDEZ</th>\n",
       "      <td>111.794249</td>\n",
       "      <td>1.645501</td>\n",
       "      <td>1.487909</td>\n",
       "    </tr>\n",
       "    <tr>\n",
       "      <th>...</th>\n",
       "      <td>...</td>\n",
       "      <td>...</td>\n",
       "      <td>...</td>\n",
       "    </tr>\n",
       "    <tr>\n",
       "      <th>Keiji TANAKA</th>\n",
       "      <td>82.848616</td>\n",
       "      <td>1.474397</td>\n",
       "      <td>1.294967</td>\n",
       "    </tr>\n",
       "    <tr>\n",
       "      <th>Kevin AYMOZ</th>\n",
       "      <td>54.796660</td>\n",
       "      <td>1.307873</td>\n",
       "      <td>1.111480</td>\n",
       "    </tr>\n",
       "    <tr>\n",
       "      <th>Kevin REYNOLDS</th>\n",
       "      <td>59.339441</td>\n",
       "      <td>1.331618</td>\n",
       "      <td>1.140322</td>\n",
       "    </tr>\n",
       "    <tr>\n",
       "      <th>Leslie Man Cheuk IP</th>\n",
       "      <td>-25.350000</td>\n",
       "      <td>0.855621</td>\n",
       "      <td>0.615876</td>\n",
       "    </tr>\n",
       "    <tr>\n",
       "      <th>Liam FIRUS</th>\n",
       "      <td>58.581092</td>\n",
       "      <td>1.320102</td>\n",
       "      <td>1.126336</td>\n",
       "    </tr>\n",
       "    <tr>\n",
       "      <th>Matteo RIZZO</th>\n",
       "      <td>54.328854</td>\n",
       "      <td>1.309028</td>\n",
       "      <td>1.108516</td>\n",
       "    </tr>\n",
       "    <tr>\n",
       "      <th>Max AARON</th>\n",
       "      <td>81.641297</td>\n",
       "      <td>1.466575</td>\n",
       "      <td>1.287593</td>\n",
       "    </tr>\n",
       "    <tr>\n",
       "      <th>Michal BREZINA</th>\n",
       "      <td>64.754818</td>\n",
       "      <td>1.370840</td>\n",
       "      <td>1.176268</td>\n",
       "    </tr>\n",
       "    <tr>\n",
       "      <th>Mikhail KOLYADA</th>\n",
       "      <td>103.754873</td>\n",
       "      <td>1.601338</td>\n",
       "      <td>1.435722</td>\n",
       "    </tr>\n",
       "    <tr>\n",
       "      <th>Misha GE</th>\n",
       "      <td>84.881731</td>\n",
       "      <td>1.486425</td>\n",
       "      <td>1.309015</td>\n",
       "    </tr>\n",
       "    <tr>\n",
       "      <th>Moris KVITELASHVILI</th>\n",
       "      <td>67.908016</td>\n",
       "      <td>1.384449</td>\n",
       "      <td>1.199127</td>\n",
       "    </tr>\n",
       "    <tr>\n",
       "      <th>Nam NGUYEN</th>\n",
       "      <td>63.542604</td>\n",
       "      <td>1.360689</td>\n",
       "      <td>1.170293</td>\n",
       "    </tr>\n",
       "    <tr>\n",
       "      <th>Nathan CHEN</th>\n",
       "      <td>125.324813</td>\n",
       "      <td>1.733042</td>\n",
       "      <td>1.588058</td>\n",
       "    </tr>\n",
       "    <tr>\n",
       "      <th>Nicolas NADEAU</th>\n",
       "      <td>63.606322</td>\n",
       "      <td>1.368474</td>\n",
       "      <td>1.168704</td>\n",
       "    </tr>\n",
       "    <tr>\n",
       "      <th>Patrick CHAN</th>\n",
       "      <td>79.876322</td>\n",
       "      <td>1.465519</td>\n",
       "      <td>1.275715</td>\n",
       "    </tr>\n",
       "    <tr>\n",
       "      <th>Paul FENTZ</th>\n",
       "      <td>32.822588</td>\n",
       "      <td>1.182630</td>\n",
       "      <td>0.966317</td>\n",
       "    </tr>\n",
       "    <tr>\n",
       "      <th>Phillip HARRIS</th>\n",
       "      <td>43.118854</td>\n",
       "      <td>1.242154</td>\n",
       "      <td>1.034403</td>\n",
       "    </tr>\n",
       "    <tr>\n",
       "      <th>Romain PONSART</th>\n",
       "      <td>34.052757</td>\n",
       "      <td>1.186406</td>\n",
       "      <td>0.974667</td>\n",
       "    </tr>\n",
       "    <tr>\n",
       "      <th>Roman SADOVSKY</th>\n",
       "      <td>47.851092</td>\n",
       "      <td>1.252916</td>\n",
       "      <td>1.050380</td>\n",
       "    </tr>\n",
       "    <tr>\n",
       "      <th>Ross MINER</th>\n",
       "      <td>67.371092</td>\n",
       "      <td>1.375140</td>\n",
       "      <td>1.188560</td>\n",
       "    </tr>\n",
       "    <tr>\n",
       "      <th>Sergei VORONOV</th>\n",
       "      <td>109.430185</td>\n",
       "      <td>1.639868</td>\n",
       "      <td>1.484511</td>\n",
       "    </tr>\n",
       "    <tr>\n",
       "      <th>Shoma UNO</th>\n",
       "      <td>121.774327</td>\n",
       "      <td>1.703357</td>\n",
       "      <td>1.546375</td>\n",
       "    </tr>\n",
       "    <tr>\n",
       "      <th>Sihyeong LEE</th>\n",
       "      <td>1.490000</td>\n",
       "      <td>1.008486</td>\n",
       "      <td>0.783658</td>\n",
       "    </tr>\n",
       "    <tr>\n",
       "      <th>Slavik HAYRAPETYAN</th>\n",
       "      <td>31.528854</td>\n",
       "      <td>1.173013</td>\n",
       "      <td>0.957776</td>\n",
       "    </tr>\n",
       "    <tr>\n",
       "      <th>Sondre ODDVOLL BOE</th>\n",
       "      <td>5.538854</td>\n",
       "      <td>1.017967</td>\n",
       "      <td>0.785936</td>\n",
       "    </tr>\n",
       "    <tr>\n",
       "      <th>Stephane WALKER</th>\n",
       "      <td>20.308854</td>\n",
       "      <td>1.106079</td>\n",
       "      <td>0.883593</td>\n",
       "    </tr>\n",
       "    <tr>\n",
       "      <th>Takahito MURA</th>\n",
       "      <td>43.729138</td>\n",
       "      <td>1.239483</td>\n",
       "      <td>1.036148</td>\n",
       "    </tr>\n",
       "    <tr>\n",
       "      <th>Valtter VIRTANEN</th>\n",
       "      <td>16.668854</td>\n",
       "      <td>1.084364</td>\n",
       "      <td>0.859526</td>\n",
       "    </tr>\n",
       "    <tr>\n",
       "      <th>Vincent ZHOU</th>\n",
       "      <td>73.516946</td>\n",
       "      <td>1.416828</td>\n",
       "      <td>1.235633</td>\n",
       "    </tr>\n",
       "    <tr>\n",
       "      <th>Yuzuru HANYU</th>\n",
       "      <td>123.998533</td>\n",
       "      <td>1.720821</td>\n",
       "      <td>1.569414</td>\n",
       "    </tr>\n",
       "  </tbody>\n",
       "</table>\n",
       "<p>66 rows × 3 columns</p>\n",
       "</div>"
      ],
      "text/plain": [
       "                                0         1         2\n",
       "Abzal RAKIMGALIEV        0.000000  0.000000  0.774343\n",
       "Adam RIPPON            109.345185  1.639827  1.483918\n",
       "Alexander MAJOROV       40.298043  1.219433  1.016884\n",
       "Alexander PETROV        19.817232  1.103512  0.883260\n",
       "Alexander SAMARIN       78.813945  1.453551  1.269641\n",
       "Alexei BYCHENKO         83.238264  1.479493  1.300280\n",
       "Andrei LAZUKIN          45.368533  1.255477  1.053157\n",
       "Andrew DODDS             2.230000  1.012701  0.788284\n",
       "Boyang JIN             105.809441  1.606069  1.447905\n",
       "Brendan KERRY           40.053161  1.227213  1.019387\n",
       "Burak DEMIRBOGA          2.118854  0.997565  0.763322\n",
       "Chafik BESSEGHIER       46.068854  1.259752  1.053906\n",
       "Chih-I TSAO             19.630000  1.111801  0.897063\n",
       "Daniel Albert NAURITS   10.998854  1.050539  0.822037\n",
       "Daniel SAMOHIN          17.018533  1.087697  0.867024\n",
       "Denis TEN               48.585064  1.273562  1.074352\n",
       "Deniss VASILJEVS        72.158888  1.413764  1.227188\n",
       "Dmitri ALIEV            82.582222  1.471624  1.296879\n",
       "Donovan CARRILLO        10.330000  1.058834  0.838922\n",
       "Elladj BALDE            62.620000  1.356647  1.165829\n",
       "Felipe MONTOYA          16.618854  1.084066  0.859196\n",
       "Geon Hyeong AN           4.680000  1.026655  0.803601\n",
       "Grant HOCHSTEIN         46.788588  1.263941  1.063361\n",
       "Han YAN                 72.279441  1.410000  1.225971\n",
       "He ZHANG                 5.308616  1.022955  0.797893\n",
       "Hiroaki SATO            41.699278  1.225491  1.016112\n",
       "Igor REZNICHENKO         0.548854  0.988199  0.752941\n",
       "Irakli MAYSURADZE       26.118854  1.140739  0.922007\n",
       "Jason BROWN             92.468533  1.534569  1.358738\n",
       "Javier FERNANDEZ       111.794249  1.645501  1.487909\n",
       "...                           ...       ...       ...\n",
       "Keiji TANAKA            82.848616  1.474397  1.294967\n",
       "Kevin AYMOZ             54.796660  1.307873  1.111480\n",
       "Kevin REYNOLDS          59.339441  1.331618  1.140322\n",
       "Leslie Man Cheuk IP    -25.350000  0.855621  0.615876\n",
       "Liam FIRUS              58.581092  1.320102  1.126336\n",
       "Matteo RIZZO            54.328854  1.309028  1.108516\n",
       "Max AARON               81.641297  1.466575  1.287593\n",
       "Michal BREZINA          64.754818  1.370840  1.176268\n",
       "Mikhail KOLYADA        103.754873  1.601338  1.435722\n",
       "Misha GE                84.881731  1.486425  1.309015\n",
       "Moris KVITELASHVILI     67.908016  1.384449  1.199127\n",
       "Nam NGUYEN              63.542604  1.360689  1.170293\n",
       "Nathan CHEN            125.324813  1.733042  1.588058\n",
       "Nicolas NADEAU          63.606322  1.368474  1.168704\n",
       "Patrick CHAN            79.876322  1.465519  1.275715\n",
       "Paul FENTZ              32.822588  1.182630  0.966317\n",
       "Phillip HARRIS          43.118854  1.242154  1.034403\n",
       "Romain PONSART          34.052757  1.186406  0.974667\n",
       "Roman SADOVSKY          47.851092  1.252916  1.050380\n",
       "Ross MINER              67.371092  1.375140  1.188560\n",
       "Sergei VORONOV         109.430185  1.639868  1.484511\n",
       "Shoma UNO              121.774327  1.703357  1.546375\n",
       "Sihyeong LEE             1.490000  1.008486  0.783658\n",
       "Slavik HAYRAPETYAN      31.528854  1.173013  0.957776\n",
       "Sondre ODDVOLL BOE       5.538854  1.017967  0.785936\n",
       "Stephane WALKER         20.308854  1.106079  0.883593\n",
       "Takahito MURA           43.729138  1.239483  1.036148\n",
       "Valtter VIRTANEN        16.668854  1.084364  0.859526\n",
       "Vincent ZHOU            73.516946  1.416828  1.235633\n",
       "Yuzuru HANYU           123.998533  1.720821  1.569414\n",
       "\n",
       "[66 rows x 3 columns]"
      ]
     },
     "execution_count": 317,
     "metadata": {},
     "output_type": "execute_result"
    }
   ],
   "source": [
    "pd.concat([linear_scores, log_linear_scores, hybrid_scores], axis=1, sort=True)"
   ]
  },
  {
   "cell_type": "code",
   "execution_count": null,
   "metadata": {},
   "outputs": [],
   "source": []
  }
 ],
 "metadata": {
  "kernelspec": {
   "display_name": "Python 3",
   "language": "python",
   "name": "python3"
  },
  "language_info": {
   "codemirror_mode": {
    "name": "ipython",
    "version": 3
   },
   "file_extension": ".py",
   "mimetype": "text/x-python",
   "name": "python",
   "nbconvert_exporter": "python",
   "pygments_lexer": "ipython3",
   "version": "3.6.5"
  }
 },
 "nbformat": 4,
 "nbformat_minor": 2
}
