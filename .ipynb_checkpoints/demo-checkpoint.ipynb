{
 "cells": [
  {
   "cell_type": "code",
   "execution_count": 3,
   "metadata": {},
   "outputs": [
    {
     "data": {
      "text/plain": [
       "0.3333333333333333"
      ]
     },
     "execution_count": 3,
     "metadata": {},
     "output_type": "execute_result"
    }
   ],
   "source": [
    "from itertools import combinations\n",
    "ranking1 = ['AARON', 'BRUCE', 'CRAIG']\n",
    "ranking2 = ['BRUCE', 'AARON', 'CRAIG']\n",
    "ordered_pairs1 = set(combinations(ranking1, 2))\n",
    "# {('AARON', 'BALDE'), ('AARON', 'CHEW'), ('BALDE', 'CHEW')}\n",
    "ordered_pairs2 = set(combinations(ranking2, 2))\n",
    "# {('AARON', 'CHEW'), ('BALDE', 'AARON'), ('BALDE', 'CHEW')}\n",
    "n_pairs = len(ordered_pairs1) # 3\n",
    "n_concordant_pairs = len(ordered_pairs1 & ordered_pairs2) # 2\n",
    "n_discordant_pairs = n_pairs - n_concordant_pairs # 1\n",
    "tau = (n_concordant_pairs - n_discordant_pairs) / n_pairs # 0.33\n",
    "tau"
   ]
  },
  {
   "cell_type": "code",
   "execution_count": null,
   "metadata": {},
   "outputs": [],
   "source": []
  }
 ],
 "metadata": {
  "kernelspec": {
   "display_name": "Python 3",
   "language": "python",
   "name": "python3"
  },
  "language_info": {
   "codemirror_mode": {
    "name": "ipython",
    "version": 3
   },
   "file_extension": ".py",
   "mimetype": "text/x-python",
   "name": "python",
   "nbconvert_exporter": "python",
   "pygments_lexer": "ipython3",
   "version": "3.6.5"
  }
 },
 "nbformat": 4,
 "nbformat_minor": 2
}
