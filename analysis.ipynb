{
 "cells": [
  {
   "cell_type": "code",
   "execution_count": 4,
   "metadata": {},
   "outputs": [],
   "source": [
    "from bs4 import BeautifulSoup"
   ]
  },
  {
   "cell_type": "code",
   "execution_count": 5,
   "metadata": {},
   "outputs": [],
   "source": [
    "from urllib.request import urlopen"
   ]
  },
  {
   "cell_type": "code",
   "execution_count": 6,
   "metadata": {},
   "outputs": [],
   "source": [
    "import pandas as pd\n",
    "import numpy as np\n",
    "from itertools import combinations\n",
    "from scipy.stats import kendalltau"
   ]
  },
  {
   "cell_type": "markdown",
   "metadata": {},
   "source": [
    "## Scrap scores from result pages"
   ]
  },
  {
   "cell_type": "code",
   "execution_count": 7,
   "metadata": {},
   "outputs": [],
   "source": [
    "links = {\n",
    "    'US': 'http://www.isuresults.com/results/season1718/gpusa2017/CAT001RS.HTM',\n",
    "    'CA': 'http://www.isuresults.com/results/season1718/gpcan2017/CAT001RS.HTM',\n",
    "    'FR': 'http://www.isuresults.com/results/season1718/gpfra2017/CAT001RS.HTM',\n",
    "    'RU': 'http://www.isuresults.com/results/season1718/gprus2017/CAT001RS.HTM',\n",
    "    'CN': 'http://www.isuresults.com/results/season1718/gpchn2017/CAT001RS.HTM',\n",
    "    'JP': 'http://www.isuresults.com/results/season1718/gpjpn2017/data0190.htm',\n",
    "    'EU': 'http://www.isuresults.com/results/season1718/ec2018/CAT001RS.HTM',\n",
    "    '4C': 'http://www.isuresults.com/results/season1718/fc2018/CAT001RS.HTM',\n",
    "    'WR': 'http://www.isuresults.com/results/season1718/wc2018/CAT001RS.HTM'\n",
    "}"
   ]
  },
  {
   "cell_type": "code",
   "execution_count": 8,
   "metadata": {},
   "outputs": [],
   "source": [
    "def parse_score(link, event_name, year):\n",
    "    html = urlopen(link)\n",
    "    bs = BeautifulSoup(html.read(), 'html.parser')\n",
    "\n",
    "    table_str = str(bs.findAll('table')[0])\n",
    "    table = pd.read_html(table_str)[0]\n",
    "    if year == 2017 and event_name == 'JP':\n",
    "        table = table[[1, 5]].dropna().iloc[1:-1]\n",
    "    else:\n",
    "        table = table[[1, 6, 8]].dropna().iloc[2:, :2]\n",
    "    table.columns = ['name', 'score']\n",
    "    table['event'] = event_name\n",
    "    table['score'] = table['score'].astype(float)\n",
    "    table['year'] = year\n",
    "    return table"
   ]
  },
  {
   "cell_type": "code",
   "execution_count": 9,
   "metadata": {},
   "outputs": [],
   "source": [
    "# scores = pd.concat((parse_score(link, event_name, 2017) for event_name, link in links.items()), axis=0)\n",
    "# scores['name'] = scores['name'].str.replace('\\xa0', ' ')\n",
    "# scores.reset_index(drop=True, inplace=True)\n",
    "scores = pd.read_csv('scores/2017.csv', names=['name', 'score', 'event', 'year'])"
   ]
  },
  {
   "cell_type": "code",
   "execution_count": 31,
   "metadata": {},
   "outputs": [],
   "source": [
    "season_scores = scores.loc[scores['event'] != 'WR']\n",
    "world_scores = scores.loc[scores['event'] == 'WR', ['name', 'score']].set_index('name').squeeze()"
   ]
  },
  {
   "cell_type": "code",
   "execution_count": 34,
   "metadata": {
    "scrolled": false
   },
   "outputs": [
    {
     "data": {
      "text/plain": [
       "name\n",
       "Shoma UNO           290.786667\n",
       "Yuzuru HANYU        290.770000\n",
       "Nathan CHEN         284.835000\n",
       "Javier FERNANDEZ    277.440000\n",
       "Boyang JIN          270.486667\n",
       "Name: score, dtype: float64"
      ]
     },
     "execution_count": 34,
     "metadata": {},
     "output_type": "execute_result"
    }
   ],
   "source": [
    "season_avg = season_scores.groupby('name')['score'].mean().sort_values(ascending=False)\n",
    "season_avg.head()"
   ]
  },
  {
   "cell_type": "markdown",
   "metadata": {},
   "source": [
    "## Implement kendall tau metrics"
   ]
  },
  {
   "cell_type": "code",
   "execution_count": 63,
   "metadata": {},
   "outputs": [],
   "source": [
    "def return_ranking(skater_scores, world_scores):\n",
    "    skater_ranking = list(skater_scores.index.intersection(world_scores.index))\n",
    "    world_ranking = list(world_scores.index.intersection(skater_scores.index))\n",
    "    return skater_ranking, world_ranking"
   ]
  },
  {
   "cell_type": "code",
   "execution_count": 64,
   "metadata": {},
   "outputs": [],
   "source": [
    "def calculate_kendall_tau(skater_ranking, world_ranking):\n",
    "    skater_pairs = set(combinations(skater_ranking, 2))\n",
    "    world_pairs = set(combinations(world_ranking, 2))\n",
    "    concordant_pairs = set(skater_pairs) & set(world_pairs)\n",
    "    tau = (2 * len(concordant_pairs) - len(skater_pairs)) / len(skater_pairs)\n",
    "    return tau "
   ]
  },
  {
   "cell_type": "code",
   "execution_count": 65,
   "metadata": {},
   "outputs": [
    {
     "data": {
      "text/plain": [
       "0.5434782608695652"
      ]
     },
     "execution_count": 65,
     "metadata": {},
     "output_type": "execute_result"
    }
   ],
   "source": [
    "skater_ranking, world_ranking = return_ranking(season_avg, world_scores)\n",
    "calculate_kendall_tau(skater_ranking, world_ranking)"
   ]
  },
  {
   "cell_type": "markdown",
   "metadata": {},
   "source": [
    "Result agrees with kendalltau from scipy"
   ]
  },
  {
   "cell_type": "code",
   "execution_count": 66,
   "metadata": {},
   "outputs": [],
   "source": [
    "season_numeric_rank = list(range(len(skater_ranking)))\n",
    "world_numeric_rank = list(skater_ranking.index(skater) for skater in world_ranking)"
   ]
  },
  {
   "cell_type": "code",
   "execution_count": 67,
   "metadata": {
    "scrolled": false
   },
   "outputs": [
    {
     "data": {
      "text/plain": [
       "KendalltauResult(correlation=0.5434782608695652, pvalue=0.00019870245032364205)"
      ]
     },
     "execution_count": 67,
     "metadata": {},
     "output_type": "execute_result"
    }
   ],
   "source": [
    "kendalltau(season_numeric_rank, world_numeric_rank)"
   ]
  },
  {
   "cell_type": "markdown",
   "metadata": {},
   "source": [
    "RMSE with mean model"
   ]
  },
  {
   "cell_type": "code",
   "execution_count": 68,
   "metadata": {},
   "outputs": [
    {
     "data": {
      "text/plain": [
       "10.099364225465914"
      ]
     },
     "execution_count": 68,
     "metadata": {},
     "output_type": "execute_result"
    }
   ],
   "source": [
    "score_comparison = pd.merge(season_scores, season_avg.to_frame(), left_on='name', right_index=True, suffixes=['', '_avg'])\n",
    "score_comparison['sq_error'] = (score_comparison['score'] - score_comparison['score_avg'])**2\n",
    "np.sqrt(score_comparison['sq_error'].mean())"
   ]
  },
  {
   "cell_type": "markdown",
   "metadata": {},
   "source": [
    "## Normalized mean model"
   ]
  },
  {
   "cell_type": "code",
   "execution_count": null,
   "metadata": {},
   "outputs": [],
   "source": [
    "def kendall_tau(skater_scores, world_scores):\n",
    "    skater_ranking = skater_scores.index.intersection(world_scores.index)\n",
    "    world_ranking = world_scores.index.intersection(skater_scores.index)\n",
    "    skater_pairs = set(combinations(skater_ranking, 2))\n",
    "    world_pairs = set(combinations(world_ranking, 2))\n",
    "    concordant_pairs = set(skater_pairs) & set(world_pairs)\n",
    "    tau = (2 * len(concordant_pairs) - len(skater_pairs)) / len(skater_pairs)\n",
    "    return tau "
   ]
  }
 ],
 "metadata": {
  "kernelspec": {
   "display_name": "Python 3",
   "language": "python",
   "name": "python3"
  },
  "language_info": {
   "codemirror_mode": {
    "name": "ipython",
    "version": 3
   },
   "file_extension": ".py",
   "mimetype": "text/x-python",
   "name": "python",
   "nbconvert_exporter": "python",
   "pygments_lexer": "ipython3",
   "version": "3.6.5"
  }
 },
 "nbformat": 4,
 "nbformat_minor": 2
}
