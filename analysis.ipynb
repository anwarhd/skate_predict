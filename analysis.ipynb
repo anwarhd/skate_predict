{
 "cells": [
  {
   "cell_type": "code",
   "execution_count": 2,
   "metadata": {},
   "outputs": [],
   "source": [
    "import pandas as pd\n",
    "import numpy as np\n",
    "from sklearn.linear_model import LinearRegression\n",
    "from itertools import combinations\n",
    "from scipy.stats import kendalltau\n",
    "from batchlog import BatchLogistic"
   ]
  },
  {
   "cell_type": "code",
   "execution_count": 3,
   "metadata": {},
   "outputs": [],
   "source": [
    "import matplotlib.pyplot as plt\n",
    "from matplotlib import rc\n",
    "plt.style.use('seaborn')\n",
    "rc('text', usetex=True)\n",
    "%matplotlib inline"
   ]
  },
  {
   "cell_type": "markdown",
   "metadata": {},
   "source": [
    "## Import scores from CSV"
   ]
  },
  {
   "cell_type": "code",
   "execution_count": 88,
   "metadata": {},
   "outputs": [],
   "source": [
    "male_scores_all = pd.read_csv('scores/trimmed_male.csv')\n",
    "female_scores_all = pd.read_csv('scores/trimmed_female.csv')"
   ]
  },
  {
   "cell_type": "markdown",
   "metadata": {},
   "source": [
    "## Split data into train and test"
   ]
  },
  {
   "cell_type": "code",
   "execution_count": 89,
   "metadata": {},
   "outputs": [
    {
     "data": {
      "text/plain": [
       "([2005, 2006, 2007, 2009, 2010, 2012, 2013, 2014, 2016, 2017],\n",
       " [2008, 2011, 2015, 2018])"
      ]
     },
     "execution_count": 89,
     "metadata": {},
     "output_type": "execute_result"
    }
   ],
   "source": [
    "years_before_last = range(2005, 2018)\n",
    "year_seed = np.random.RandomState(seed=42)\n",
    "train_years = sorted(list(year_seed.choice(years_before_last, size=10, replace=False)))\n",
    "test_years = sorted([year for year in years_before_last if year not in train_years] + [2018])\n",
    "train_years, test_years"
   ]
  },
  {
   "cell_type": "code",
   "execution_count": 70,
   "metadata": {},
   "outputs": [],
   "source": [
    "def train_test_split(scores, train_years, test_years):\n",
    "    season_scores = scores.loc[scores['event']!='WR']\n",
    "    world_scores = scores.loc[scores['event']=='WR']\n",
    "    \n",
    "    season_train = season_scores.loc[season_scores['year'].isin(train_years)]\n",
    "    world_train = world_scores.loc[world_scores['year'].isin(train_years)]\n",
    "    season_test = season_scores.loc[season_scores['year'].isin(test_years)]\n",
    "    world_test = world_scores.loc[world_scores['year'].isin(test_years)]    \n",
    "    \n",
    "    return season_train, world_train, season_test, world_test"
   ]
  },
  {
   "cell_type": "code",
   "execution_count": 90,
   "metadata": {},
   "outputs": [
    {
     "data": {
      "text/plain": [
       "((1216, 4), (238, 4), (507, 4), (96, 4))"
      ]
     },
     "execution_count": 90,
     "metadata": {},
     "output_type": "execute_result"
    }
   ],
   "source": [
    "season_train, world_train, season_test, world_test = train_test_split(male_scores, train_years, test_years)\n",
    "season_train.shape, world_train.shape, season_test.shape, world_test.shape"
   ]
  },
  {
   "cell_type": "markdown",
   "metadata": {},
   "source": [
    "## Implement kendall tau metrics"
   ]
  },
  {
   "cell_type": "code",
   "execution_count": 91,
   "metadata": {},
   "outputs": [],
   "source": [
    "def return_ranking(skater_scores, world_scores):\n",
    "    skater_scores = skater_scores.sort_values(ascending=False)\n",
    "    world_scores = world_scores.sort_values(ascending=False)\n",
    "    skater_ranking = list(skater_scores.index.intersection(world_scores.index))\n",
    "    world_ranking = list(world_scores.index.intersection(skater_scores.index))\n",
    "    return skater_ranking, world_ranking"
   ]
  },
  {
   "cell_type": "code",
   "execution_count": 92,
   "metadata": {},
   "outputs": [],
   "source": [
    "def calculate_kendall_tau(skater_ranking, world_ranking, verbose=True):\n",
    "    skater_pairs = set(combinations(skater_ranking, 2))\n",
    "    world_pairs = set(combinations(world_ranking, 2))\n",
    "    n_pairs = len(skater_pairs)\n",
    "    n_concordant_pairs = len(set(skater_pairs) & set(world_pairs))\n",
    "    print(f'There are {n_concordant_pairs} concordant_pairs out of {n_pairs} pairs')\n",
    "    tau = (2 * n_concordant_pairs - n_pairs) / n_pairs\n",
    "    return tau "
   ]
  },
  {
   "cell_type": "markdown",
   "metadata": {},
   "source": [
    "## Skater mean model"
   ]
  },
  {
   "cell_type": "code",
   "execution_count": 103,
   "metadata": {
    "scrolled": true
   },
   "outputs": [],
   "source": [
    "year = 2017\n",
    "season_scores = season_train.loc[season_train['year']==year].copy()\n",
    "world_scores = world_train.loc[world_train['year']==year, ['name', 'score']].set_index('name').squeeze()"
   ]
  },
  {
   "cell_type": "code",
   "execution_count": 104,
   "metadata": {
    "scrolled": false
   },
   "outputs": [
    {
     "data": {
      "text/plain": [
       "name\n",
       "Yuzuru, HANYU        290.5350\n",
       "Javier, FERNANDEZ    285.4925\n",
       "Shoma, UNO           283.7425\n",
       "Nathan, CHEN         281.0050\n",
       "Patrick, CHAN        270.3500\n",
       "Name: score, dtype: float64"
      ]
     },
     "execution_count": 104,
     "metadata": {},
     "output_type": "execute_result"
    }
   ],
   "source": [
    "season_avg = season_scores.groupby('name')['score'].mean().sort_values(ascending=False)\n",
    "season_avg.head()"
   ]
  },
  {
   "cell_type": "code",
   "execution_count": 105,
   "metadata": {},
   "outputs": [
    {
     "name": "stdout",
     "output_type": "stream",
     "text": [
      "There are 234 concordant_pairs out of 276 pairs\n"
     ]
    },
    {
     "data": {
      "text/plain": [
       "0.6956521739130435"
      ]
     },
     "execution_count": 105,
     "metadata": {},
     "output_type": "execute_result"
    }
   ],
   "source": [
    "skater_ranking_avg, world_ranking = return_ranking(season_avg, world_scores)\n",
    "calculate_kendall_tau(skater_ranking_avg, world_ranking)"
   ]
  },
  {
   "cell_type": "markdown",
   "metadata": {},
   "source": [
    "Result agrees with kendalltau from scipy"
   ]
  },
  {
   "cell_type": "code",
   "execution_count": 106,
   "metadata": {},
   "outputs": [
    {
     "data": {
      "text/plain": [
       "KendalltauResult(correlation=0.6956521739130435, pvalue=1.9126097800691154e-06)"
      ]
     },
     "execution_count": 106,
     "metadata": {},
     "output_type": "execute_result"
    }
   ],
   "source": [
    "season_numeric_rank = list(range(len(skater_ranking_avg)))\n",
    "world_numeric_rank = [skater_ranking_avg.index(skater) for skater in world_ranking]\n",
    "kendalltau(season_numeric_rank, world_numeric_rank)"
   ]
  },
  {
   "cell_type": "markdown",
   "metadata": {},
   "source": [
    "RMSE with mean model"
   ]
  },
  {
   "cell_type": "code",
   "execution_count": 107,
   "metadata": {},
   "outputs": [
    {
     "data": {
      "text/plain": [
       "10.271546837961868"
      ]
     },
     "execution_count": 107,
     "metadata": {},
     "output_type": "execute_result"
    }
   ],
   "source": [
    "score_comparison = pd.merge(season_scores, season_avg.to_frame(), left_on='name', right_index=True, suffixes=['', '_avg'])\n",
    "score_comparison['sq_error'] = (score_comparison['score'] - score_comparison['score_avg'])**2\n",
    "np.sqrt(score_comparison['sq_error'].mean())"
   ]
  },
  {
   "cell_type": "markdown",
   "metadata": {},
   "source": [
    "### Refactored"
   ]
  },
  {
   "cell_type": "code",
   "execution_count": 168,
   "metadata": {},
   "outputs": [],
   "source": [
    "def get_yearly_scores(year, season_scores, world_scores):\n",
    "    yearly_season_scores = season_scores.loc[season_scores['year']==year].copy()\n",
    "    yearly_world_scores = world_scores.loc[world_scores['year']==year, ['name', 'score']].set_index('name').squeeze()\n",
    "    return yearly_season_scores, yearly_world_scores"
   ]
  },
  {
   "cell_type": "code",
   "execution_count": null,
   "metadata": {},
   "outputs": [],
   "source": [
    "class Model:\n",
    "    def __init__(self):\n",
    "        self.skater_coefs = None\n",
    "        self.world_scores = None\n",
    "    \n",
    "    \n",
    "    def evaluate_kendall_tau():\n",
    "        def return_ranking(skater_scores, world_scores):\n",
    "            skater_scores = skater_scores.sort_values(ascending=False)\n",
    "            world_scores = world_scores.sort_values(ascending=False)\n",
    "            skater_ranking = list(skater_scores.index.intersection(world_scores.index))\n",
    "            world_ranking = list(world_scores.index.intersection(skater_scores.index))\n",
    "            return skater_ranking, world_ranking\n",
    "    \n",
    "        def calculate_kendall_tau(skater_ranking, world_ranking, verbose=True):\n",
    "                skater_pairs = set(combinations(skater_ranking, 2))\n",
    "                world_pairs = set(combinations(world_ranking, 2))\n",
    "                n_pairs = len(skater_pairs)\n",
    "                n_concordant_pairs = len(set(skater_pairs) & set(world_pairs))\n",
    "                print(f'There are {n_concordant_pairs} concordant_pairs out of {n_pairs} pairs')\n",
    "                tau = (2 * n_concordant_pairs - n_pairs) / n_pairs\n",
    "                return tau \n",
    "        model_ranking, world_ranking = self.return_ranking(skater_coefs, world_scores)\n",
    "        return self.calculate_kendall_tau(model_ranking, world_ranking)\n",
    "    "
   ]
  },
  {
   "cell_type": "code",
   "execution_count": 164,
   "metadata": {},
   "outputs": [],
   "source": [
    "def evaluate_kendall_tau(skater_coefs, world_scores):\n",
    "    model_ranking, world_ranking = return_ranking(skater_coefs, world_scores)\n",
    "    return calculate_kendall_tau(model_ranking, world_ranking)"
   ]
  },
  {
   "cell_type": "code",
   "execution_count": 170,
   "metadata": {},
   "outputs": [],
   "source": [
    "def train_avg(season_scores):\n",
    "    season_avg = season_scores.groupby('name')['score'].mean().sort_values(ascending=False)\n",
    "    return season_avg"
   ]
  },
  {
   "cell_type": "code",
   "execution_count": 178,
   "metadata": {
    "scrolled": true
   },
   "outputs": [
    {
     "name": "stdout",
     "output_type": "stream",
     "text": [
      "There are 173 concordant_pairs out of 210 pairs\n",
      "2005 0.6476190476190476\n",
      "There are 214 concordant_pairs out of 253 pairs\n",
      "2006 0.691699604743083\n",
      "There are 225 concordant_pairs out of 276 pairs\n",
      "2007 0.6304347826086957\n",
      "There are 221 concordant_pairs out of 276 pairs\n",
      "2009 0.6014492753623188\n",
      "There are 198 concordant_pairs out of 231 pairs\n",
      "2010 0.7142857142857143\n",
      "There are 203 concordant_pairs out of 253 pairs\n",
      "2012 0.6047430830039525\n",
      "There are 203 concordant_pairs out of 253 pairs\n",
      "2013 0.6047430830039525\n",
      "There are 191 concordant_pairs out of 210 pairs\n",
      "2014 0.819047619047619\n",
      "There are 234 concordant_pairs out of 276 pairs\n",
      "2016 0.6956521739130435\n",
      "There are 234 concordant_pairs out of 276 pairs\n",
      "2017 0.6956521739130435\n"
     ]
    }
   ],
   "source": [
    "avg_taus = []\n",
    "for year in train_years:\n",
    "    season_scores, world_scores = get_yearly_scores(year, season_train, world_train)\n",
    "    skater_coefs = train_avg(season_scores)\n",
    "    kendall_tau = evaluate_kendall_tau(skater_coefs, world_scores)\n",
    "    avg_taus.append(kendall_tau)\n",
    "    print(year, kendall_tau)"
   ]
  },
  {
   "cell_type": "markdown",
   "metadata": {},
   "source": [
    "## Normalized mean model"
   ]
  },
  {
   "cell_type": "code",
   "execution_count": 108,
   "metadata": {
    "scrolled": true
   },
   "outputs": [],
   "source": [
    "season_scores['score_normed'] = season_scores.groupby('event')['score'].transform(lambda score: (score - score.mean()) / score.std())"
   ]
  },
  {
   "cell_type": "code",
   "execution_count": 109,
   "metadata": {},
   "outputs": [
    {
     "data": {
      "text/plain": [
       "name\n",
       "Yuzuru, HANYU        1.668135\n",
       "Javier, FERNANDEZ    1.440927\n",
       "Shoma, UNO           1.326910\n",
       "Nathan, CHEN         1.104096\n",
       "Patrick, CHAN        1.090843\n",
       "Name: score_normed, dtype: float64"
      ]
     },
     "execution_count": 109,
     "metadata": {},
     "output_type": "execute_result"
    }
   ],
   "source": [
    "season_normed_avg = season_scores.groupby('name')['score_normed'].mean().sort_values(ascending=False)\n",
    "season_normed_avg.head()"
   ]
  },
  {
   "cell_type": "code",
   "execution_count": 110,
   "metadata": {},
   "outputs": [
    {
     "name": "stdout",
     "output_type": "stream",
     "text": [
      "There are 222 concordant_pairs out of 276 pairs\n"
     ]
    },
    {
     "data": {
      "text/plain": [
       "0.6086956521739131"
      ]
     },
     "execution_count": 110,
     "metadata": {},
     "output_type": "execute_result"
    }
   ],
   "source": [
    "skater_ranking_normed_avg, world_ranking = return_ranking(season_normed_avg, world_scores)\n",
    "calculate_kendall_tau(skater_ranking_normed_avg, world_ranking)"
   ]
  },
  {
   "cell_type": "markdown",
   "metadata": {},
   "source": [
    "### Refactored"
   ]
  },
  {
   "cell_type": "code",
   "execution_count": 176,
   "metadata": {},
   "outputs": [],
   "source": [
    "def train_norm_avg(season_scores):\n",
    "    season_scores = season_scores.copy()\n",
    "    season_scores['score_normed'] = season_scores.groupby('event')['score'].transform(lambda score: (score - score.mean()) / score.std())\n",
    "    season_normed_avg = season_scores.groupby('name')['score_normed'].mean().sort_values(ascending=False)\n",
    "    return season_normed_avg"
   ]
  },
  {
   "cell_type": "code",
   "execution_count": 179,
   "metadata": {},
   "outputs": [
    {
     "name": "stdout",
     "output_type": "stream",
     "text": [
      "There are 166 concordant_pairs out of 210 pairs\n",
      "2005 0.580952380952381\n",
      "There are 207 concordant_pairs out of 253 pairs\n",
      "2006 0.6363636363636364\n",
      "There are 225 concordant_pairs out of 276 pairs\n",
      "2007 0.6304347826086957\n",
      "There are 223 concordant_pairs out of 276 pairs\n",
      "2009 0.6159420289855072\n",
      "There are 184 concordant_pairs out of 231 pairs\n",
      "2010 0.5930735930735931\n",
      "There are 189 concordant_pairs out of 253 pairs\n",
      "2012 0.49407114624505927\n",
      "There are 189 concordant_pairs out of 253 pairs\n",
      "2013 0.49407114624505927\n",
      "There are 177 concordant_pairs out of 210 pairs\n",
      "2014 0.6857142857142857\n",
      "There are 223 concordant_pairs out of 276 pairs\n",
      "2016 0.6159420289855072\n",
      "There are 222 concordant_pairs out of 276 pairs\n",
      "2017 0.6086956521739131\n"
     ]
    }
   ],
   "source": [
    "avg_normed_taus = []\n",
    "for year in train_years:\n",
    "    season_scores, world_scores = get_yearly_scores(year, season_train, world_train)\n",
    "    skater_coefs = train_norm_avg(season_scores)\n",
    "    kendall_tau = evaluate_kendall_tau(skater_coefs, world_scores)\n",
    "    avg_normed_taus.append(kendall_tau)\n",
    "    print(year, kendall_tau)"
   ]
  },
  {
   "cell_type": "markdown",
   "metadata": {},
   "source": [
    "## Linear model"
   ]
  },
  {
   "cell_type": "code",
   "execution_count": 111,
   "metadata": {},
   "outputs": [
    {
     "data": {
      "text/plain": [
       "array([ 262.83064921,  -58.77196129,  -27.74060019,  -38.56497213,\n",
       "        -16.6525816 , -100.78064921,  -36.58476179,    3.9048582 ,\n",
       "        -45.88750626,  -35.41149857])"
      ]
     },
     "execution_count": 111,
     "metadata": {},
     "output_type": "execute_result"
    }
   ],
   "source": [
    "dummies = pd.get_dummies(season_scores[['name', 'event']], prefix=['', ''], prefix_sep='', drop_first=True)\n",
    "X = dummies.values\n",
    "X = np.insert(X, 0, 1, axis=1)\n",
    "y = season_scores['score'].values\n",
    "coefs_linear = np.linalg.inv(X.T @ X) @ (X.T @ y)\n",
    "coefs_linear[:10]"
   ]
  },
  {
   "cell_type": "code",
   "execution_count": 112,
   "metadata": {},
   "outputs": [
    {
     "data": {
      "text/plain": [
       "8.838699611397724"
      ]
     },
     "execution_count": 112,
     "metadata": {},
     "output_type": "execute_result"
    }
   ],
   "source": [
    "linear_rmse = np.sqrt(np.mean((y - X @ coefs_linear)**2))\n",
    "linear_rmse"
   ]
  },
  {
   "cell_type": "markdown",
   "metadata": {},
   "source": [
    "Double check with sklearn's LinearRegression"
   ]
  },
  {
   "cell_type": "code",
   "execution_count": 113,
   "metadata": {},
   "outputs": [
    {
     "data": {
      "text/plain": [
       "(array([ 262.83064921,  -58.77196129,  -27.74060019,  -38.56497213,\n",
       "         -16.6525816 , -100.78064921,  -36.58476179,    3.9048582 ,\n",
       "         -45.88750626,  -35.41149857]), 0.0)"
      ]
     },
     "execution_count": 113,
     "metadata": {},
     "output_type": "execute_result"
    }
   ],
   "source": [
    "lin = LinearRegression(fit_intercept=False)\n",
    "lin.fit(X, y)\n",
    "lin.coef_[:10], lin.intercept_"
   ]
  },
  {
   "cell_type": "markdown",
   "metadata": {},
   "source": [
    "Add removed baseline skater back to skater scores"
   ]
  },
  {
   "cell_type": "code",
   "execution_count": 114,
   "metadata": {},
   "outputs": [
    {
     "data": {
      "text/plain": [
       "'Adam, RIPPON'"
      ]
     },
     "execution_count": 114,
     "metadata": {},
     "output_type": "execute_result"
    }
   ],
   "source": [
    "removed_skater = list(set(season_scores['name']) - set(dummies.columns[:-7]))[0]\n",
    "removed_skater"
   ]
  },
  {
   "cell_type": "code",
   "execution_count": 115,
   "metadata": {
    "scrolled": true
   },
   "outputs": [
    {
     "data": {
      "text/plain": [
       "Yuzuru, HANYU                   38.439919\n",
       "Javier, FERNANDEZ               27.616843\n",
       "Nathan, CHEN                    27.606706\n",
       "Shoma, UNO                      26.752743\n",
       "Patrick, CHAN                   15.395005\n",
       "Denis, TEN                      14.099427\n",
       "Boyang, JIN                      3.904858\n",
       "Adam, RIPPON                     0.000000\n",
       "Jason, BROWN                   -11.758589\n",
       "CA                             -12.882929\n",
       "Sergei, VORONOV                -13.772388\n",
       "Alexei, BYCHENKO               -16.652582\n",
       "Takahito, MURA                 -17.279147\n",
       "Mikhail, KOLYADA               -17.805915\n",
       "Max, AARON                     -19.136215\n",
       "Maxim, KOVTUN                  -22.346583\n",
       "Kevin, REYNOLDS                -22.704185\n",
       "Misha, GE                      -24.466314\n",
       "Keiji, TANAKA                  -24.817807\n",
       "Nam, NGUYEN                    -26.401923\n",
       "Alexander, PETROV              -27.740600\n",
       "Jorik, HENDRICKX               -28.292281\n",
       "Moris, KVITELASHVILI           -31.234972\n",
       "Timothy, DOLENSKY              -31.691296\n",
       "Han, YAN                       -32.130617\n",
       "Daniel, SAMOHIN                -34.135600\n",
       "Gordei, GORSHKOV               -34.718950\n",
       "Chafik, BESSEGHIER             -35.411499\n",
       "Artur, DMITRIEV                -36.584762\n",
       "Deniss, VASILJEVS              -37.295915\n",
       "                                  ...    \n",
       "Michal, BREZINA                -41.012058\n",
       "Elladj, BALDE                  -42.191386\n",
       "Grant, HOCHSTEIN               -42.630731\n",
       "Paul, FENTZ                    -43.584972\n",
       "Brendan, KERRY                 -45.887506\n",
       "Michael Christian, MARTINEZ    -48.680649\n",
       "Ross, MINER                    -49.220600\n",
       "Alexander, MAJOROV             -58.771961\n",
       "Julian Zhi Jie, YEE            -60.160649\n",
       "Ivan, RIGHINI                  -64.317773\n",
       "Ivan, PAVLOV                   -66.564972\n",
       "Sihyeong, LEE                  -67.110649\n",
       "Jinseo, KIM                    -67.780649\n",
       "Kevin, AYMOZ                   -69.964972\n",
       "Graham, NEWBERRY               -71.374972\n",
       "Stephane, WALKER               -72.694972\n",
       "Javier, RAYA                   -73.894972\n",
       "June Hyoung, LEE               -75.250649\n",
       "Maurizio, ZANDRON              -83.034972\n",
       "Jiri, BELOHRADSKY              -87.814972\n",
       "Slavik, HAYRAPETYAN            -88.654972\n",
       "Chih-I, TSAO                   -93.200649\n",
       "Daniel Albert, NAURITS         -93.334972\n",
       "Andrew, DODDS                 -100.780649\n",
       "Mark, WEBSTER                 -102.800649\n",
       "Valtter, VIRTANEN             -105.344972\n",
       "Sondre, ODDVOLL BOE           -106.584972\n",
       "Leslie, IP                    -116.090649\n",
       "Kai Xiang, CHEW               -124.370649\n",
       "Micah, TANG                   -127.040649\n",
       "Length: 63, dtype: float64"
      ]
     },
     "execution_count": 115,
     "metadata": {},
     "output_type": "execute_result"
    }
   ],
   "source": [
    "linear_scores = pd.Series(coefs_linear[1:-7], index=dummies.columns[:-7])\n",
    "linear_scores[removed_skater] = 0\n",
    "linear_scores.sort_values(ascending=False, inplace=True)\n",
    "linear_scores"
   ]
  },
  {
   "cell_type": "code",
   "execution_count": 116,
   "metadata": {},
   "outputs": [],
   "source": [
    "linear_ranking, world_ranking = return_ranking(linear_scores, world_scores)"
   ]
  },
  {
   "cell_type": "code",
   "execution_count": 117,
   "metadata": {
    "scrolled": true
   },
   "outputs": [
    {
     "name": "stdout",
     "output_type": "stream",
     "text": [
      "There are 239 concordant_pairs out of 276 pairs\n"
     ]
    },
    {
     "data": {
      "text/plain": [
       "0.7318840579710145"
      ]
     },
     "execution_count": 117,
     "metadata": {},
     "output_type": "execute_result"
    }
   ],
   "source": [
    "calculate_kendall_tau(linear_ranking, world_ranking)"
   ]
  },
  {
   "cell_type": "markdown",
   "metadata": {},
   "source": [
    "### Refactored"
   ]
  },
  {
   "cell_type": "code",
   "execution_count": 129,
   "metadata": {},
   "outputs": [],
   "source": [
    "def fit_linear(X, y):\n",
    "    coefs = np.linalg.inv(X.T @ X) @ (X.T @ y)\n",
    "    return coefs    "
   ]
  },
  {
   "cell_type": "code",
   "execution_count": 156,
   "metadata": {
    "scrolled": true
   },
   "outputs": [],
   "source": [
    "def train_linear(season_scores):\n",
    "    dummies = pd.get_dummies(season_scores[['name', 'event']], prefix=['', ''], prefix_sep='', drop_first=True)\n",
    "    unique_skaters = season_scores['name'].unique()\n",
    "    dummies_skater_count = len(unique_skaters) - 1\n",
    "    dummies_skaters = dummies.columns[:dummies_skater_count]\n",
    "    dummies_events = dummies.columns[dummies_skater_count:]\n",
    "    \n",
    "    removed_skater = list(set(unique_skaters) - set(dummies_skaters))[0]\n",
    "    \n",
    "    X = dummies.values\n",
    "    X = np.insert(X, 0, 1, axis=1)\n",
    "    y = season_scores['score'].values\n",
    "    coefs = fit_linear(X, y)\n",
    "    \n",
    "    baseline = coefs[0]    \n",
    "    skater_coefs = pd.Series(coefs[1:dummies_skater_count+1], index=dummies_skaters)\n",
    "    event_coefs = pd.Series(coefs[dummies_skater_count+1:], index=dummies_events)\n",
    "    skater_coefs[removed_skater] = 0\n",
    "    skater_coefs.sort_values(ascending=False, inplace=True)\n",
    "    \n",
    "    return baseline, skater_coefs, event_coefs"
   ]
  },
  {
   "cell_type": "code",
   "execution_count": 165,
   "metadata": {},
   "outputs": [
    {
     "name": "stdout",
     "output_type": "stream",
     "text": [
      "There are 239 concordant_pairs out of 276 pairs\n"
     ]
    },
    {
     "data": {
      "text/plain": [
       "0.7318840579710145"
      ]
     },
     "execution_count": 165,
     "metadata": {},
     "output_type": "execute_result"
    }
   ],
   "source": [
    "baseline, skater_coefs, event_coefs = train_linear(season_scores)\n",
    "evaluate_kendall_tau(skater_coefs, world_scores)"
   ]
  },
  {
   "cell_type": "code",
   "execution_count": 180,
   "metadata": {},
   "outputs": [
    {
     "name": "stdout",
     "output_type": "stream",
     "text": [
      "There are 175 concordant_pairs out of 210 pairs\n",
      "2005 0.6666666666666666\n",
      "There are 205 concordant_pairs out of 253 pairs\n",
      "2006 0.6205533596837944\n",
      "There are 221 concordant_pairs out of 276 pairs\n",
      "2007 0.6014492753623188\n",
      "There are 219 concordant_pairs out of 276 pairs\n",
      "2009 0.5869565217391305\n",
      "There are 196 concordant_pairs out of 231 pairs\n",
      "2010 0.696969696969697\n",
      "There are 195 concordant_pairs out of 253 pairs\n",
      "2012 0.541501976284585\n",
      "There are 214 concordant_pairs out of 253 pairs\n",
      "2013 0.691699604743083\n",
      "There are 190 concordant_pairs out of 210 pairs\n",
      "2014 0.8095238095238095\n",
      "There are 231 concordant_pairs out of 276 pairs\n",
      "2016 0.6739130434782609\n",
      "There are 239 concordant_pairs out of 276 pairs\n",
      "2017 0.7318840579710145\n"
     ]
    }
   ],
   "source": [
    "linear_taus = []\n",
    "for year in train_years:\n",
    "    season_scores = season_train.loc[season_train['year']==year].copy()\n",
    "    world_scores = world_train.loc[world_train['year']==year, ['name', 'score']].set_index('name').squeeze()\n",
    "    \n",
    "    baseline, skater_coefs, event_coefs = train_linear(season_scores)\n",
    "    kendall_tau = evaluate_kendall(skater_coefs, world_scores)\n",
    "    \n",
    "    linear_taus.append(kendall_tau)\n",
    "    print(year, kendall_tau)"
   ]
  },
  {
   "cell_type": "code",
   "execution_count": 184,
   "metadata": {},
   "outputs": [
    {
     "data": {
      "text/plain": [
       "[<matplotlib.lines.Line2D at 0x7ff69c3f5ef0>]"
      ]
     },
     "execution_count": 184,
     "metadata": {},
     "output_type": "execute_result"
    },
    {
     "data": {
      "image/png": "[encoded data removed]",
      "text/plain": [
       "<Figure size 432x288 with 1 Axes>"
      ]
     },
     "metadata": {},
     "output_type": "display_data"
    }
   ],
   "source": [
    "plt.plot(avg_taus)\n",
    "plt.plot(avg_normed_taus)\n",
    "plt.plot(linear_taus)"
   ]
  },
  {
   "cell_type": "markdown",
   "metadata": {},
   "source": [
    "## Log-linear Model"
   ]
  },
  {
   "cell_type": "code",
   "execution_count": 24,
   "metadata": {},
   "outputs": [
    {
     "data": {
      "text/plain": [
       "array([5.16809478, 0.49459088, 0.19838603, 0.0984977 , 0.37400975,\n",
       "       0.39169951, 0.22751535, 0.01262078, 0.47378959, 0.20474553])"
      ]
     },
     "execution_count": 24,
     "metadata": {},
     "output_type": "execute_result"
    }
   ],
   "source": [
    "coefs_log_linear = np.linalg.inv(X.T @ X) @ (X.T @ np.log(y))\n",
    "coefs_log_linear[:10]"
   ]
  },
  {
   "cell_type": "code",
   "execution_count": 310,
   "metadata": {
    "scrolled": true
   },
   "outputs": [
    {
     "data": {
      "text/plain": [
       "Nathan CHEN              1.733042\n",
       "Yuzuru HANYU             1.720821\n",
       "Shoma UNO                1.703357\n",
       "Javier FERNANDEZ         1.645501\n",
       "Sergei VORONOV           1.639868\n",
       "Adam RIPPON              1.639827\n",
       "Boyang JIN               1.606069\n",
       "Mikhail KOLYADA          1.601338\n",
       "Jason BROWN              1.534569\n",
       "Misha GE                 1.486425\n",
       "Alexei BYCHENKO          1.479493\n",
       "Keiji TANAKA             1.474397\n",
       "Dmitri ALIEV             1.471624\n",
       "Max AARON                1.466575\n",
       "Patrick CHAN             1.465519\n",
       "Alexander SAMARIN        1.453551\n",
       "Kazuki TOMONO            1.426848\n",
       "Vincent ZHOU             1.416828\n",
       "Deniss VASILJEVS         1.413764\n",
       "Han YAN                  1.410000\n",
       "Moris KVITELASHVILI      1.384449\n",
       "Ross MINER               1.375140\n",
       "Keegan MESSING           1.372633\n",
       "Michal BREZINA           1.370840\n",
       "Nicolas NADEAU           1.368474\n",
       "Nam NGUYEN               1.360689\n",
       "Jorik HENDRICKX          1.357298\n",
       "Elladj BALDE             1.356647\n",
       "Kevin REYNOLDS           1.331618\n",
       "Liam FIRUS               1.320102\n",
       "                           ...   \n",
       "Jun Hwan CHA             1.254489\n",
       "Roman SADOVSKY           1.252916\n",
       "Phillip HARRIS           1.242154\n",
       "Takahito MURA            1.239483\n",
       "Brendan KERRY            1.227213\n",
       "Hiroaki SATO             1.225491\n",
       "Alexander MAJOROV        1.219433\n",
       "June Hyoung LEE          1.206629\n",
       "Romain PONSART           1.186406\n",
       "Paul FENTZ               1.182630\n",
       "Slavik HAYRAPETYAN       1.173013\n",
       "Irakli MAYSURADZE        1.140739\n",
       "Julian Zhi Jie YEE       1.125869\n",
       "Chih-I TSAO              1.111801\n",
       "Stephane WALKER          1.106079\n",
       "Alexander PETROV         1.103512\n",
       "Daniel SAMOHIN           1.087697\n",
       "Valtter VIRTANEN         1.084364\n",
       "Felipe MONTOYA           1.084066\n",
       "Donovan CARRILLO         1.058834\n",
       "Daniel Albert NAURITS    1.050539\n",
       "Geon Hyeong AN           1.026655\n",
       "He ZHANG                 1.022955\n",
       "Sondre ODDVOLL BOE       1.017967\n",
       "Andrew DODDS             1.012701\n",
       "Sihyeong LEE             1.008486\n",
       "Burak DEMIRBOGA          0.997565\n",
       "Igor REZNICHENKO         0.988199\n",
       "Leslie Man Cheuk IP      0.855621\n",
       "Abzal RAKIMGALIEV        0.000000\n",
       "Length: 66, dtype: float64"
      ]
     },
     "execution_count": 310,
     "metadata": {},
     "output_type": "execute_result"
    }
   ],
   "source": [
    "log_linear_scores = pd.Series(np.exp(coefs_log_linear[1:-7]), index=dummies.columns[:-7])\n",
    "log_linear_scores[removed_skater] = 0\n",
    "log_linear_scores.sort_values(ascending=False, inplace=True)\n",
    "log_linear_scores"
   ]
  },
  {
   "cell_type": "code",
   "execution_count": 249,
   "metadata": {},
   "outputs": [
    {
     "data": {
      "text/plain": [
       "9.08027831543983"
      ]
     },
     "execution_count": 249,
     "metadata": {},
     "output_type": "execute_result"
    }
   ],
   "source": [
    "log_linear_rmse = np.sqrt(np.mean((y - np.exp(X @ coefs_log_linear))**2))\n",
    "log_linear_rmse"
   ]
  },
  {
   "cell_type": "code",
   "execution_count": 27,
   "metadata": {},
   "outputs": [],
   "source": [
    "log_linear_ranking, world_ranking = return_ranking(log_linear_scores, world_scores)"
   ]
  },
  {
   "cell_type": "code",
   "execution_count": 28,
   "metadata": {
    "scrolled": true
   },
   "outputs": [
    {
     "name": "stdout",
     "output_type": "stream",
     "text": [
      "There are 220 concordant_pairs out of 276 pairs\n"
     ]
    },
    {
     "data": {
      "text/plain": [
       "0.5942028985507246"
      ]
     },
     "execution_count": 28,
     "metadata": {},
     "output_type": "execute_result"
    }
   ],
   "source": [
    "calculate_kendall_tau(linear_ranking, world_ranking)"
   ]
  },
  {
   "cell_type": "markdown",
   "metadata": {},
   "source": [
    "## Hybrid Model"
   ]
  },
  {
   "cell_type": "code",
   "execution_count": 275,
   "metadata": {},
   "outputs": [],
   "source": [
    "season_table = pd.pivot_table(season_scores[['name', 'event', 'score']], values='score', index='name', columns='event')\n",
    "skater_names = list(season_table.index)\n",
    "event_names = list(season_table.columns)"
   ]
  },
  {
   "cell_type": "code",
   "execution_count": 276,
   "metadata": {},
   "outputs": [],
   "source": [
    "true_scores = season_table.values\n",
    "skater_scores = np.full(len(season_skaters), 0.5)\n",
    "event_scores = np.full(len(season_events), 0.5)\n",
    "bias = 0.5\n",
    "\n",
    "alpha = 0.0001\n",
    "rmses = []\n",
    "\n",
    "for _ in range(1000):\n",
    "    diff = np.outer(skater_scores, event_scores) + bias - true_scores\n",
    "    event_gradients = np.nansum(diff * event_scores, axis=0)\n",
    "    skater_gradients = np.nansum(diff.T * skater_scores, axis=0)\n",
    "    bias_gradient = np.nansum(diff)\n",
    "    \n",
    "    event_scores = event_scores - alpha * event_gradients\n",
    "    skater_scores = skater_scores - alpha * skater_gradients\n",
    "    bias = bias - alpha * bias_gradient\n",
    "    rmse = np.sqrt(np.nanmean(diff**2))\n",
    "    rmses.append(rmse)"
   ]
  },
  {
   "cell_type": "code",
   "execution_count": 277,
   "metadata": {
    "scrolled": true
   },
   "outputs": [
    {
     "data": {
      "text/plain": [
       "9.047782871609904"
      ]
     },
     "execution_count": 277,
     "metadata": {},
     "output_type": "execute_result"
    }
   ],
   "source": [
    "rmse"
   ]
  },
  {
   "cell_type": "code",
   "execution_count": 278,
   "metadata": {},
   "outputs": [
    {
     "data": {
      "text/plain": [
       "[<matplotlib.lines.Line2D at 0x7f3162e1bf60>]"
      ]
     },
     "execution_count": 278,
     "metadata": {},
     "output_type": "execute_result"
    },
    {
     "data": {
      "image/png": "[encoded data removed]",
      "text/plain": [
       "<Figure size 432x288 with 1 Axes>"
      ]
     },
     "metadata": {},
     "output_type": "display_data"
    }
   ],
   "source": [
    "plt.plot(rmses)"
   ]
  },
  {
   "cell_type": "code",
   "execution_count": 279,
   "metadata": {},
   "outputs": [
    {
     "data": {
      "text/plain": [
       "array([0.77434344, 1.4839178 , 1.01688369, 0.88325953, 1.26964063,\n",
       "       1.30028012, 1.05315747, 0.7882844 , 1.44790508, 1.01938724,\n",
       "       0.76332247, 1.05390647, 0.8970631 , 0.82203724, 0.8670238 ,\n",
       "       1.07435182, 1.22718768, 1.29687885, 0.83892243, 1.16582853,\n",
       "       0.85919582, 0.80360077, 1.06336054, 1.22597097, 0.79789311,\n",
       "       1.01611155, 0.75294136, 0.92200696, 1.35873849, 1.48790859,\n",
       "       1.1605461 , 0.91250486, 1.04301417, 1.00115494, 1.24164   ,\n",
       "       1.17804156, 1.29496702, 1.11147954, 1.14032151, 0.61587589,\n",
       "       1.12633641, 1.10851647, 1.28759303, 1.17626834, 1.43572158,\n",
       "       1.30901487, 1.19912701, 1.17029254, 1.5880575 , 1.16870432,\n",
       "       1.27571523, 0.96631702, 1.03440278, 0.97466705, 1.0503799 ,\n",
       "       1.18856043, 1.48451142, 1.546375  , 0.78365824, 0.95777564,\n",
       "       0.78593584, 0.88359317, 1.03614753, 0.85952641, 1.23563316,\n",
       "       1.56941367])"
      ]
     },
     "execution_count": 279,
     "metadata": {},
     "output_type": "execute_result"
    }
   ],
   "source": [
    "skater_scores"
   ]
  },
  {
   "cell_type": "code",
   "execution_count": 280,
   "metadata": {},
   "outputs": [
    {
     "data": {
      "text/plain": [
       "array([159.94807505, 152.04073827, 152.03626145, 151.26217232,\n",
       "       151.77138818, 145.12464692, 152.30723698, 141.25772751])"
      ]
     },
     "execution_count": 280,
     "metadata": {},
     "output_type": "execute_result"
    }
   ],
   "source": [
    "event_scores"
   ]
  },
  {
   "cell_type": "code",
   "execution_count": 281,
   "metadata": {},
   "outputs": [
    {
     "data": {
      "text/plain": [
       "51.73835014722577"
      ]
     },
     "execution_count": 281,
     "metadata": {},
     "output_type": "execute_result"
    }
   ],
   "source": [
    "bias"
   ]
  },
  {
   "cell_type": "code",
   "execution_count": 311,
   "metadata": {
    "scrolled": true
   },
   "outputs": [
    {
     "data": {
      "text/plain": [
       "Nathan CHEN              1.588058\n",
       "Yuzuru HANYU             1.569414\n",
       "Shoma UNO                1.546375\n",
       "Javier FERNANDEZ         1.487909\n",
       "Sergei VORONOV           1.484511\n",
       "Adam RIPPON              1.483918\n",
       "Boyang JIN               1.447905\n",
       "Mikhail KOLYADA          1.435722\n",
       "Jason BROWN              1.358738\n",
       "Misha GE                 1.309015\n",
       "Alexei BYCHENKO          1.300280\n",
       "Dmitri ALIEV             1.296879\n",
       "Keiji TANAKA             1.294967\n",
       "Max AARON                1.287593\n",
       "Patrick CHAN             1.275715\n",
       "Alexander SAMARIN        1.269641\n",
       "Kazuki TOMONO            1.241640\n",
       "Vincent ZHOU             1.235633\n",
       "Deniss VASILJEVS         1.227188\n",
       "Han YAN                  1.225971\n",
       "Moris KVITELASHVILI      1.199127\n",
       "Ross MINER               1.188560\n",
       "Keegan MESSING           1.178042\n",
       "Michal BREZINA           1.176268\n",
       "Nam NGUYEN               1.170293\n",
       "Nicolas NADEAU           1.168704\n",
       "Elladj BALDE             1.165829\n",
       "Jorik HENDRICKX          1.160546\n",
       "Kevin REYNOLDS           1.140322\n",
       "Liam FIRUS               1.126336\n",
       "                           ...   \n",
       "Roman SADOVSKY           1.050380\n",
       "Jun Hwan CHA             1.043014\n",
       "Takahito MURA            1.036148\n",
       "Phillip HARRIS           1.034403\n",
       "Brendan KERRY            1.019387\n",
       "Alexander MAJOROV        1.016884\n",
       "Hiroaki SATO             1.016112\n",
       "June Hyoung LEE          1.001155\n",
       "Romain PONSART           0.974667\n",
       "Paul FENTZ               0.966317\n",
       "Slavik HAYRAPETYAN       0.957776\n",
       "Irakli MAYSURADZE        0.922007\n",
       "Julian Zhi Jie YEE       0.912505\n",
       "Chih-I TSAO              0.897063\n",
       "Stephane WALKER          0.883593\n",
       "Alexander PETROV         0.883260\n",
       "Daniel SAMOHIN           0.867024\n",
       "Valtter VIRTANEN         0.859526\n",
       "Felipe MONTOYA           0.859196\n",
       "Donovan CARRILLO         0.838922\n",
       "Daniel Albert NAURITS    0.822037\n",
       "Geon Hyeong AN           0.803601\n",
       "He ZHANG                 0.797893\n",
       "Andrew DODDS             0.788284\n",
       "Sondre ODDVOLL BOE       0.785936\n",
       "Sihyeong LEE             0.783658\n",
       "Abzal RAKIMGALIEV        0.774343\n",
       "Burak DEMIRBOGA          0.763322\n",
       "Igor REZNICHENKO         0.752941\n",
       "Leslie Man Cheuk IP      0.615876\n",
       "Length: 66, dtype: float64"
      ]
     },
     "execution_count": 311,
     "metadata": {},
     "output_type": "execute_result"
    }
   ],
   "source": [
    "hybrid_scores = pd.Series(skater_scores, index=skater_names)\n",
    "hybrid_scores.sort_values(ascending=False, inplace=True)\n",
    "hybrid_scores"
   ]
  },
  {
   "cell_type": "code",
   "execution_count": 303,
   "metadata": {},
   "outputs": [],
   "source": [
    "hybrid_ranking, world_ranking = return_ranking(hybrid_scores, world_scores)"
   ]
  },
  {
   "cell_type": "code",
   "execution_count": 304,
   "metadata": {},
   "outputs": [
    {
     "name": "stdout",
     "output_type": "stream",
     "text": [
      "There are 220 concordant_pairs out of 276 pairs\n"
     ]
    },
    {
     "data": {
      "text/plain": [
       "0.5942028985507246"
      ]
     },
     "execution_count": 304,
     "metadata": {},
     "output_type": "execute_result"
    }
   ],
   "source": [
    "calculate_kendall_tau(hybrid_ranking, world_ranking)"
   ]
  },
  {
   "cell_type": "markdown",
   "metadata": {},
   "source": [
    "## Combine models"
   ]
  },
  {
   "cell_type": "code",
   "execution_count": 545,
   "metadata": {},
   "outputs": [
    {
     "data": {
      "text/plain": [
       "array([[125.32481261,   1.73304236,   1.5880575 ],\n",
       "       [121.77432722,   1.70335746,   1.546375  ],\n",
       "       [103.75487315,   1.60133816,   1.43572158],\n",
       "       [ 83.23826378,   1.47949306,   1.30028012],\n",
       "       [ 74.42927755,   1.42684776,   1.24164   ],\n",
       "       [ 72.15888832,   1.41376437,   1.22718768],\n",
       "       [ 82.58222165,   1.47162408,   1.29687885],\n",
       "       [ 65.11279983,   1.37263338,   1.17804156],\n",
       "       [ 84.88173091,   1.48642516,   1.30901487],\n",
       "       [ 64.75481796,   1.37083986,   1.17626834],\n",
       "       [ 81.6412972 ,   1.46657536,   1.28759303],\n",
       "       [ 40.29804314,   1.21943304,   1.01688369],\n",
       "       [ 82.84861602,   1.4743971 ,   1.29496702],\n",
       "       [ 73.5169458 ,   1.41682785,   1.23563316],\n",
       "       [ 32.82258817,   1.18262982,   0.96631702],\n",
       "       [ 34.0527569 ,   1.18640629,   0.97466705],\n",
       "       [ 54.32885423,   1.30902789,   1.10851647],\n",
       "       [ 40.05316105,   1.22721274,   1.01938724],\n",
       "       [105.80944136,   1.60606901,   1.44790508],\n",
       "       [ 17.01853317,   1.08769711,   0.8670238 ],\n",
       "       [ 22.1       ,   1.12586855,   0.91250486],\n",
       "       [ 10.33      ,   1.05883358,   0.83892243],\n",
       "       [ 31.52885423,   1.17301259,   0.95777564],\n",
       "       [ 43.11885423,   1.2421537 ,   1.03440278]])"
      ]
     },
     "execution_count": 545,
     "metadata": {},
     "output_type": "execute_result"
    }
   ],
   "source": [
    "all_scores = pd.concat([linear_scores, log_linear_scores, hybrid_scores], axis=1, sort=True)\n",
    "all_scores = all_scores.reindex(world_scores.index).values\n",
    "# all_scores_mean = all_scores.mean(axis=0)\n",
    "# all_scores_std = all_scores.std(axis=0)\n",
    "# all_scores = (all_scores - all_scores_mean) / all_scores_std\n",
    "all_scores"
   ]
  },
  {
   "cell_type": "code",
   "execution_count": 508,
   "metadata": {},
   "outputs": [],
   "source": [
    "from itertools import combinations"
   ]
  },
  {
   "cell_type": "code",
   "execution_count": 547,
   "metadata": {},
   "outputs": [],
   "source": [
    "score_diffs = np.array(list(skater1 - skater2 for skater1, skater2 in combinations(all_scores, 2)))"
   ]
  },
  {
   "cell_type": "code",
   "execution_count": 549,
   "metadata": {},
   "outputs": [
    {
     "data": {
      "text/plain": [
       "array([[125.32481261,   1.73304236,   1.5880575 ],\n",
       "       [121.77432722,   1.70335746,   1.546375  ],\n",
       "       [103.75487315,   1.60133816,   1.43572158],\n",
       "       [ 83.23826378,   1.47949306,   1.30028012],\n",
       "       [ 74.42927755,   1.42684776,   1.24164   ],\n",
       "       [ 72.15888832,   1.41376437,   1.22718768],\n",
       "       [ 82.58222165,   1.47162408,   1.29687885],\n",
       "       [ 65.11279983,   1.37263338,   1.17804156],\n",
       "       [ 84.88173091,   1.48642516,   1.30901487],\n",
       "       [ 64.75481796,   1.37083986,   1.17626834],\n",
       "       [ 81.6412972 ,   1.46657536,   1.28759303],\n",
       "       [ 40.29804314,   1.21943304,   1.01688369],\n",
       "       [ 82.84861602,   1.4743971 ,   1.29496702],\n",
       "       [ 73.5169458 ,   1.41682785,   1.23563316],\n",
       "       [ 32.82258817,   1.18262982,   0.96631702],\n",
       "       [ 34.0527569 ,   1.18640629,   0.97466705],\n",
       "       [ 54.32885423,   1.30902789,   1.10851647],\n",
       "       [ 40.05316105,   1.22721274,   1.01938724],\n",
       "       [105.80944136,   1.60606901,   1.44790508],\n",
       "       [ 17.01853317,   1.08769711,   0.8670238 ],\n",
       "       [ 22.1       ,   1.12586855,   0.91250486],\n",
       "       [ 10.33      ,   1.05883358,   0.83892243],\n",
       "       [ 31.52885423,   1.17301259,   0.95777564],\n",
       "       [ 43.11885423,   1.2421537 ,   1.03440278]])"
      ]
     },
     "execution_count": 549,
     "metadata": {},
     "output_type": "execute_result"
    }
   ],
   "source": [
    "all_scores"
   ]
  },
  {
   "cell_type": "code",
   "execution_count": 551,
   "metadata": {},
   "outputs": [
    {
     "data": {
      "text/plain": [
       "<matplotlib.collections.PathCollection at 0x7f3160ec4be0>"
      ]
     },
     "execution_count": 551,
     "metadata": {},
     "output_type": "execute_result"
    },
    {
     "data": {
      "image/png": "[encoded data removed]",
      "text/plain": [
       "<Figure size 432x288 with 1 Axes>"
      ]
     },
     "metadata": {},
     "output_type": "display_data"
    }
   ],
   "source": [
    "plt.scatter(all_scores[:, 1], all_scores[:, 2])"
   ]
  },
  {
   "cell_type": "code",
   "execution_count": 520,
   "metadata": {},
   "outputs": [],
   "source": [
    "pairwise_status = np.full(len(score_diffs), 1)"
   ]
  },
  {
   "cell_type": "code",
   "execution_count": 521,
   "metadata": {},
   "outputs": [],
   "source": [
    "log = BatchLogistic(theta=[0.5, 0.5, 0.5], alpha=0.02)"
   ]
  },
  {
   "cell_type": "code",
   "execution_count": 522,
   "metadata": {},
   "outputs": [],
   "source": [
    "log.fit(score_diffs, pairwise_status, n_iter=20000)"
   ]
  },
  {
   "cell_type": "code",
   "execution_count": 523,
   "metadata": {
    "scrolled": false
   },
   "outputs": [
    {
     "data": {
      "text/plain": [
       "[<matplotlib.lines.Line2D at 0x7f3161cdcfd0>]"
      ]
     },
     "execution_count": 523,
     "metadata": {},
     "output_type": "execute_result"
    },
    {
     "data": {
      "image/png": "[encoded data removed]",
      "text/plain": [
       "<Figure size 432x288 with 1 Axes>"
      ]
     },
     "metadata": {},
     "output_type": "display_data"
    }
   ],
   "source": [
    "plt.plot(log.avg_log_likelihoods)"
   ]
  },
  {
   "cell_type": "code",
   "execution_count": 524,
   "metadata": {
    "scrolled": true
   },
   "outputs": [
    {
     "data": {
      "text/plain": [
       "array([-13.26761937,  32.45687541, -17.62218192])"
      ]
     },
     "execution_count": 524,
     "metadata": {},
     "output_type": "execute_result"
    }
   ],
   "source": [
    "log.theta"
   ]
  },
  {
   "cell_type": "code",
   "execution_count": 527,
   "metadata": {},
   "outputs": [],
   "source": [
    "combined_scores = pd.Series(all_scores @ log.theta, index=world_scores.index).sort_values(ascending=False)"
   ]
  },
  {
   "cell_type": "code",
   "execution_count": 529,
   "metadata": {},
   "outputs": [],
   "source": [
    "combined_ranking, world_ranking = return_ranking(combined_scores, world_scores)"
   ]
  },
  {
   "cell_type": "code",
   "execution_count": 530,
   "metadata": {},
   "outputs": [
    {
     "name": "stdout",
     "output_type": "stream",
     "text": [
      "There are 217 concordant_pairs out of 276 pairs\n"
     ]
    },
    {
     "data": {
      "text/plain": [
       "0.572463768115942"
      ]
     },
     "execution_count": 530,
     "metadata": {},
     "output_type": "execute_result"
    }
   ],
   "source": [
    "calculate_kendall_tau(combined_ranking, world_ranking)"
   ]
  }
 ],
 "metadata": {
  "kernelspec": {
   "display_name": "Python 3",
   "language": "python",
   "name": "python3"
  },
  "language_info": {
   "codemirror_mode": {
    "name": "ipython",
    "version": 3
   },
   "file_extension": ".py",
   "mimetype": "text/x-python",
   "name": "python",
   "nbconvert_exporter": "python",
   "pygments_lexer": "ipython3",
   "version": "3.6.5"
  }
 },
 "nbformat": 4,
 "nbformat_minor": 2
}
