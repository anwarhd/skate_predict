{
 "cells": [
  {
   "cell_type": "code",
   "execution_count": 1,
   "metadata": {},
   "outputs": [
    {
     "data": {
      "text/plain": [
       "[<matplotlib.lines.Line2D at 0x7f3183526c88>]"
      ]
     },
     "execution_count": 1,
     "metadata": {},
     "output_type": "execute_result"
    },
    {
     "data": {
      "image/png": "[encoded data removed]",
      "text/plain": [
       "<Figure size 432x288 with 1 Axes>"
      ]
     },
     "metadata": {},
     "output_type": "display_data"
    }
   ],
   "source": [
    "import matplotlib.pyplot as plt\n",
    "%matplotlib inline\n",
    "\n",
    "plt.plot([1, 2, 3])"
   ]
  },
  {
   "cell_type": "code",
   "execution_count": 2,
   "metadata": {},
   "outputs": [],
   "source": [
    "from bs4 import BeautifulSoup"
   ]
  },
  {
   "cell_type": "code",
   "execution_count": 3,
   "metadata": {},
   "outputs": [],
   "source": [
    "from urllib.request import urlopen"
   ]
  },
  {
   "cell_type": "code",
   "execution_count": 4,
   "metadata": {},
   "outputs": [],
   "source": [
    "import pandas as pd\n",
    "import numpy as np\n",
    "from sklearn.linear_model import LinearRegression\n",
    "from itertools import combinations\n",
    "from scipy.stats import kendalltau"
   ]
  },
  {
   "cell_type": "markdown",
   "metadata": {},
   "source": [
    "## Scrap scores from result pages"
   ]
  },
  {
   "cell_type": "code",
   "execution_count": 5,
   "metadata": {},
   "outputs": [],
   "source": [
    "links = {\n",
    "    'US': 'http://www.isuresults.com/results/season1718/gpusa2017/CAT001RS.HTM',\n",
    "    'CA': 'http://www.isuresults.com/results/season1718/gpcan2017/CAT001RS.HTM',\n",
    "    'FR': 'http://www.isuresults.com/results/season1718/gpfra2017/CAT001RS.HTM',\n",
    "    'RU': 'http://www.isuresults.com/results/season1718/gprus2017/CAT001RS.HTM',\n",
    "    'CN': 'http://www.isuresults.com/results/season1718/gpchn2017/CAT001RS.HTM',\n",
    "    'JP': 'http://www.isuresults.com/results/season1718/gpjpn2017/data0190.htm',\n",
    "    'EU': 'http://www.isuresults.com/results/season1718/ec2018/CAT001RS.HTM',\n",
    "    '4C': 'http://www.isuresults.com/results/season1718/fc2018/CAT001RS.HTM',\n",
    "    'WR': 'http://www.isuresults.com/results/season1718/wc2018/CAT001RS.HTM'\n",
    "}"
   ]
  },
  {
   "cell_type": "code",
   "execution_count": 6,
   "metadata": {},
   "outputs": [],
   "source": [
    "def parse_score(link, event_name, year):\n",
    "    html = urlopen(link)\n",
    "    bs = BeautifulSoup(html.read(), 'html.parser')\n",
    "\n",
    "    table_str = str(bs.findAll('table')[0])\n",
    "    table = pd.read_html(table_str)[0]\n",
    "    if year == 2017 and event_name == 'JP':\n",
    "        table = table[[1, 5]].dropna().iloc[1:-1]\n",
    "    else:\n",
    "        table = table[[1, 6, 8]].dropna().iloc[2:, :2]\n",
    "    table.columns = ['name', 'score']\n",
    "    table['event'] = event_name\n",
    "    table['score'] = table['score'].astype(float)\n",
    "    table['year'] = year\n",
    "    return table"
   ]
  },
  {
   "cell_type": "code",
   "execution_count": 7,
   "metadata": {},
   "outputs": [],
   "source": [
    "# scores = pd.concat((parse_score(link, event_name, 2017) for event_name, link in links.items()), axis=0)\n",
    "# scores['name'] = scores['name'].str.replace('\\xa0', ' ')\n",
    "# scores.reset_index(drop=True, inplace=True)\n",
    "scores = pd.read_csv('scores/2017.csv', names=['name', 'score', 'event', 'year'])"
   ]
  },
  {
   "cell_type": "code",
   "execution_count": 8,
   "metadata": {},
   "outputs": [],
   "source": [
    "season_scores = scores.loc[scores['event'] != 'WR'].copy()\n",
    "world_scores = scores.loc[scores['event'] == 'WR', ['name', 'score']].set_index('name').squeeze()"
   ]
  },
  {
   "cell_type": "markdown",
   "metadata": {},
   "source": [
    "## Implement kendall tau metrics"
   ]
  },
  {
   "cell_type": "code",
   "execution_count": 9,
   "metadata": {},
   "outputs": [],
   "source": [
    "def return_ranking(skater_scores, world_scores):\n",
    "    skater_scores = skater_scores.sort_values(ascending=False)\n",
    "    world_scores = world_scores.sort_values(ascending=False)\n",
    "    skater_ranking = list(skater_scores.index.intersection(world_scores.index))\n",
    "    world_ranking = list(world_scores.index.intersection(skater_scores.index))\n",
    "    return skater_ranking, world_ranking"
   ]
  },
  {
   "cell_type": "code",
   "execution_count": 10,
   "metadata": {},
   "outputs": [],
   "source": [
    "def calculate_kendall_tau(skater_ranking, world_ranking, verbose=True):\n",
    "    skater_pairs = set(combinations(skater_ranking, 2))\n",
    "    world_pairs = set(combinations(world_ranking, 2))\n",
    "    n_pairs = len(skater_pairs)\n",
    "    n_concordant_pairs = len(set(skater_pairs) & set(world_pairs))\n",
    "    print(f'There are {n_concordant_pairs} concordant_pairs out of {n_pairs} pairs')\n",
    "    tau = (2 * n_concordant_pairs - n_pairs) / n_pairs\n",
    "    return tau "
   ]
  },
  {
   "cell_type": "markdown",
   "metadata": {},
   "source": [
    "## Skater mean model"
   ]
  },
  {
   "cell_type": "code",
   "execution_count": 11,
   "metadata": {
    "scrolled": false
   },
   "outputs": [
    {
     "data": {
      "text/plain": [
       "name\n",
       "Shoma UNO           290.786667\n",
       "Yuzuru HANYU        290.770000\n",
       "Nathan CHEN         284.835000\n",
       "Javier FERNANDEZ    277.440000\n",
       "Boyang JIN          270.486667\n",
       "Name: score, dtype: float64"
      ]
     },
     "execution_count": 11,
     "metadata": {},
     "output_type": "execute_result"
    }
   ],
   "source": [
    "season_avg = season_scores.groupby('name')['score'].mean().sort_values(ascending=False)\n",
    "season_avg.head()"
   ]
  },
  {
   "cell_type": "code",
   "execution_count": 12,
   "metadata": {},
   "outputs": [
    {
     "name": "stdout",
     "output_type": "stream",
     "text": [
      "There are 213 concordant_pairs out of 276 pairs\n"
     ]
    },
    {
     "data": {
      "text/plain": [
       "0.5434782608695652"
      ]
     },
     "execution_count": 12,
     "metadata": {},
     "output_type": "execute_result"
    }
   ],
   "source": [
    "skater_ranking_avg, world_ranking = return_ranking(season_avg, world_scores)\n",
    "calculate_kendall_tau(skater_ranking_avg, world_ranking)"
   ]
  },
  {
   "cell_type": "markdown",
   "metadata": {},
   "source": [
    "Result agrees with kendalltau from scipy"
   ]
  },
  {
   "cell_type": "code",
   "execution_count": 13,
   "metadata": {},
   "outputs": [
    {
     "data": {
      "text/plain": [
       "KendalltauResult(correlation=0.5434782608695652, pvalue=0.00019870245032364205)"
      ]
     },
     "execution_count": 13,
     "metadata": {},
     "output_type": "execute_result"
    }
   ],
   "source": [
    "season_numeric_rank = list(range(len(skater_ranking_avg)))\n",
    "world_numeric_rank = [skater_ranking_avg.index(skater) for skater in world_ranking]\n",
    "kendalltau(season_numeric_rank, world_numeric_rank)"
   ]
  },
  {
   "cell_type": "markdown",
   "metadata": {},
   "source": [
    "RMSE with mean model"
   ]
  },
  {
   "cell_type": "code",
   "execution_count": 14,
   "metadata": {},
   "outputs": [
    {
     "data": {
      "text/plain": [
       "10.099364225465914"
      ]
     },
     "execution_count": 14,
     "metadata": {},
     "output_type": "execute_result"
    }
   ],
   "source": [
    "score_comparison = pd.merge(season_scores, season_avg.to_frame(), left_on='name', right_index=True, suffixes=['', '_avg'])\n",
    "score_comparison['sq_error'] = (score_comparison['score'] - score_comparison['score_avg'])**2\n",
    "np.sqrt(score_comparison['sq_error'].mean())"
   ]
  },
  {
   "cell_type": "markdown",
   "metadata": {},
   "source": [
    "## Normalized mean model"
   ]
  },
  {
   "cell_type": "code",
   "execution_count": 15,
   "metadata": {
    "scrolled": true
   },
   "outputs": [],
   "source": [
    "season_scores['score_normed'] = season_scores.groupby('event')['score'].transform(lambda score: (score - score.mean()) / score.std())"
   ]
  },
  {
   "cell_type": "code",
   "execution_count": 16,
   "metadata": {},
   "outputs": [
    {
     "data": {
      "text/plain": [
       "name\n",
       "Shoma UNO           1.813727\n",
       "Nathan CHEN         1.587136\n",
       "Javier FERNANDEZ    1.574291\n",
       "Yuzuru HANYU        1.487765\n",
       "Sergei VORONOV      1.300975\n",
       "Name: score_normed, dtype: float64"
      ]
     },
     "execution_count": 16,
     "metadata": {},
     "output_type": "execute_result"
    }
   ],
   "source": [
    "season_normed_avg = season_scores.groupby('name')['score_normed'].mean().sort_values(ascending=False)\n",
    "season_normed_avg.head()"
   ]
  },
  {
   "cell_type": "code",
   "execution_count": 17,
   "metadata": {},
   "outputs": [
    {
     "name": "stdout",
     "output_type": "stream",
     "text": [
      "There are 202 concordant_pairs out of 276 pairs\n"
     ]
    },
    {
     "data": {
      "text/plain": [
       "0.463768115942029"
      ]
     },
     "execution_count": 17,
     "metadata": {},
     "output_type": "execute_result"
    }
   ],
   "source": [
    "skater_ranking_normed_avg, world_ranking = return_ranking(season_normed_avg, world_scores)\n",
    "calculate_kendall_tau(skater_ranking_normed_avg, world_ranking)"
   ]
  },
  {
   "cell_type": "markdown",
   "metadata": {},
   "source": [
    "## Linear model"
   ]
  },
  {
   "cell_type": "code",
   "execution_count": 18,
   "metadata": {},
   "outputs": [
    {
     "data": {
      "text/plain": [
       "array([175.58      , 109.3451848 ,  40.29804314,  19.81723204,\n",
       "        78.8139453 ,  83.23826378,  45.36853317,   2.23      ,\n",
       "       105.80944136,  40.05316105])"
      ]
     },
     "execution_count": 18,
     "metadata": {},
     "output_type": "execute_result"
    }
   ],
   "source": [
    "dummies = pd.get_dummies(season_scores[['name', 'event']], prefix=['', ''], prefix_sep='', drop_first=True)\n",
    "X = dummies.values\n",
    "X = np.insert(X, 0, 1, axis=1)\n",
    "y = season_scores['score'].values\n",
    "coefs_linear = np.linalg.inv(X.T @ X) @ (X.T @ y)\n",
    "coefs_linear[:10]"
   ]
  },
  {
   "cell_type": "markdown",
   "metadata": {},
   "source": [
    "Double check with sklearn's LinearRegression"
   ]
  },
  {
   "cell_type": "code",
   "execution_count": 19,
   "metadata": {},
   "outputs": [
    {
     "data": {
      "text/plain": [
       "(array([175.58      , 109.3451848 ,  40.29804314,  19.81723204,\n",
       "         78.8139453 ,  83.23826378,  45.36853317,   2.23      ,\n",
       "        105.80944136,  40.05316105]), 0.0)"
      ]
     },
     "execution_count": 19,
     "metadata": {},
     "output_type": "execute_result"
    }
   ],
   "source": [
    "lin = LinearRegression(fit_intercept=False)\n",
    "lin.fit(X, y)\n",
    "lin.coef_[:10], lin.intercept_"
   ]
  },
  {
   "cell_type": "markdown",
   "metadata": {},
   "source": [
    "Add removed baseline skater back to skater scores"
   ]
  },
  {
   "cell_type": "code",
   "execution_count": 20,
   "metadata": {},
   "outputs": [
    {
     "data": {
      "text/plain": [
       "'Abzal RAKIMGALIEV'"
      ]
     },
     "execution_count": 20,
     "metadata": {},
     "output_type": "execute_result"
    }
   ],
   "source": [
    "removed_skater = list(set(season_scores['name']) - set(dummies.columns[:-7]))[0]\n",
    "removed_skater"
   ]
  },
  {
   "cell_type": "code",
   "execution_count": 21,
   "metadata": {
    "scrolled": true
   },
   "outputs": [],
   "source": [
    "linear_scores = pd.Series(coefs_linear[1:-7], index=dummies.columns[:-7])\n",
    "linear_scores[removed_skater] = 0"
   ]
  },
  {
   "cell_type": "code",
   "execution_count": 22,
   "metadata": {},
   "outputs": [],
   "source": [
    "linear_ranking, world_ranking = return_ranking(linear_scores, world_scores)"
   ]
  },
  {
   "cell_type": "code",
   "execution_count": 23,
   "metadata": {
    "scrolled": true
   },
   "outputs": [
    {
     "name": "stdout",
     "output_type": "stream",
     "text": [
      "There are 220 concordant_pairs out of 276 pairs\n"
     ]
    },
    {
     "data": {
      "text/plain": [
       "0.5942028985507246"
      ]
     },
     "execution_count": 23,
     "metadata": {},
     "output_type": "execute_result"
    }
   ],
   "source": [
    "calculate_kendall_tau(linear_ranking, world_ranking)"
   ]
  },
  {
   "cell_type": "markdown",
   "metadata": {},
   "source": [
    "## Log-linear Model"
   ]
  },
  {
   "cell_type": "code",
   "execution_count": 24,
   "metadata": {},
   "outputs": [
    {
     "data": {
      "text/plain": [
       "array([5.16809478, 0.49459088, 0.19838603, 0.0984977 , 0.37400975,\n",
       "       0.39169951, 0.22751535, 0.01262078, 0.47378959, 0.20474553])"
      ]
     },
     "execution_count": 24,
     "metadata": {},
     "output_type": "execute_result"
    }
   ],
   "source": [
    "coefs_log_linear = np.linalg.inv(X.T @ X) @ (X.T @ np.log(y))\n",
    "coefs_log_linear[:10]"
   ]
  },
  {
   "cell_type": "code",
   "execution_count": 25,
   "metadata": {},
   "outputs": [],
   "source": [
    "log_linear_scores = pd.Series(np.exp(coefs_log_linear[1:-7]), index=dummies.columns[:-7])\n",
    "log_linear_scores[removed_skater] = 0"
   ]
  },
  {
   "cell_type": "code",
   "execution_count": 26,
   "metadata": {
    "scrolled": true
   },
   "outputs": [
    {
     "data": {
      "text/plain": [
       "Nathan CHEN              1.733042\n",
       "Yuzuru HANYU             1.720821\n",
       "Shoma UNO                1.703357\n",
       "Javier FERNANDEZ         1.645501\n",
       "Sergei VORONOV           1.639868\n",
       "Adam RIPPON              1.639827\n",
       "Boyang JIN               1.606069\n",
       "Mikhail KOLYADA          1.601338\n",
       "Jason BROWN              1.534569\n",
       "Misha GE                 1.486425\n",
       "Alexei BYCHENKO          1.479493\n",
       "Keiji TANAKA             1.474397\n",
       "Dmitri ALIEV             1.471624\n",
       "Max AARON                1.466575\n",
       "Patrick CHAN             1.465519\n",
       "Alexander SAMARIN        1.453551\n",
       "Kazuki TOMONO            1.426848\n",
       "Vincent ZHOU             1.416828\n",
       "Deniss VASILJEVS         1.413764\n",
       "Han YAN                  1.410000\n",
       "Moris KVITELASHVILI      1.384449\n",
       "Ross MINER               1.375140\n",
       "Keegan MESSING           1.372633\n",
       "Michal BREZINA           1.370840\n",
       "Nicolas NADEAU           1.368474\n",
       "Nam NGUYEN               1.360689\n",
       "Jorik HENDRICKX          1.357298\n",
       "Elladj BALDE             1.356647\n",
       "Kevin REYNOLDS           1.331618\n",
       "Liam FIRUS               1.320102\n",
       "                           ...   \n",
       "Jun Hwan CHA             1.254489\n",
       "Roman SADOVSKY           1.252916\n",
       "Phillip HARRIS           1.242154\n",
       "Takahito MURA            1.239483\n",
       "Brendan KERRY            1.227213\n",
       "Hiroaki SATO             1.225491\n",
       "Alexander MAJOROV        1.219433\n",
       "June Hyoung LEE          1.206629\n",
       "Romain PONSART           1.186406\n",
       "Paul FENTZ               1.182630\n",
       "Slavik HAYRAPETYAN       1.173013\n",
       "Irakli MAYSURADZE        1.140739\n",
       "Julian Zhi Jie YEE       1.125869\n",
       "Chih-I TSAO              1.111801\n",
       "Stephane WALKER          1.106079\n",
       "Alexander PETROV         1.103512\n",
       "Daniel SAMOHIN           1.087697\n",
       "Valtter VIRTANEN         1.084364\n",
       "Felipe MONTOYA           1.084066\n",
       "Donovan CARRILLO         1.058834\n",
       "Daniel Albert NAURITS    1.050539\n",
       "Geon Hyeong AN           1.026655\n",
       "He ZHANG                 1.022955\n",
       "Sondre ODDVOLL BOE       1.017967\n",
       "Andrew DODDS             1.012701\n",
       "Sihyeong LEE             1.008486\n",
       "Burak DEMIRBOGA          0.997565\n",
       "Igor REZNICHENKO         0.988199\n",
       "Leslie Man Cheuk IP      0.855621\n",
       "Abzal RAKIMGALIEV        0.000000\n",
       "Length: 66, dtype: float64"
      ]
     },
     "execution_count": 26,
     "metadata": {},
     "output_type": "execute_result"
    }
   ],
   "source": [
    "log_linear_scores.sort_values(ascending=False)"
   ]
  },
  {
   "cell_type": "code",
   "execution_count": 27,
   "metadata": {},
   "outputs": [],
   "source": [
    "log_linear_ranking, world_ranking = return_ranking(log_linear_scores, world_scores)"
   ]
  },
  {
   "cell_type": "code",
   "execution_count": 28,
   "metadata": {
    "scrolled": true
   },
   "outputs": [
    {
     "name": "stdout",
     "output_type": "stream",
     "text": [
      "There are 220 concordant_pairs out of 276 pairs\n"
     ]
    },
    {
     "data": {
      "text/plain": [
       "0.5942028985507246"
      ]
     },
     "execution_count": 28,
     "metadata": {},
     "output_type": "execute_result"
    }
   ],
   "source": [
    "calculate_kendall_tau(linear_ranking, world_ranking)"
   ]
  },
  {
   "cell_type": "markdown",
   "metadata": {},
   "source": [
    "## Hybrid Model"
   ]
  },
  {
   "cell_type": "code",
   "execution_count": 118,
   "metadata": {},
   "outputs": [],
   "source": [
    "season_table = pd.pivot_table(season_scores[['name', 'event', 'score']], values='score', index='name', columns='event')\n",
    "season_skaters = list(season_table.index)\n",
    "season_events = list(season_table.columns)"
   ]
  },
  {
   "cell_type": "code",
   "execution_count": 165,
   "metadata": {},
   "outputs": [],
   "source": [
    "true_scores = season_table.values\n",
    "skater_scores = np.full(len(season_skaters), 0.5)\n",
    "event_scores = np.full(len(season_events), 0.5)\n",
    "bias = 0.5\n",
    "\n",
    "alpha = 0.0001\n",
    "rmses = []\n",
    "\n",
    "for _ in range(1000):\n",
    "    diff = np.outer(skater_scores, event_scores) + bias - true_scores\n",
    "    event_gradients = np.nansum(diff * event_scores, axis=0)\n",
    "    skater_gradients = np.nansum(diff.T * skater_scores, axis=0)\n",
    "    bias_gradient = np.nansum(diff)\n",
    "    \n",
    "    event_scores = event_scores - alpha * event_gradients\n",
    "    skater_scores = skater_scores - alpha * skater_gradients\n",
    "    bias = bias - alpha * bias_gradient\n",
    "    rmse = np.nansum(diff**2)\n",
    "    rmses.append(rmse)"
   ]
  },
  {
   "cell_type": "code",
   "execution_count": 166,
   "metadata": {
    "scrolled": true
   },
   "outputs": [
    {
     "data": {
      "text/plain": [
       "9496.035487448517"
      ]
     },
     "execution_count": 166,
     "metadata": {},
     "output_type": "execute_result"
    }
   ],
   "source": [
    "rmse"
   ]
  },
  {
   "cell_type": "code",
   "execution_count": 173,
   "metadata": {},
   "outputs": [
    {
     "data": {
      "text/plain": [
       "[<matplotlib.lines.Line2D at 0x7f31682a4be0>]"
      ]
     },
     "execution_count": 173,
     "metadata": {},
     "output_type": "execute_result"
    },
    {
     "data": {
      "image/png": "[encoded data removed]",
      "text/plain": [
       "<Figure size 432x288 with 1 Axes>"
      ]
     },
     "metadata": {},
     "output_type": "display_data"
    }
   ],
   "source": [
    "plt.plot(rmses)"
   ]
  },
  {
   "cell_type": "code",
   "execution_count": 174,
   "metadata": {},
   "outputs": [
    {
     "data": {
      "text/plain": [
       "array([0.77434344, 1.4839178 , 1.01688369, 0.88325953, 1.26964063,\n",
       "       1.30028012, 1.05315747, 0.7882844 , 1.44790508, 1.01938724,\n",
       "       0.76332247, 1.05390647, 0.8970631 , 0.82203724, 0.8670238 ,\n",
       "       1.07435182, 1.22718768, 1.29687885, 0.83892243, 1.16582853,\n",
       "       0.85919582, 0.80360077, 1.06336054, 1.22597097, 0.79789311,\n",
       "       1.01611155, 0.75294136, 0.92200696, 1.35873849, 1.48790859,\n",
       "       1.1605461 , 0.91250486, 1.04301417, 1.00115494, 1.24164   ,\n",
       "       1.17804156, 1.29496702, 1.11147954, 1.14032151, 0.61587589,\n",
       "       1.12633641, 1.10851647, 1.28759303, 1.17626834, 1.43572158,\n",
       "       1.30901487, 1.19912701, 1.17029254, 1.5880575 , 1.16870432,\n",
       "       1.27571523, 0.96631702, 1.03440278, 0.97466705, 1.0503799 ,\n",
       "       1.18856043, 1.48451142, 1.546375  , 0.78365824, 0.95777564,\n",
       "       0.78593584, 0.88359317, 1.03614753, 0.85952641, 1.23563316,\n",
       "       1.56941367])"
      ]
     },
     "execution_count": 174,
     "metadata": {},
     "output_type": "execute_result"
    }
   ],
   "source": [
    "skater_scores"
   ]
  },
  {
   "cell_type": "code",
   "execution_count": 167,
   "metadata": {},
   "outputs": [
    {
     "data": {
      "text/plain": [
       "array([159.94807505, 152.04073827, 152.03626145, 151.26217232,\n",
       "       151.77138818, 145.12464692, 152.30723698, 141.25772751])"
      ]
     },
     "execution_count": 167,
     "metadata": {},
     "output_type": "execute_result"
    }
   ],
   "source": [
    "event_scores"
   ]
  },
  {
   "cell_type": "code",
   "execution_count": 168,
   "metadata": {},
   "outputs": [
    {
     "data": {
      "text/plain": [
       "51.73835014722577"
      ]
     },
     "execution_count": 168,
     "metadata": {},
     "output_type": "execute_result"
    }
   ],
   "source": [
    "bias"
   ]
  },
  {
   "cell_type": "code",
   "execution_count": 170,
   "metadata": {
    "scrolled": true
   },
   "outputs": [],
   "source": [
    "hybrid_scores = pd.Series(skater_scores, index=season_skaters).sort_values(ascending=False)"
   ]
  },
  {
   "cell_type": "code",
   "execution_count": 171,
   "metadata": {},
   "outputs": [],
   "source": [
    "hybrid_ranking, world_ranking = return_ranking(hybrid_scores, world_scores)"
   ]
  },
  {
   "cell_type": "code",
   "execution_count": 172,
   "metadata": {},
   "outputs": [
    {
     "name": "stdout",
     "output_type": "stream",
     "text": [
      "There are 220 concordant_pairs out of 276 pairs\n"
     ]
    },
    {
     "data": {
      "text/plain": [
       "0.5942028985507246"
      ]
     },
     "execution_count": 172,
     "metadata": {},
     "output_type": "execute_result"
    }
   ],
   "source": [
    "calculate_kendall_tau(hybrid_ranking, world_ranking)"
   ]
  }
 ],
 "metadata": {
  "kernelspec": {
   "display_name": "Python 3",
   "language": "python",
   "name": "python3"
  },
  "language_info": {
   "codemirror_mode": {
    "name": "ipython",
    "version": 3
   },
   "file_extension": ".py",
   "mimetype": "text/x-python",
   "name": "python",
   "nbconvert_exporter": "python",
   "pygments_lexer": "ipython3",
   "version": "3.6.5"
  }
 },
 "nbformat": 4,
 "nbformat_minor": 2
}
